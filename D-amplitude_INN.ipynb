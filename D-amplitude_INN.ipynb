{
 "cells": [
  {
   "cell_type": "code",
   "execution_count": 1,
   "metadata": {},
   "outputs": [
    {
     "name": "stdout",
     "output_type": "stream",
     "text": [
      "Python 3.9.12 (main, Apr  5 2022, 01:53:17) \n",
      "[Clang 12.0.0 ]\n"
     ]
    }
   ],
   "source": [
    "import os\n",
    "import sys\n",
    "import random\n",
    "import numpy as np\n",
    "import matplotlib.pyplot as plt\n",
    "import seaborn as sns\n",
    "from tqdm import tqdm\n",
    "\n",
    "sns.set()\n",
    "sns.set_style(\"ticks\")\n",
    "sns.set_context(\"paper\", font_scale = 1.8)\n",
    "plt.rcParams['text.usetex'] = True\n",
    "plt.rcParams['font.size'] = 25\n",
    "\n",
    "import torch\n",
    "from torch import nn\n",
    "from torch.utils.data import Dataset\n",
    "from torch.utils.data import DataLoader\n",
    "from torch import Tensor\n",
    "from torch.nn.parameter import Parameter, UninitializedParameter\n",
    "from torch.nn import functional as F\n",
    "from torch.nn import init\n",
    "from torch.nn import Module\n",
    "import FrEIA.framework as Ff\n",
    "import FrEIA.modules as Fm\n",
    "from sklearn.model_selection import train_test_split\n",
    "\n",
    "print('Python', sys.version)"
   ]
  },
  {
   "cell_type": "code",
   "execution_count": 2,
   "metadata": {},
   "outputs": [],
   "source": [
    "class dalitz_dataset(Dataset):\n",
    "    \"\"\"\n",
    "    Creates Dalitz dataset so that it can be used by the pytorch syntax.\n",
    "    \"\"\"\n",
    "\n",
    "    def __init__(self, data):\n",
    "        self.data = data\n",
    "\n",
    "    def __len__(self):\n",
    "        return self.data.shape[0]\n",
    "\n",
    "    def __getitem__(self, idx):\n",
    "        sample = self.data[idx]\n",
    "        return sample"
   ]
  },
  {
   "cell_type": "code",
   "execution_count": 3,
   "metadata": {},
   "outputs": [],
   "source": [
    "def subnet_fc( dims_in, dims_out ):\n",
    "    return nn.Sequential( nn.Linear(dims_in, 100), \n",
    "                         nn.ReLU(),\n",
    "                         nn.Linear(100,  dims_out) )"
   ]
  },
  {
   "cell_type": "code",
   "execution_count": 4,
   "metadata": {},
   "outputs": [
    {
     "name": "stdout",
     "output_type": "stream",
     "text": [
      "Using cpu device\n"
     ]
    }
   ],
   "source": [
    "device = \"cuda\" if torch.cuda.is_available() else \"cpu\"\n",
    "print(f\"Using {device} device\")"
   ]
  },
  {
   "cell_type": "code",
   "execution_count": 5,
   "metadata": {},
   "outputs": [],
   "source": [
    "def inn_loss(z, ndim, log_jac_det):\n",
    "    l = 0.5*torch.sum(z**2, 1) - log_jac_det\n",
    "    l = l.mean() / ndim\n",
    "    return l"
   ]
  },
  {
   "cell_type": "code",
   "execution_count": 6,
   "metadata": {},
   "outputs": [],
   "source": [
    "def train(dataloader, model, optimizer, ndim, scheduler=None):\n",
    "\n",
    "    size = len(dataloader.dataset)\n",
    "    model.train()\n",
    "\n",
    "    for batch, X in enumerate(dataloader):\n",
    "        # Pass through the network\n",
    "        z, log_jac_det = model(X)\n",
    "        \n",
    "        loss = 0.0\n",
    "        \n",
    "        # Get the batch loss\n",
    "        loss = inn_loss(z, ndim, log_jac_det)\n",
    "\n",
    "        # Reset the gradients in the optimizer (see autograd tutorial in PyTorch docs)\n",
    "        optimizer.zero_grad()\n",
    "\n",
    "        # Compute gradients\n",
    "        loss.backward()\n",
    "\n",
    "        # Update the network weights\n",
    "        optimizer.step()\n",
    "        \n",
    "        if scheduler != None:\n",
    "            scheduler.step(loss)\n",
    "\n",
    "        # Print the loss every 100 updates\n",
    "        if batch % 100 == 0:\n",
    "            print(f'INN loss: {loss:>8f}, learning_rate: {optimizer.param_groups[0][\"lr\"]:>8f}')"
   ]
  },
  {
   "cell_type": "code",
   "execution_count": 7,
   "metadata": {},
   "outputs": [
    {
     "name": "stdout",
     "output_type": "stream",
     "text": [
      "Training set size:  (8000000, 2) Validation set size:  (2000000, 2)\n",
      "Model Architecture: \n",
      "SequenceINN(\n",
      "  (module_list): ModuleList(\n",
      "    (0-9): 10 x AllInOneBlock(\n",
      "      (softplus): Softplus(beta=0.5, threshold=20)\n",
      "      (subnet): Sequential(\n",
      "        (0): Linear(in_features=1, out_features=100, bias=True)\n",
      "        (1): ReLU()\n",
      "        (2): Linear(in_features=100, out_features=2, bias=True)\n",
      "      )\n",
      "    )\n",
      "  )\n",
      ")\n"
     ]
    },
    {
     "name": "stderr",
     "output_type": "stream",
     "text": [
      "  0%|                                                                        | 0/10 [00:00<?, ?it/s]"
     ]
    },
    {
     "name": "stdout",
     "output_type": "stream",
     "text": [
      "INN loss: 0.113507, learning_rate: 0.002000\n",
      "INN loss: -1.227138, learning_rate: 0.002000\n",
      "INN loss: -1.323889, learning_rate: 0.002000\n",
      "INN loss: -1.364935, learning_rate: 0.002000\n"
     ]
    },
    {
     "name": "stderr",
     "output_type": "stream",
     "text": [
      " 10%|██████▍                                                         | 1/10 [01:00<09:07, 60.80s/it]"
     ]
    },
    {
     "name": "stdout",
     "output_type": "stream",
     "text": [
      "INN loss: -1.384854, learning_rate: 0.002000\n",
      "INN loss: -1.403976, learning_rate: 0.002000\n",
      "INN loss: -1.409463, learning_rate: 0.002000\n",
      "INN loss: -1.415175, learning_rate: 0.002000\n"
     ]
    },
    {
     "name": "stderr",
     "output_type": "stream",
     "text": [
      " 20%|████████████▊                                                   | 2/10 [02:00<08:00, 60.02s/it]"
     ]
    },
    {
     "name": "stdout",
     "output_type": "stream",
     "text": [
      "INN loss: -1.418796, learning_rate: 0.002000\n",
      "INN loss: -1.420900, learning_rate: 0.002000\n",
      "INN loss: -1.430117, learning_rate: 0.002000\n",
      "INN loss: -1.434624, learning_rate: 0.002000\n"
     ]
    },
    {
     "name": "stderr",
     "output_type": "stream",
     "text": [
      " 30%|███████████████████▏                                            | 3/10 [03:01<07:03, 60.53s/it]"
     ]
    },
    {
     "name": "stdout",
     "output_type": "stream",
     "text": [
      "INN loss: -1.421668, learning_rate: 0.001800\n",
      "INN loss: -1.444133, learning_rate: 0.001800\n",
      "INN loss: -1.437454, learning_rate: 0.001800\n",
      "INN loss: -1.435542, learning_rate: 0.001620\n"
     ]
    },
    {
     "name": "stderr",
     "output_type": "stream",
     "text": [
      " 40%|█████████████████████████▌                                      | 4/10 [04:02<06:04, 60.79s/it]"
     ]
    },
    {
     "name": "stdout",
     "output_type": "stream",
     "text": [
      "INN loss: -1.430574, learning_rate: 0.001458\n",
      "INN loss: -1.439551, learning_rate: 0.001312\n",
      "INN loss: -1.448660, learning_rate: 0.001312\n",
      "INN loss: -1.437042, learning_rate: 0.001181\n"
     ]
    },
    {
     "name": "stderr",
     "output_type": "stream",
     "text": [
      " 50%|████████████████████████████████                                | 5/10 [05:01<05:00, 60.18s/it]"
     ]
    },
    {
     "name": "stdout",
     "output_type": "stream",
     "text": [
      "INN loss: -1.441501, learning_rate: 0.001181\n",
      "INN loss: -1.438299, learning_rate: 0.001181\n",
      "INN loss: -1.444548, learning_rate: 0.001181\n",
      "INN loss: -1.456833, learning_rate: 0.001063\n"
     ]
    },
    {
     "name": "stderr",
     "output_type": "stream",
     "text": [
      " 60%|██████████████████████████████████████▍                         | 6/10 [06:00<03:59, 59.80s/it]"
     ]
    },
    {
     "name": "stdout",
     "output_type": "stream",
     "text": [
      "INN loss: -1.441903, learning_rate: 0.000957\n",
      "INN loss: -1.445927, learning_rate: 0.000957\n",
      "INN loss: -1.443614, learning_rate: 0.000861\n",
      "INN loss: -1.447930, learning_rate: 0.000775\n"
     ]
    },
    {
     "name": "stderr",
     "output_type": "stream",
     "text": [
      " 70%|████████████████████████████████████████████▊                   | 7/10 [07:00<02:59, 59.81s/it]"
     ]
    },
    {
     "name": "stdout",
     "output_type": "stream",
     "text": [
      "INN loss: -1.450611, learning_rate: 0.000697\n",
      "INN loss: -1.450697, learning_rate: 0.000628\n",
      "INN loss: -1.447706, learning_rate: 0.000565\n",
      "INN loss: -1.437009, learning_rate: 0.000508\n"
     ]
    },
    {
     "name": "stderr",
     "output_type": "stream",
     "text": [
      " 80%|███████████████████████████████████████████████████▏            | 8/10 [08:01<02:00, 60.08s/it]"
     ]
    },
    {
     "name": "stdout",
     "output_type": "stream",
     "text": [
      "INN loss: -1.454773, learning_rate: 0.000458\n",
      "INN loss: -1.454934, learning_rate: 0.000458\n",
      "INN loss: -1.451427, learning_rate: 0.000412\n",
      "INN loss: -1.457476, learning_rate: 0.000412\n"
     ]
    },
    {
     "name": "stderr",
     "output_type": "stream",
     "text": [
      " 90%|█████████████████████████████████████████████████████████▌      | 9/10 [09:00<00:59, 59.78s/it]"
     ]
    },
    {
     "name": "stdout",
     "output_type": "stream",
     "text": [
      "INN loss: -1.455288, learning_rate: 0.000371\n",
      "INN loss: -1.455725, learning_rate: 0.000334\n",
      "INN loss: -1.450653, learning_rate: 0.000300\n",
      "INN loss: -1.455126, learning_rate: 0.000270\n"
     ]
    },
    {
     "name": "stderr",
     "output_type": "stream",
     "text": [
      "100%|███████████████████████████████████████████████████████████████| 10/10 [10:00<00:00, 60.00s/it]"
     ]
    },
    {
     "name": "stdout",
     "output_type": "stream",
     "text": [
      "Done!\n"
     ]
    },
    {
     "name": "stderr",
     "output_type": "stream",
     "text": [
      "\n"
     ]
    }
   ],
   "source": [
    "mp_thetap = np.load('D_Kspipi_SDP_1e7.npy')\n",
    "\n",
    "# Split data into train, validation\n",
    "mp_thetap_train, mp_thetap_val = train_test_split(mp_thetap, test_size=0.2)\n",
    "\n",
    "print(\"Training set size: \", mp_thetap_train.shape, \"Validation set size: \", mp_thetap_val.shape)\n",
    "\n",
    "# Convert into torch objects\n",
    "mp_thetap_train = torch.Tensor(mp_thetap_train)\n",
    "mp_thetap_val   = torch.Tensor(mp_thetap_val)\n",
    "\n",
    "trainset = dalitz_dataset(mp_thetap_train)\n",
    "valset   = dalitz_dataset(mp_thetap_val)\n",
    "\n",
    "batch_size = 20000\n",
    "\n",
    "train_dataloader = DataLoader(trainset, batch_size = batch_size, shuffle = True)\n",
    "val_dataloader = DataLoader(valset, batch_size = batch_size, shuffle = True)\n",
    "\n",
    "epochs = 10\n",
    "learning_rate = 0.002\n",
    "min_learning_rate = 1e-6\n",
    "\n",
    "n_dim = mp_thetap.shape[1]\n",
    "n_blocks = 10\n",
    "training_size = len(mp_thetap)\n",
    "\n",
    "# Define the model\n",
    "inn = Ff.SequenceINN( n_dim )\n",
    "for k in range(n_blocks):\n",
    "    inn.append( Fm.AllInOneBlock, subnet_constructor=subnet_fc, permute_soft=True )\n",
    "\n",
    "print(\"Model Architecture: \")\n",
    "print(inn)\n",
    "\n",
    "optimizer = torch.optim.Adam(inn.parameters(), lr=learning_rate)\n",
    "\n",
    "# Learning rate scheduler\n",
    "scheduler = torch.optim.lr_scheduler.ReduceLROnPlateau(optimizer, mode= 'min', factor = 0.90, patience = 100, min_lr = min_learning_rate)\n",
    "#scheduler = None\n",
    "\n",
    "for t in tqdm(range(epochs), ncols = 100):\n",
    "    train(train_dataloader, inn, optimizer,  n_dim, scheduler)\n",
    "    \n",
    "print(\"Done!\")"
   ]
  },
  {
   "cell_type": "code",
   "execution_count": null,
   "metadata": {},
   "outputs": [
    {
     "name": "stdout",
     "output_type": "stream",
     "text": [
      "Training set size:  (8000000, 2) Validation set size:  (2000000, 2)\n",
      "Model Architecture: \n",
      "SequenceINN(\n",
      "  (module_list): ModuleList(\n",
      "    (0-9): 10 x AllInOneBlock(\n",
      "      (softplus): Softplus(beta=0.5, threshold=20)\n",
      "      (subnet): Sequential(\n",
      "        (0): Linear(in_features=1, out_features=100, bias=True)\n",
      "        (1): ReLU()\n",
      "        (2): Linear(in_features=100, out_features=2, bias=True)\n",
      "      )\n",
      "    )\n",
      "  )\n",
      ")\n"
     ]
    },
    {
     "name": "stderr",
     "output_type": "stream",
     "text": [
      "  0%|                                                                        | 0/20 [00:00<?, ?it/s]"
     ]
    },
    {
     "name": "stdout",
     "output_type": "stream",
     "text": [
      "Batch 0, INN loss: 0.142592, learning_rate: 0.001000\n",
      "Batch 100, INN loss: -1.121505, learning_rate: 0.001000\n",
      "Batch 200, INN loss: -1.227150, learning_rate: 0.001000\n",
      "Batch 300, INN loss: -1.279975, learning_rate: 0.001000\n",
      "Batch 400, INN loss: -1.318270, learning_rate: 0.001000\n",
      "Batch 500, INN loss: -1.354253, learning_rate: 0.001000\n",
      "Batch 600, INN loss: -1.358151, learning_rate: 0.001000\n",
      "Batch 700, INN loss: -1.385055, learning_rate: 0.001000\n"
     ]
    },
    {
     "name": "stderr",
     "output_type": "stream",
     "text": [
      "  5%|███▏                                                            | 1/20 [00:51<16:17, 51.46s/it]"
     ]
    },
    {
     "name": "stdout",
     "output_type": "stream",
     "text": [
      "Average training loss for this epoch: -1.252240\n",
      "Batch 0, INN loss: -1.378560, learning_rate: 0.001000\n",
      "Batch 100, INN loss: -1.381493, learning_rate: 0.001000\n",
      "Batch 200, INN loss: -1.408252, learning_rate: 0.001000\n",
      "Batch 300, INN loss: -1.424468, learning_rate: 0.001000\n",
      "Batch 400, INN loss: -1.410328, learning_rate: 0.001000\n",
      "Batch 500, INN loss: -1.421649, learning_rate: 0.000900\n",
      "Batch 600, INN loss: -1.418421, learning_rate: 0.000900\n",
      "Batch 700, INN loss: -1.436762, learning_rate: 0.000900\n"
     ]
    },
    {
     "name": "stderr",
     "output_type": "stream",
     "text": [
      " 10%|██████▍                                                         | 2/20 [01:42<15:26, 51.50s/it]"
     ]
    },
    {
     "name": "stdout",
     "output_type": "stream",
     "text": [
      "Average training loss for this epoch: -1.414367\n",
      "Batch 0, INN loss: -1.439721, learning_rate: 0.000900\n",
      "Batch 100, INN loss: -1.422985, learning_rate: 0.000900\n",
      "Batch 200, INN loss: -1.441041, learning_rate: 0.000900\n",
      "Batch 300, INN loss: -1.435024, learning_rate: 0.000810\n",
      "Batch 400, INN loss: -1.435222, learning_rate: 0.000729\n",
      "Batch 500, INN loss: -1.448647, learning_rate: 0.000656\n",
      "Batch 600, INN loss: -1.446977, learning_rate: 0.000590\n",
      "Batch 700, INN loss: -1.438982, learning_rate: 0.000590\n"
     ]
    },
    {
     "name": "stderr",
     "output_type": "stream",
     "text": [
      " 15%|█████████▌                                                      | 3/20 [02:34<14:35, 51.52s/it]"
     ]
    },
    {
     "name": "stdout",
     "output_type": "stream",
     "text": [
      "Average training loss for this epoch: -1.441756\n",
      "Batch 0, INN loss: -1.445679, learning_rate: 0.000590\n",
      "Batch 100, INN loss: -1.447031, learning_rate: 0.000531\n",
      "Batch 200, INN loss: -1.454506, learning_rate: 0.000478\n",
      "Batch 300, INN loss: -1.450138, learning_rate: 0.000430\n",
      "Batch 400, INN loss: -1.445663, learning_rate: 0.000387\n",
      "Batch 500, INN loss: -1.441346, learning_rate: 0.000387\n",
      "Batch 600, INN loss: -1.441820, learning_rate: 0.000387\n",
      "Batch 700, INN loss: -1.455681, learning_rate: 0.000387\n"
     ]
    },
    {
     "name": "stderr",
     "output_type": "stream",
     "text": [
      " 20%|████████████▊                                                   | 4/20 [03:25<13:39, 51.20s/it]"
     ]
    },
    {
     "name": "stdout",
     "output_type": "stream",
     "text": [
      "Average training loss for this epoch: -1.450326\n",
      "Batch 0, INN loss: -1.459841, learning_rate: 0.000349\n",
      "Batch 100, INN loss: -1.464118, learning_rate: 0.000314\n",
      "Batch 200, INN loss: -1.459907, learning_rate: 0.000282\n",
      "Batch 300, INN loss: -1.446412, learning_rate: 0.000254\n",
      "Batch 400, INN loss: -1.461277, learning_rate: 0.000229\n",
      "Batch 500, INN loss: -1.457661, learning_rate: 0.000229\n",
      "Batch 600, INN loss: -1.456630, learning_rate: 0.000206\n",
      "Batch 700, INN loss: -1.442666, learning_rate: 0.000185\n"
     ]
    },
    {
     "name": "stderr",
     "output_type": "stream",
     "text": [
      " 25%|████████████████                                                | 5/20 [04:16<12:46, 51.09s/it]"
     ]
    },
    {
     "name": "stdout",
     "output_type": "stream",
     "text": [
      "Average training loss for this epoch: -1.454010\n",
      "Batch 0, INN loss: -1.454452, learning_rate: 0.000167\n",
      "Batch 100, INN loss: -1.456977, learning_rate: 0.000150\n",
      "Batch 200, INN loss: -1.464698, learning_rate: 0.000135\n",
      "Batch 300, INN loss: -1.467456, learning_rate: 0.000122\n",
      "Batch 400, INN loss: -1.470429, learning_rate: 0.000109\n",
      "Batch 500, INN loss: -1.453532, learning_rate: 0.000098\n",
      "Batch 600, INN loss: -1.446155, learning_rate: 0.000089\n",
      "Batch 700, INN loss: -1.461443, learning_rate: 0.000089\n"
     ]
    },
    {
     "name": "stderr",
     "output_type": "stream",
     "text": [
      " 30%|███████████████████▏                                            | 6/20 [05:06<11:53, 50.99s/it]"
     ]
    },
    {
     "name": "stdout",
     "output_type": "stream",
     "text": [
      "Average training loss for this epoch: -1.455684\n",
      "Batch 0, INN loss: -1.452388, learning_rate: 0.000080\n",
      "Batch 100, INN loss: -1.462229, learning_rate: 0.000072\n",
      "Batch 200, INN loss: -1.457134, learning_rate: 0.000065\n",
      "Batch 300, INN loss: -1.455155, learning_rate: 0.000058\n",
      "Batch 400, INN loss: -1.460084, learning_rate: 0.000058\n",
      "Batch 500, INN loss: -1.454095, learning_rate: 0.000052\n",
      "Batch 600, INN loss: -1.457420, learning_rate: 0.000047\n",
      "Batch 700, INN loss: -1.456995, learning_rate: 0.000042\n"
     ]
    },
    {
     "name": "stderr",
     "output_type": "stream",
     "text": [
      " 35%|██████████████████████▍                                         | 7/20 [05:57<11:03, 51.01s/it]"
     ]
    },
    {
     "name": "stdout",
     "output_type": "stream",
     "text": [
      "Average training loss for this epoch: -1.456441\n",
      "Batch 0, INN loss: -1.447670, learning_rate: 0.000038\n",
      "Batch 100, INN loss: -1.455083, learning_rate: 0.000034\n",
      "Batch 200, INN loss: -1.460469, learning_rate: 0.000031\n",
      "Batch 300, INN loss: -1.459865, learning_rate: 0.000028\n",
      "Batch 400, INN loss: -1.457254, learning_rate: 0.000025\n",
      "Batch 500, INN loss: -1.459403, learning_rate: 0.000023\n",
      "Batch 600, INN loss: -1.461591, learning_rate: 0.000020\n",
      "Batch 700, INN loss: -1.461221, learning_rate: 0.000018\n"
     ]
    },
    {
     "name": "stderr",
     "output_type": "stream",
     "text": [
      " 40%|█████████████████████████▌                                      | 8/20 [06:50<10:17, 51.48s/it]"
     ]
    },
    {
     "name": "stdout",
     "output_type": "stream",
     "text": [
      "Average training loss for this epoch: -1.456824\n",
      "Batch 0, INN loss: -1.461692, learning_rate: 0.000016\n",
      "Batch 100, INN loss: -1.453263, learning_rate: 0.000015\n",
      "Batch 200, INN loss: -1.463428, learning_rate: 0.000013\n",
      "Batch 300, INN loss: -1.464708, learning_rate: 0.000012\n",
      "Batch 400, INN loss: -1.458721, learning_rate: 0.000012\n",
      "Batch 500, INN loss: -1.465688, learning_rate: 0.000011\n",
      "Batch 600, INN loss: -1.453999, learning_rate: 0.000010\n",
      "Batch 700, INN loss: -1.458972, learning_rate: 0.000009\n"
     ]
    },
    {
     "name": "stderr",
     "output_type": "stream",
     "text": [
      " 45%|████████████████████████████▊                                   | 9/20 [07:43<09:31, 51.99s/it]"
     ]
    },
    {
     "name": "stdout",
     "output_type": "stream",
     "text": [
      "Average training loss for this epoch: -1.456995\n",
      "Batch 0, INN loss: -1.449196, learning_rate: 0.000008\n",
      "Batch 100, INN loss: -1.457408, learning_rate: 0.000007\n",
      "Batch 200, INN loss: -1.446129, learning_rate: 0.000006\n",
      "Batch 300, INN loss: -1.464175, learning_rate: 0.000006\n",
      "Batch 400, INN loss: -1.467783, learning_rate: 0.000005\n",
      "Batch 500, INN loss: -1.461891, learning_rate: 0.000005\n",
      "Batch 600, INN loss: -1.443884, learning_rate: 0.000004\n",
      "Batch 700, INN loss: -1.453933, learning_rate: 0.000004\n"
     ]
    },
    {
     "name": "stderr",
     "output_type": "stream",
     "text": [
      " 50%|███████████████████████████████                               | 10/20 [18:27<39:06, 234.67s/it]"
     ]
    },
    {
     "name": "stdout",
     "output_type": "stream",
     "text": [
      "Average training loss for this epoch: -1.457080\n",
      "Batch 0, INN loss: -1.455720, learning_rate: 0.000003\n",
      "Batch 100, INN loss: -1.452960, learning_rate: 0.000003\n",
      "Batch 200, INN loss: -1.460105, learning_rate: 0.000003\n",
      "Batch 300, INN loss: -1.449108, learning_rate: 0.000002\n",
      "Batch 400, INN loss: -1.465228, learning_rate: 0.000002\n",
      "Batch 500, INN loss: -1.448969, learning_rate: 0.000002\n",
      "Batch 600, INN loss: -1.464160, learning_rate: 0.000002\n",
      "Batch 700, INN loss: -1.449826, learning_rate: 0.000002\n"
     ]
    },
    {
     "name": "stderr",
     "output_type": "stream",
     "text": [
      " 55%|█████████████████████████████████                           | 11/20 [58:30<2:14:44, 898.25s/it]"
     ]
    },
    {
     "name": "stdout",
     "output_type": "stream",
     "text": [
      "Average training loss for this epoch: -1.457119\n",
      "Batch 0, INN loss: -1.463348, learning_rate: 0.000001\n",
      "Batch 100, INN loss: -1.454002, learning_rate: 0.000001\n",
      "Batch 200, INN loss: -1.452313, learning_rate: 0.000001\n",
      "Batch 300, INN loss: -1.451470, learning_rate: 0.000001\n",
      "Batch 400, INN loss: -1.459661, learning_rate: 0.000001\n",
      "Batch 500, INN loss: -1.456477, learning_rate: 0.000001\n",
      "Batch 600, INN loss: -1.443594, learning_rate: 0.000001\n",
      "Batch 700, INN loss: -1.456843, learning_rate: 0.000001\n"
     ]
    },
    {
     "name": "stderr",
     "output_type": "stream",
     "text": [
      " 60%|██████████████████████████████████▏                      | 12/20 [1:59:42<3:52:16, 1742.12s/it]"
     ]
    },
    {
     "name": "stdout",
     "output_type": "stream",
     "text": [
      "Average training loss for this epoch: -1.457136\n",
      "Batch 0, INN loss: -1.449516, learning_rate: 0.000001\n",
      "Batch 100, INN loss: -1.453935, learning_rate: 0.000001\n",
      "Batch 200, INN loss: -1.454229, learning_rate: 0.000001\n",
      "Batch 300, INN loss: -1.448602, learning_rate: 0.000001\n",
      "Batch 400, INN loss: -1.457769, learning_rate: 0.000001\n",
      "Batch 500, INN loss: -1.467123, learning_rate: 0.000001\n",
      "Batch 600, INN loss: -1.466459, learning_rate: 0.000001\n",
      "Batch 700, INN loss: -1.455318, learning_rate: 0.000001\n"
     ]
    },
    {
     "name": "stderr",
     "output_type": "stream",
     "text": [
      " 65%|█████████████████████████████████████                    | 13/20 [2:13:53<2:51:44, 1472.10s/it]"
     ]
    },
    {
     "name": "stdout",
     "output_type": "stream",
     "text": [
      "Average training loss for this epoch: -1.457145\n",
      "Batch 0, INN loss: -1.463076, learning_rate: 0.000001\n",
      "Batch 100, INN loss: -1.452647, learning_rate: 0.000001\n",
      "Batch 200, INN loss: -1.457006, learning_rate: 0.000001\n",
      "Batch 300, INN loss: -1.455188, learning_rate: 0.000001\n",
      "Batch 400, INN loss: -1.453478, learning_rate: 0.000001\n",
      "Batch 500, INN loss: -1.460252, learning_rate: 0.000001\n",
      "Batch 600, INN loss: -1.462361, learning_rate: 0.000001\n",
      "Batch 700, INN loss: -1.456408, learning_rate: 0.000001\n"
     ]
    },
    {
     "name": "stderr",
     "output_type": "stream",
     "text": [
      " 70%|███████████████████████████████████████▉                 | 14/20 [2:14:44<1:44:17, 1042.97s/it]"
     ]
    },
    {
     "name": "stdout",
     "output_type": "stream",
     "text": [
      "Average training loss for this epoch: -1.457155\n",
      "Batch 0, INN loss: -1.452766, learning_rate: 0.000001\n",
      "Batch 100, INN loss: -1.457327, learning_rate: 0.000001\n",
      "Batch 200, INN loss: -1.449451, learning_rate: 0.000001\n",
      "Batch 300, INN loss: -1.453837, learning_rate: 0.000001\n",
      "Batch 400, INN loss: -1.453029, learning_rate: 0.000001\n",
      "Batch 500, INN loss: -1.460418, learning_rate: 0.000001\n",
      "Batch 600, INN loss: -1.453642, learning_rate: 0.000001\n",
      "Batch 700, INN loss: -1.460043, learning_rate: 0.000001\n"
     ]
    },
    {
     "name": "stderr",
     "output_type": "stream",
     "text": [
      " 75%|███████████████████████████████████████████▌              | 15/20 [2:15:36<1:02:00, 744.10s/it]"
     ]
    },
    {
     "name": "stdout",
     "output_type": "stream",
     "text": [
      "Average training loss for this epoch: -1.457164\n",
      "Batch 0, INN loss: -1.465699, learning_rate: 0.000001\n",
      "Batch 100, INN loss: -1.445498, learning_rate: 0.000001\n",
      "Batch 200, INN loss: -1.465655, learning_rate: 0.000001\n",
      "Batch 300, INN loss: -1.453374, learning_rate: 0.000001\n",
      "Batch 400, INN loss: -1.445759, learning_rate: 0.000001\n",
      "Batch 500, INN loss: -1.454834, learning_rate: 0.000001\n",
      "Batch 600, INN loss: -1.456762, learning_rate: 0.000001\n",
      "Batch 700, INN loss: -1.464777, learning_rate: 0.000001\n"
     ]
    },
    {
     "name": "stderr",
     "output_type": "stream",
     "text": [
      " 80%|████████████████████████████████████████████████            | 16/20 [2:16:27<35:42, 535.65s/it]"
     ]
    },
    {
     "name": "stdout",
     "output_type": "stream",
     "text": [
      "Average training loss for this epoch: -1.457174\n",
      "Batch 0, INN loss: -1.463063, learning_rate: 0.000001\n",
      "Batch 100, INN loss: -1.454374, learning_rate: 0.000001\n",
      "Batch 200, INN loss: -1.463682, learning_rate: 0.000001\n",
      "Batch 300, INN loss: -1.441692, learning_rate: 0.000001\n",
      "Batch 400, INN loss: -1.471167, learning_rate: 0.000001\n",
      "Batch 500, INN loss: -1.446098, learning_rate: 0.000001\n",
      "Batch 600, INN loss: -1.456824, learning_rate: 0.000001\n",
      "Batch 700, INN loss: -1.466929, learning_rate: 0.000001\n"
     ]
    },
    {
     "name": "stderr",
     "output_type": "stream",
     "text": [
      " 85%|███████████████████████████████████████████████████         | 17/20 [2:17:18<19:29, 389.90s/it]"
     ]
    },
    {
     "name": "stdout",
     "output_type": "stream",
     "text": [
      "Average training loss for this epoch: -1.457183\n",
      "Batch 0, INN loss: -1.466339, learning_rate: 0.000001\n",
      "Batch 100, INN loss: -1.457111, learning_rate: 0.000001\n",
      "Batch 200, INN loss: -1.448576, learning_rate: 0.000001\n",
      "Batch 300, INN loss: -1.469795, learning_rate: 0.000001\n",
      "Batch 400, INN loss: -1.450655, learning_rate: 0.000001\n",
      "Batch 500, INN loss: -1.454068, learning_rate: 0.000001\n",
      "Batch 600, INN loss: -1.455344, learning_rate: 0.000001\n",
      "Batch 700, INN loss: -1.458093, learning_rate: 0.000001\n"
     ]
    },
    {
     "name": "stderr",
     "output_type": "stream",
     "text": [
      " 90%|██████████████████████████████████████████████████████      | 18/20 [2:18:10<09:36, 288.23s/it]"
     ]
    },
    {
     "name": "stdout",
     "output_type": "stream",
     "text": [
      "Average training loss for this epoch: -1.457192\n",
      "Batch 0, INN loss: -1.469418, learning_rate: 0.000001\n",
      "Batch 100, INN loss: -1.455824, learning_rate: 0.000001\n",
      "Batch 200, INN loss: -1.458234, learning_rate: 0.000001\n",
      "Batch 300, INN loss: -1.466366, learning_rate: 0.000001\n",
      "Batch 400, INN loss: -1.462643, learning_rate: 0.000001\n",
      "Batch 500, INN loss: -1.454727, learning_rate: 0.000001\n",
      "Batch 600, INN loss: -1.460123, learning_rate: 0.000001\n",
      "Batch 700, INN loss: -1.458315, learning_rate: 0.000001\n"
     ]
    },
    {
     "name": "stderr",
     "output_type": "stream",
     "text": [
      " 95%|█████████████████████████████████████████████████████████   | 19/20 [2:19:01<03:37, 217.08s/it]"
     ]
    },
    {
     "name": "stdout",
     "output_type": "stream",
     "text": [
      "Average training loss for this epoch: -1.457201\n",
      "Batch 0, INN loss: -1.460836, learning_rate: 0.000001\n",
      "Batch 100, INN loss: -1.455324, learning_rate: 0.000001\n",
      "Batch 200, INN loss: -1.468649, learning_rate: 0.000001\n",
      "Batch 300, INN loss: -1.460964, learning_rate: 0.000001\n",
      "Batch 400, INN loss: -1.462173, learning_rate: 0.000001\n",
      "Batch 500, INN loss: -1.455990, learning_rate: 0.000001\n",
      "Batch 600, INN loss: -1.452166, learning_rate: 0.000001\n",
      "Batch 700, INN loss: -1.448831, learning_rate: 0.000001\n"
     ]
    },
    {
     "name": "stderr",
     "output_type": "stream",
     "text": [
      "100%|████████████████████████████████████████████████████████████| 20/20 [2:19:52<00:00, 419.64s/it]"
     ]
    },
    {
     "name": "stdout",
     "output_type": "stream",
     "text": [
      "Average training loss for this epoch: -1.457211\n",
      "Done!\n"
     ]
    },
    {
     "name": "stderr",
     "output_type": "stream",
     "text": [
      "\n"
     ]
    }
   ],
   "source": [
    "mp_thetap = np.load('D_Kspipi_SDP_1e7.npy')\n",
    "\n",
    "# Split data into train, validation\n",
    "mp_thetap_train, mp_thetap_val = train_test_split(mp_thetap, test_size=0.2)\n",
    "\n",
    "print(\"Training set size: \", mp_thetap_train.shape, \"Validation set size: \", mp_thetap_val.shape)\n",
    "\n",
    "# Convert into torch objects\n",
    "mp_thetap_train = torch.Tensor(mp_thetap_train)\n",
    "mp_thetap_val   = torch.Tensor(mp_thetap_val)\n",
    "\n",
    "trainset = dalitz_dataset(mp_thetap_train)\n",
    "valset   = dalitz_dataset(mp_thetap_val)\n",
    "\n",
    "batch_size = 10000\n",
    "\n",
    "train_dataloader = DataLoader(trainset, batch_size = batch_size, shuffle = True)\n",
    "val_dataloader = DataLoader(valset, batch_size = batch_size, shuffle = True)\n",
    "\n",
    "epochs = 20\n",
    "learning_rate = 0.001\n",
    "min_learning_rate = 1e-6\n",
    "\n",
    "n_dim = mp_thetap.shape[1]\n",
    "n_blocks = 10\n",
    "training_size = len(mp_thetap)\n",
    "\n",
    "# Define the model\n",
    "inn = Ff.SequenceINN( n_dim )\n",
    "for k in range(n_blocks):\n",
    "    inn.append( Fm.AllInOneBlock, subnet_constructor=subnet_fc, permute_soft=True )\n",
    "\n",
    "print(\"Model Architecture: \")\n",
    "print(inn)\n",
    "\n",
    "optimizer = torch.optim.Adam(inn.parameters(), lr=learning_rate)\n",
    "\n",
    "# Learning rate scheduler\n",
    "scheduler = torch.optim.lr_scheduler.ReduceLROnPlateau(optimizer, mode= 'min', factor = 0.90, patience = 100, min_lr = min_learning_rate)\n",
    "#scheduler = None\n",
    "\n",
    "for t in tqdm(range(epochs), ncols = 100):\n",
    "    train(train_dataloader, inn, optimizer,  n_dim, scheduler)\n",
    "    \n",
    "print(\"Done!\")"
   ]
  },
  {
   "cell_type": "code",
   "execution_count": 8,
   "metadata": {},
   "outputs": [
    {
     "name": "stdout",
     "output_type": "stream",
     "text": [
      "torch.Size([100000, 2])\n"
     ]
    },
    {
     "data": {
      "image/png": "[encoded data removed]",
      "text/plain": [
       "<Figure size 504x360 with 1 Axes>"
      ]
     },
     "metadata": {
      "needs_background": "light"
     },
     "output_type": "display_data"
    }
   ],
   "source": [
    "# Latent distribution\n",
    "n_samples = 100000\n",
    "z_gen = torch.randn((n_samples, n_dim))\n",
    "\n",
    "print(z_gen.shape)\n",
    "\n",
    "# Visualize the latent distribution\n",
    "fig, axs = plt.subplots(figsize=(7,5))\n",
    "\n",
    "axs.hist(z_gen.detach().numpy().flatten(), alpha=0.5, density=True, bins=100, label=r'$z$')\n",
    "\n",
    "axs.set_xlabel('$z$ $(\\mathrm{GeV})$')\n",
    "axs.set_ylabel( r'$\\mathrm{Events}$' )\n",
    "axs.legend(loc='best', frameon=False)\n",
    "\n",
    "fig.tight_layout()"
   ]
  },
  {
   "cell_type": "code",
   "execution_count": 9,
   "metadata": {},
   "outputs": [
    {
     "name": "stdout",
     "output_type": "stream",
     "text": [
      "(100000, 2)\n",
      "[0.13067612 0.27207273]\n"
     ]
    }
   ],
   "source": [
    "# Generate m2 samples from latent distribution\n",
    "mp_thetap_gen, _ = inn(z_gen, rev=True)\n",
    "mp_thetap_gen = mp_thetap_gen.detach().numpy()[:]\n",
    "\n",
    "print(mp_thetap_gen.shape)\n",
    "print(mp_thetap_gen[0])"
   ]
  },
  {
   "cell_type": "code",
   "execution_count": 10,
   "metadata": {},
   "outputs": [
    {
     "data": {
      "image/png": "[encoded data removed]",
      "text/plain": [
       "<Figure size 576x432 with 1 Axes>"
      ]
     },
     "metadata": {
      "needs_background": "light"
     },
     "output_type": "display_data"
    }
   ],
   "source": [
    "# Visualize \n",
    "fig, ax = plt.subplots( figsize=(8,6) )\n",
    "\n",
    "counts, bins, _ = ax.hist(mp_thetap[:n_samples,0], 50, alpha = 0.5, label = r'$\\mathrm{Target}$')\n",
    "ax.hist(mp_thetap_gen[:,0], bins, alpha=0.5, label = r'$\\mathrm{Generated}$')\n",
    "\n",
    "ax.set_xlabel( r\"$m'$\")\n",
    "ax.set_ylabel( r'$\\mathrm{Counts}$' )\n",
    "\n",
    "\n",
    "ax.legend(loc='best', frameon=False)\n",
    "\n",
    "fig.tight_layout()\n",
    "fig.savefig(r'figs/D-amplitude_SDP_mp_INN_target_vs_gen_v2.pdf', dpi = 300, pad_inches = .1, bbox_inches = 'tight')\n",
    "fig.savefig(r'figs/D-amplitude_SDP_mp_INN_target_vs_gen_v2.png', dpi = 300, pad_inches = .1, bbox_inches = 'tight')"
   ]
  },
  {
   "cell_type": "code",
   "execution_count": 11,
   "metadata": {},
   "outputs": [
    {
     "data": {
      "image/png": "[encoded data removed]",
      "text/plain": [
       "<Figure size 576x432 with 1 Axes>"
      ]
     },
     "metadata": {
      "needs_background": "light"
     },
     "output_type": "display_data"
    }
   ],
   "source": [
    "# Visualize \n",
    "fig, ax = plt.subplots( figsize=(8,6) )\n",
    "\n",
    "counts, bins, _ = ax.hist(mp_thetap[:n_samples,1], 50, alpha = 0.5, label = r'$\\mathrm{Target}$')\n",
    "ax.hist(mp_thetap_gen[:,1], bins, alpha=0.5, label = r'$\\mathrm{Generated}$')\n",
    "\n",
    "ax.set_xlabel( r\"$\\theta'$\")\n",
    "ax.set_ylabel( r'$\\mathrm{Counts}$' )\n",
    "\n",
    "\n",
    "ax.legend(loc='best', frameon=False)\n",
    "\n",
    "fig.tight_layout()\n",
    "fig.savefig(r'figs/D-amplitude_SDP_thetap_INN_target_vs_gen_v2.pdf', dpi = 300, pad_inches = .1, bbox_inches = 'tight')\n",
    "fig.savefig(r'figs/D-amplitude_SDP_thetap_INN_target_vs_gen_v2.png', dpi = 300, pad_inches = .1, bbox_inches = 'tight')"
   ]
  },
  {
   "cell_type": "code",
   "execution_count": 12,
   "metadata": {},
   "outputs": [
    {
     "data": {
      "image/png": "[encoded data removed]",
      "text/plain": [
       "<Figure size 648x360 with 2 Axes>"
      ]
     },
     "metadata": {
      "needs_background": "light"
     },
     "output_type": "display_data"
    }
   ],
   "source": [
    "# Visualize 2D Dalitz plot\n",
    "fig, (ax1, ax2) = plt.subplots(1, 2, figsize=(9,5) )\n",
    "\n",
    "h, xedges, yedges, _ = ax1.hist2d(mp_thetap[:n_samples,0], mp_thetap[:n_samples,1], 50)\n",
    "ax2.hist2d(mp_thetap_gen[:,0], mp_thetap_gen[:,1], bins = [xedges, yedges])\n",
    "\n",
    "ax1.set_xlabel(r\"$m'$\")\n",
    "ax1.set_ylabel(r\"$\\theta'$\")\n",
    "ax1.set_title(r'$\\mathrm{Target}$')\n",
    "ax1.set_aspect('equal')\n",
    "\n",
    "ax2.set_xlabel(r\"$m'$\")\n",
    "ax2.set_ylabel(r\"$\\theta'$\")\n",
    "ax2.set_title(r'$\\mathrm{Generated}$')\n",
    "ax2.set_aspect('equal')\n",
    "\n",
    "#ax.legend(loc='best', frameon=False)\n",
    "fig.subplots_adjust(wspace=0, hspace=0)\n",
    "fig.tight_layout()\n",
    "fig.savefig(r'figs/D-amplitude_SDP_INN_target.pdf', dpi = 300, pad_inches = .1, bbox_inches = 'tight')\n",
    "fig.savefig(r'figs/D-amplitude_SDP_INN_target.png', dpi = 300, pad_inches = .1, bbox_inches = 'tight')"
   ]
  },
  {
   "cell_type": "code",
   "execution_count": null,
   "metadata": {},
   "outputs": [],
   "source": [
    "# Define the model creation function\n",
    "def create_model(base='gauss'):\n",
    "    K = 8  # Number of flow layers\n",
    "    latent_size = 2\n",
    "\n",
    "    # Coupling mask\n",
    "    b = torch.tensor([1 if i % 2 == 0 else 0 for i in range(latent_size)])\n",
    "\n",
    "    # Define flows\n",
    "    flows = []\n",
    "    for i in range(K):\n",
    "        param_map = nf.nets.MLP([latent_size // 2, 32, 32, latent_size], init_zeros=True)\n",
    "        flows += [nf.flows.AffineCouplingBlock(param_map)]\n",
    "        flows += [nf.flows.Permute(latent_size, mode='swap')]\n",
    "        flows += [nf.flows.ActNorm(latent_size)]\n",
    "\n",
    "    # Set prior and q0            \n",
    "    if base == 'resampled':\n",
    "        a = nf.nets.MLP([latent_size, 256, 256, 1], output_fn=\"sigmoid\")\n",
    "        q0 = lf.distributions.ResampledGaussian(latent_size, a, 100, 0.1, trainable=False)\n",
    "\n",
    "    elif base == 'gaussian_mixture':\n",
    "        n_modes = 10\n",
    "        loc = (np.random.rand(n_modes, latent_size) - 0.5) * 5\n",
    "        scale = 0.5 * np.ones((n_modes, latent_size))\n",
    "        q0 = nf.distributions.GaussianMixture(n_modes, latent_size, trainable=True, loc=loc, scale=scale)\n",
    "    elif base == 'gauss':\n",
    "        q0 = nf.distributions.DiagGaussian(latent_size, trainable=False)\n",
    "    else:\n",
    "        raise NotImplementedError(f\"Base distribution '{base}' is not implemented.\")\n",
    "\n",
    "    # Construct flow model\n",
    "    model = lf.NormalizingFlow(q0=q0, flows=flows)\n",
    "\n",
    "    return model.to(device)\n",
    "\n",
    "\n",
    "# Training function\n",
    "def train(dataloader, model, optimizer, scheduler=None):\n",
    "    model.train()\n",
    "    total_loss = 0\n",
    "    for batch in dataloader:\n",
    "        batch = batch.to(device)\n",
    "        optimizer.zero_grad()\n",
    "        loss = -model.log_prob(batch).mean()\n",
    "        loss.backward()\n",
    "        optimizer.step()\n",
    "        total_loss += loss.item()\n",
    "    if scheduler:\n",
    "        scheduler.step(total_loss / len(dataloader))\n",
    "    print(f\"Training Loss: {total_loss / len(dataloader)}\")\n"
   ]
  },
  {
   "cell_type": "code",
   "execution_count": 35,
   "metadata": {},
   "outputs": [
    {
     "name": "stdout",
     "output_type": "stream",
     "text": [
      "Training set size:  (8000000, 2) Validation set size:  (2000000, 2)\n"
     ]
    }
   ],
   "source": [
    "import normflows as nf\n",
    "import larsflow as lf\n",
    "import numpy as np\n",
    "import torch\n",
    "from torch.utils.data import DataLoader, Dataset\n",
    "from sklearn.model_selection import train_test_split\n",
    "from tqdm import tqdm\n",
    "\n",
    "# Load data\n",
    "mp_thetap = np.load('D_Kspipi_SDP_1e7.npy')\n",
    "\n",
    "# Split data into train, validation\n",
    "mp_thetap_train, mp_thetap_val = train_test_split(mp_thetap, test_size=0.2)\n",
    "\n",
    "print(\"Training set size: \", mp_thetap_train.shape, \"Validation set size: \", mp_thetap_val.shape)\n",
    "\n",
    "# Convert data into PyTorch tensors\n",
    "mp_thetap_train = torch.Tensor(mp_thetap_train)\n",
    "mp_thetap_val = torch.Tensor(mp_thetap_val)\n",
    "\n",
    "# Define a custom dataset class\n",
    "class dalitz_dataset(Dataset):\n",
    "    def __init__(self, data):\n",
    "        self.data = data\n",
    "\n",
    "    def __len__(self):\n",
    "        return len(self.data)\n",
    "\n",
    "    def __getitem__(self, idx):\n",
    "        return self.data[idx]\n",
    "\n",
    "# Prepare datasets and data loaders\n",
    "trainset = dalitz_dataset(mp_thetap_train)\n",
    "valset = dalitz_dataset(mp_thetap_val)\n",
    "\n",
    "# Define device\n",
    "device = torch.device('cuda' if torch.cuda.is_available() else 'cpu')\n"
   ]
  },
  {
   "cell_type": "code",
   "execution_count": 41,
   "metadata": {},
   "outputs": [
    {
     "name": "stderr",
     "output_type": "stream",
     "text": [
      "  0%|                                                                        | 0/20 [01:58<?, ?it/s]\n"
     ]
    },
    {
     "ename": "KeyboardInterrupt",
     "evalue": "",
     "output_type": "error",
     "traceback": [
      "\u001b[0;31m---------------------------------------------------------------------------\u001b[0m",
      "\u001b[0;31mKeyboardInterrupt\u001b[0m                         Traceback (most recent call last)",
      "Input \u001b[0;32mIn [41]\u001b[0m, in \u001b[0;36m<cell line: 10>\u001b[0;34m()\u001b[0m\n\u001b[1;32m      9\u001b[0m \u001b[38;5;66;03m# Training loop\u001b[39;00m\n\u001b[1;32m     10\u001b[0m \u001b[38;5;28;01mfor\u001b[39;00m t \u001b[38;5;129;01min\u001b[39;00m tqdm(\u001b[38;5;28mrange\u001b[39m(epochs), ncols\u001b[38;5;241m=\u001b[39m\u001b[38;5;241m100\u001b[39m):\n\u001b[0;32m---> 11\u001b[0m     \u001b[43mtrain\u001b[49m\u001b[43m(\u001b[49m\u001b[43mtrain_dataloader\u001b[49m\u001b[43m,\u001b[49m\u001b[43m \u001b[49m\u001b[43mmodel\u001b[49m\u001b[43m,\u001b[49m\u001b[43m \u001b[49m\u001b[43moptimizer\u001b[49m\u001b[43m,\u001b[49m\u001b[43m \u001b[49m\u001b[43mscheduler\u001b[49m\u001b[43m)\u001b[49m\n\u001b[1;32m     13\u001b[0m \u001b[38;5;28mprint\u001b[39m(\u001b[38;5;124m\"\u001b[39m\u001b[38;5;124mDone!\u001b[39m\u001b[38;5;124m\"\u001b[39m)\n",
      "Input \u001b[0;32mIn [34]\u001b[0m, in \u001b[0;36mtrain\u001b[0;34m(dataloader, model, optimizer, scheduler)\u001b[0m\n\u001b[1;32m     57\u001b[0m     loss \u001b[38;5;241m=\u001b[39m \u001b[38;5;241m-\u001b[39mmodel\u001b[38;5;241m.\u001b[39mlog_prob(batch)\u001b[38;5;241m.\u001b[39mmean()\n\u001b[1;32m     58\u001b[0m     loss\u001b[38;5;241m.\u001b[39mbackward()\n\u001b[0;32m---> 59\u001b[0m     \u001b[43moptimizer\u001b[49m\u001b[38;5;241;43m.\u001b[39;49m\u001b[43mstep\u001b[49m\u001b[43m(\u001b[49m\u001b[43m)\u001b[49m\n\u001b[1;32m     60\u001b[0m     total_loss \u001b[38;5;241m+\u001b[39m\u001b[38;5;241m=\u001b[39m loss\u001b[38;5;241m.\u001b[39mitem()\n\u001b[1;32m     61\u001b[0m \u001b[38;5;28;01mif\u001b[39;00m scheduler:\n",
      "File \u001b[0;32m~/opt/anaconda3/lib/python3.9/site-packages/torch/optim/optimizer.py:385\u001b[0m, in \u001b[0;36mOptimizer.profile_hook_step.<locals>.wrapper\u001b[0;34m(*args, **kwargs)\u001b[0m\n\u001b[1;32m    380\u001b[0m         \u001b[38;5;28;01melse\u001b[39;00m:\n\u001b[1;32m    381\u001b[0m             \u001b[38;5;28;01mraise\u001b[39;00m \u001b[38;5;167;01mRuntimeError\u001b[39;00m(\n\u001b[1;32m    382\u001b[0m                 \u001b[38;5;124mf\u001b[39m\u001b[38;5;124m\"\u001b[39m\u001b[38;5;132;01m{\u001b[39;00mfunc\u001b[38;5;132;01m}\u001b[39;00m\u001b[38;5;124m must return None or a tuple of (new_args, new_kwargs), but got \u001b[39m\u001b[38;5;132;01m{\u001b[39;00mresult\u001b[38;5;132;01m}\u001b[39;00m\u001b[38;5;124m.\u001b[39m\u001b[38;5;124m\"\u001b[39m\n\u001b[1;32m    383\u001b[0m             )\n\u001b[0;32m--> 385\u001b[0m out \u001b[38;5;241m=\u001b[39m \u001b[43mfunc\u001b[49m\u001b[43m(\u001b[49m\u001b[38;5;241;43m*\u001b[39;49m\u001b[43margs\u001b[49m\u001b[43m,\u001b[49m\u001b[43m \u001b[49m\u001b[38;5;241;43m*\u001b[39;49m\u001b[38;5;241;43m*\u001b[39;49m\u001b[43mkwargs\u001b[49m\u001b[43m)\u001b[49m\n\u001b[1;32m    386\u001b[0m \u001b[38;5;28mself\u001b[39m\u001b[38;5;241m.\u001b[39m_optimizer_step_code()\n\u001b[1;32m    388\u001b[0m \u001b[38;5;66;03m# call optimizer step post hooks\u001b[39;00m\n",
      "File \u001b[0;32m~/opt/anaconda3/lib/python3.9/site-packages/torch/optim/optimizer.py:76\u001b[0m, in \u001b[0;36m_use_grad_for_differentiable.<locals>._use_grad\u001b[0;34m(self, *args, **kwargs)\u001b[0m\n\u001b[1;32m     74\u001b[0m     torch\u001b[38;5;241m.\u001b[39mset_grad_enabled(\u001b[38;5;28mself\u001b[39m\u001b[38;5;241m.\u001b[39mdefaults[\u001b[38;5;124m'\u001b[39m\u001b[38;5;124mdifferentiable\u001b[39m\u001b[38;5;124m'\u001b[39m])\n\u001b[1;32m     75\u001b[0m     torch\u001b[38;5;241m.\u001b[39m_dynamo\u001b[38;5;241m.\u001b[39mgraph_break()\n\u001b[0;32m---> 76\u001b[0m     ret \u001b[38;5;241m=\u001b[39m \u001b[43mfunc\u001b[49m\u001b[43m(\u001b[49m\u001b[38;5;28;43mself\u001b[39;49m\u001b[43m,\u001b[49m\u001b[43m \u001b[49m\u001b[38;5;241;43m*\u001b[39;49m\u001b[43margs\u001b[49m\u001b[43m,\u001b[49m\u001b[43m \u001b[49m\u001b[38;5;241;43m*\u001b[39;49m\u001b[38;5;241;43m*\u001b[39;49m\u001b[43mkwargs\u001b[49m\u001b[43m)\u001b[49m\n\u001b[1;32m     77\u001b[0m \u001b[38;5;28;01mfinally\u001b[39;00m:\n\u001b[1;32m     78\u001b[0m     torch\u001b[38;5;241m.\u001b[39m_dynamo\u001b[38;5;241m.\u001b[39mgraph_break()\n",
      "File \u001b[0;32m~/opt/anaconda3/lib/python3.9/site-packages/torch/optim/adam.py:166\u001b[0m, in \u001b[0;36mAdam.step\u001b[0;34m(self, closure)\u001b[0m\n\u001b[1;32m    155\u001b[0m     beta1, beta2 \u001b[38;5;241m=\u001b[39m group[\u001b[38;5;124m'\u001b[39m\u001b[38;5;124mbetas\u001b[39m\u001b[38;5;124m'\u001b[39m]\n\u001b[1;32m    157\u001b[0m     has_complex \u001b[38;5;241m=\u001b[39m \u001b[38;5;28mself\u001b[39m\u001b[38;5;241m.\u001b[39m_init_group(\n\u001b[1;32m    158\u001b[0m         group,\n\u001b[1;32m    159\u001b[0m         params_with_grad,\n\u001b[0;32m   (...)\u001b[0m\n\u001b[1;32m    163\u001b[0m         max_exp_avg_sqs,\n\u001b[1;32m    164\u001b[0m         state_steps)\n\u001b[0;32m--> 166\u001b[0m     \u001b[43madam\u001b[49m\u001b[43m(\u001b[49m\n\u001b[1;32m    167\u001b[0m \u001b[43m        \u001b[49m\u001b[43mparams_with_grad\u001b[49m\u001b[43m,\u001b[49m\n\u001b[1;32m    168\u001b[0m \u001b[43m        \u001b[49m\u001b[43mgrads\u001b[49m\u001b[43m,\u001b[49m\n\u001b[1;32m    169\u001b[0m \u001b[43m        \u001b[49m\u001b[43mexp_avgs\u001b[49m\u001b[43m,\u001b[49m\n\u001b[1;32m    170\u001b[0m \u001b[43m        \u001b[49m\u001b[43mexp_avg_sqs\u001b[49m\u001b[43m,\u001b[49m\n\u001b[1;32m    171\u001b[0m \u001b[43m        \u001b[49m\u001b[43mmax_exp_avg_sqs\u001b[49m\u001b[43m,\u001b[49m\n\u001b[1;32m    172\u001b[0m \u001b[43m        \u001b[49m\u001b[43mstate_steps\u001b[49m\u001b[43m,\u001b[49m\n\u001b[1;32m    173\u001b[0m \u001b[43m        \u001b[49m\u001b[43mamsgrad\u001b[49m\u001b[38;5;241;43m=\u001b[39;49m\u001b[43mgroup\u001b[49m\u001b[43m[\u001b[49m\u001b[38;5;124;43m'\u001b[39;49m\u001b[38;5;124;43mamsgrad\u001b[39;49m\u001b[38;5;124;43m'\u001b[39;49m\u001b[43m]\u001b[49m\u001b[43m,\u001b[49m\n\u001b[1;32m    174\u001b[0m \u001b[43m        \u001b[49m\u001b[43mhas_complex\u001b[49m\u001b[38;5;241;43m=\u001b[39;49m\u001b[43mhas_complex\u001b[49m\u001b[43m,\u001b[49m\n\u001b[1;32m    175\u001b[0m \u001b[43m        \u001b[49m\u001b[43mbeta1\u001b[49m\u001b[38;5;241;43m=\u001b[39;49m\u001b[43mbeta1\u001b[49m\u001b[43m,\u001b[49m\n\u001b[1;32m    176\u001b[0m \u001b[43m        \u001b[49m\u001b[43mbeta2\u001b[49m\u001b[38;5;241;43m=\u001b[39;49m\u001b[43mbeta2\u001b[49m\u001b[43m,\u001b[49m\n\u001b[1;32m    177\u001b[0m \u001b[43m        \u001b[49m\u001b[43mlr\u001b[49m\u001b[38;5;241;43m=\u001b[39;49m\u001b[43mgroup\u001b[49m\u001b[43m[\u001b[49m\u001b[38;5;124;43m'\u001b[39;49m\u001b[38;5;124;43mlr\u001b[39;49m\u001b[38;5;124;43m'\u001b[39;49m\u001b[43m]\u001b[49m\u001b[43m,\u001b[49m\n\u001b[1;32m    178\u001b[0m \u001b[43m        \u001b[49m\u001b[43mweight_decay\u001b[49m\u001b[38;5;241;43m=\u001b[39;49m\u001b[43mgroup\u001b[49m\u001b[43m[\u001b[49m\u001b[38;5;124;43m'\u001b[39;49m\u001b[38;5;124;43mweight_decay\u001b[39;49m\u001b[38;5;124;43m'\u001b[39;49m\u001b[43m]\u001b[49m\u001b[43m,\u001b[49m\n\u001b[1;32m    179\u001b[0m \u001b[43m        \u001b[49m\u001b[43meps\u001b[49m\u001b[38;5;241;43m=\u001b[39;49m\u001b[43mgroup\u001b[49m\u001b[43m[\u001b[49m\u001b[38;5;124;43m'\u001b[39;49m\u001b[38;5;124;43meps\u001b[39;49m\u001b[38;5;124;43m'\u001b[39;49m\u001b[43m]\u001b[49m\u001b[43m,\u001b[49m\n\u001b[1;32m    180\u001b[0m \u001b[43m        \u001b[49m\u001b[43mmaximize\u001b[49m\u001b[38;5;241;43m=\u001b[39;49m\u001b[43mgroup\u001b[49m\u001b[43m[\u001b[49m\u001b[38;5;124;43m'\u001b[39;49m\u001b[38;5;124;43mmaximize\u001b[39;49m\u001b[38;5;124;43m'\u001b[39;49m\u001b[43m]\u001b[49m\u001b[43m,\u001b[49m\n\u001b[1;32m    181\u001b[0m \u001b[43m        \u001b[49m\u001b[43mforeach\u001b[49m\u001b[38;5;241;43m=\u001b[39;49m\u001b[43mgroup\u001b[49m\u001b[43m[\u001b[49m\u001b[38;5;124;43m'\u001b[39;49m\u001b[38;5;124;43mforeach\u001b[39;49m\u001b[38;5;124;43m'\u001b[39;49m\u001b[43m]\u001b[49m\u001b[43m,\u001b[49m\n\u001b[1;32m    182\u001b[0m \u001b[43m        \u001b[49m\u001b[43mcapturable\u001b[49m\u001b[38;5;241;43m=\u001b[39;49m\u001b[43mgroup\u001b[49m\u001b[43m[\u001b[49m\u001b[38;5;124;43m'\u001b[39;49m\u001b[38;5;124;43mcapturable\u001b[39;49m\u001b[38;5;124;43m'\u001b[39;49m\u001b[43m]\u001b[49m\u001b[43m,\u001b[49m\n\u001b[1;32m    183\u001b[0m \u001b[43m        \u001b[49m\u001b[43mdifferentiable\u001b[49m\u001b[38;5;241;43m=\u001b[39;49m\u001b[43mgroup\u001b[49m\u001b[43m[\u001b[49m\u001b[38;5;124;43m'\u001b[39;49m\u001b[38;5;124;43mdifferentiable\u001b[39;49m\u001b[38;5;124;43m'\u001b[39;49m\u001b[43m]\u001b[49m\u001b[43m,\u001b[49m\n\u001b[1;32m    184\u001b[0m \u001b[43m        \u001b[49m\u001b[43mfused\u001b[49m\u001b[38;5;241;43m=\u001b[39;49m\u001b[43mgroup\u001b[49m\u001b[43m[\u001b[49m\u001b[38;5;124;43m'\u001b[39;49m\u001b[38;5;124;43mfused\u001b[39;49m\u001b[38;5;124;43m'\u001b[39;49m\u001b[43m]\u001b[49m\u001b[43m,\u001b[49m\n\u001b[1;32m    185\u001b[0m \u001b[43m        \u001b[49m\u001b[43mgrad_scale\u001b[49m\u001b[38;5;241;43m=\u001b[39;49m\u001b[38;5;28;43mgetattr\u001b[39;49m\u001b[43m(\u001b[49m\u001b[38;5;28;43mself\u001b[39;49m\u001b[43m,\u001b[49m\u001b[43m \u001b[49m\u001b[38;5;124;43m\"\u001b[39;49m\u001b[38;5;124;43mgrad_scale\u001b[39;49m\u001b[38;5;124;43m\"\u001b[39;49m\u001b[43m,\u001b[49m\u001b[43m \u001b[49m\u001b[38;5;28;43;01mNone\u001b[39;49;00m\u001b[43m)\u001b[49m\u001b[43m,\u001b[49m\n\u001b[1;32m    186\u001b[0m \u001b[43m        \u001b[49m\u001b[43mfound_inf\u001b[49m\u001b[38;5;241;43m=\u001b[39;49m\u001b[38;5;28;43mgetattr\u001b[39;49m\u001b[43m(\u001b[49m\u001b[38;5;28;43mself\u001b[39;49m\u001b[43m,\u001b[49m\u001b[43m \u001b[49m\u001b[38;5;124;43m\"\u001b[39;49m\u001b[38;5;124;43mfound_inf\u001b[39;49m\u001b[38;5;124;43m\"\u001b[39;49m\u001b[43m,\u001b[49m\u001b[43m \u001b[49m\u001b[38;5;28;43;01mNone\u001b[39;49;00m\u001b[43m)\u001b[49m\u001b[43m,\u001b[49m\n\u001b[1;32m    187\u001b[0m \u001b[43m    \u001b[49m\u001b[43m)\u001b[49m\n\u001b[1;32m    189\u001b[0m \u001b[38;5;28;01mreturn\u001b[39;00m loss\n",
      "File \u001b[0;32m~/opt/anaconda3/lib/python3.9/site-packages/torch/optim/adam.py:316\u001b[0m, in \u001b[0;36madam\u001b[0;34m(params, grads, exp_avgs, exp_avg_sqs, max_exp_avg_sqs, state_steps, foreach, capturable, differentiable, fused, grad_scale, found_inf, has_complex, amsgrad, beta1, beta2, lr, weight_decay, eps, maximize)\u001b[0m\n\u001b[1;32m    313\u001b[0m \u001b[38;5;28;01melse\u001b[39;00m:\n\u001b[1;32m    314\u001b[0m     func \u001b[38;5;241m=\u001b[39m _single_tensor_adam\n\u001b[0;32m--> 316\u001b[0m \u001b[43mfunc\u001b[49m\u001b[43m(\u001b[49m\u001b[43mparams\u001b[49m\u001b[43m,\u001b[49m\n\u001b[1;32m    317\u001b[0m \u001b[43m     \u001b[49m\u001b[43mgrads\u001b[49m\u001b[43m,\u001b[49m\n\u001b[1;32m    318\u001b[0m \u001b[43m     \u001b[49m\u001b[43mexp_avgs\u001b[49m\u001b[43m,\u001b[49m\n\u001b[1;32m    319\u001b[0m \u001b[43m     \u001b[49m\u001b[43mexp_avg_sqs\u001b[49m\u001b[43m,\u001b[49m\n\u001b[1;32m    320\u001b[0m \u001b[43m     \u001b[49m\u001b[43mmax_exp_avg_sqs\u001b[49m\u001b[43m,\u001b[49m\n\u001b[1;32m    321\u001b[0m \u001b[43m     \u001b[49m\u001b[43mstate_steps\u001b[49m\u001b[43m,\u001b[49m\n\u001b[1;32m    322\u001b[0m \u001b[43m     \u001b[49m\u001b[43mamsgrad\u001b[49m\u001b[38;5;241;43m=\u001b[39;49m\u001b[43mamsgrad\u001b[49m\u001b[43m,\u001b[49m\n\u001b[1;32m    323\u001b[0m \u001b[43m     \u001b[49m\u001b[43mhas_complex\u001b[49m\u001b[38;5;241;43m=\u001b[39;49m\u001b[43mhas_complex\u001b[49m\u001b[43m,\u001b[49m\n\u001b[1;32m    324\u001b[0m \u001b[43m     \u001b[49m\u001b[43mbeta1\u001b[49m\u001b[38;5;241;43m=\u001b[39;49m\u001b[43mbeta1\u001b[49m\u001b[43m,\u001b[49m\n\u001b[1;32m    325\u001b[0m \u001b[43m     \u001b[49m\u001b[43mbeta2\u001b[49m\u001b[38;5;241;43m=\u001b[39;49m\u001b[43mbeta2\u001b[49m\u001b[43m,\u001b[49m\n\u001b[1;32m    326\u001b[0m \u001b[43m     \u001b[49m\u001b[43mlr\u001b[49m\u001b[38;5;241;43m=\u001b[39;49m\u001b[43mlr\u001b[49m\u001b[43m,\u001b[49m\n\u001b[1;32m    327\u001b[0m \u001b[43m     \u001b[49m\u001b[43mweight_decay\u001b[49m\u001b[38;5;241;43m=\u001b[39;49m\u001b[43mweight_decay\u001b[49m\u001b[43m,\u001b[49m\n\u001b[1;32m    328\u001b[0m \u001b[43m     \u001b[49m\u001b[43meps\u001b[49m\u001b[38;5;241;43m=\u001b[39;49m\u001b[43meps\u001b[49m\u001b[43m,\u001b[49m\n\u001b[1;32m    329\u001b[0m \u001b[43m     \u001b[49m\u001b[43mmaximize\u001b[49m\u001b[38;5;241;43m=\u001b[39;49m\u001b[43mmaximize\u001b[49m\u001b[43m,\u001b[49m\n\u001b[1;32m    330\u001b[0m \u001b[43m     \u001b[49m\u001b[43mcapturable\u001b[49m\u001b[38;5;241;43m=\u001b[39;49m\u001b[43mcapturable\u001b[49m\u001b[43m,\u001b[49m\n\u001b[1;32m    331\u001b[0m \u001b[43m     \u001b[49m\u001b[43mdifferentiable\u001b[49m\u001b[38;5;241;43m=\u001b[39;49m\u001b[43mdifferentiable\u001b[49m\u001b[43m,\u001b[49m\n\u001b[1;32m    332\u001b[0m \u001b[43m     \u001b[49m\u001b[43mgrad_scale\u001b[49m\u001b[38;5;241;43m=\u001b[39;49m\u001b[43mgrad_scale\u001b[49m\u001b[43m,\u001b[49m\n\u001b[1;32m    333\u001b[0m \u001b[43m     \u001b[49m\u001b[43mfound_inf\u001b[49m\u001b[38;5;241;43m=\u001b[39;49m\u001b[43mfound_inf\u001b[49m\u001b[43m)\u001b[49m\n",
      "File \u001b[0;32m~/opt/anaconda3/lib/python3.9/site-packages/torch/optim/adam.py:439\u001b[0m, in \u001b[0;36m_single_tensor_adam\u001b[0;34m(params, grads, exp_avgs, exp_avg_sqs, max_exp_avg_sqs, state_steps, grad_scale, found_inf, amsgrad, has_complex, beta1, beta2, lr, weight_decay, eps, maximize, capturable, differentiable)\u001b[0m\n\u001b[1;32m    437\u001b[0m         denom \u001b[38;5;241m=\u001b[39m (max_exp_avg_sqs[i]\u001b[38;5;241m.\u001b[39msqrt() \u001b[38;5;241m/\u001b[39m bias_correction2_sqrt)\u001b[38;5;241m.\u001b[39madd_(eps)\n\u001b[1;32m    438\u001b[0m     \u001b[38;5;28;01melse\u001b[39;00m:\n\u001b[0;32m--> 439\u001b[0m         denom \u001b[38;5;241m=\u001b[39m (\u001b[43mexp_avg_sq\u001b[49m\u001b[38;5;241;43m.\u001b[39;49m\u001b[43msqrt\u001b[49m() \u001b[38;5;241m/\u001b[39m bias_correction2_sqrt)\u001b[38;5;241m.\u001b[39madd_(eps)\n\u001b[1;32m    441\u001b[0m     param\u001b[38;5;241m.\u001b[39maddcdiv_(exp_avg, denom, value\u001b[38;5;241m=\u001b[39m\u001b[38;5;241m-\u001b[39mstep_size)\n\u001b[1;32m    443\u001b[0m \u001b[38;5;66;03m# Lastly, switch back to complex view\u001b[39;00m\n",
      "\u001b[0;31mKeyboardInterrupt\u001b[0m: "
     ]
    }
   ],
   "source": [
    "# Create model\n",
    "model = create_model()\n",
    "\n",
    "# Optimizer and scheduler\n",
    "optimizer = torch.optim.Adam(model.parameters(), lr=learning_rate)\n",
    "scheduler = torch.optim.lr_scheduler.ReduceLROnPlateau(optimizer, mode='min', factor=0.9, patience=100, min_lr=min_learning_rate)\n",
    "\n",
    "\n",
    "# Training loop\n",
    "for t in tqdm(range(epochs), ncols=100):\n",
    "    train(train_dataloader, model, optimizer, scheduler)\n",
    "\n",
    "print(\"Done!\")"
   ]
  },
  {
   "cell_type": "code",
   "execution_count": 36,
   "metadata": {},
   "outputs": [
    {
     "name": "stderr",
     "output_type": "stream",
     "text": [
      "  5%|███                                                          | 1/20 [03:57<1:15:07, 237.21s/it]"
     ]
    },
    {
     "name": "stdout",
     "output_type": "stream",
     "text": [
      "Training Loss: -1.087936898322776\n"
     ]
    },
    {
     "name": "stderr",
     "output_type": "stream",
     "text": [
      " 10%|██████                                                       | 2/20 [07:53<1:10:59, 236.63s/it]"
     ]
    },
    {
     "name": "stdout",
     "output_type": "stream",
     "text": [
      "Training Loss: -1.1062050242125987\n"
     ]
    },
    {
     "name": "stderr",
     "output_type": "stream",
     "text": [
      " 15%|█████████▏                                                   | 3/20 [11:50<1:07:02, 236.63s/it]"
     ]
    },
    {
     "name": "stdout",
     "output_type": "stream",
     "text": [
      "Training Loss: -1.1103429152965545\n"
     ]
    },
    {
     "name": "stderr",
     "output_type": "stream",
     "text": [
      " 20%|████████████▏                                                | 4/20 [15:53<1:03:50, 239.39s/it]"
     ]
    },
    {
     "name": "stdout",
     "output_type": "stream",
     "text": [
      "Training Loss: -1.112628929927945\n"
     ]
    },
    {
     "name": "stderr",
     "output_type": "stream",
     "text": [
      " 25%|███████████████▊                                               | 5/20 [19:53<59:51, 239.40s/it]"
     ]
    },
    {
     "name": "stdout",
     "output_type": "stream",
     "text": [
      "Training Loss: -1.1137840725183488\n"
     ]
    },
    {
     "name": "stderr",
     "output_type": "stream",
     "text": [
      " 30%|██████████████████▉                                            | 6/20 [23:54<55:59, 239.97s/it]"
     ]
    },
    {
     "name": "stdout",
     "output_type": "stream",
     "text": [
      "Training Loss: -1.11064640814811\n"
     ]
    },
    {
     "name": "stderr",
     "output_type": "stream",
     "text": [
      " 35%|██████████████████████                                         | 7/20 [27:53<51:57, 239.79s/it]"
     ]
    },
    {
     "name": "stdout",
     "output_type": "stream",
     "text": [
      "Training Loss: -1.1139978974089026\n"
     ]
    },
    {
     "name": "stderr",
     "output_type": "stream",
     "text": [
      " 40%|████████████████████████▍                                    | 8/20 [37:14<1:08:22, 341.88s/it]"
     ]
    },
    {
     "name": "stdout",
     "output_type": "stream",
     "text": [
      "Training Loss: -1.1150212681293488\n"
     ]
    },
    {
     "name": "stderr",
     "output_type": "stream",
     "text": [
      " 45%|███████████████████████████▍                                 | 9/20 [47:15<1:17:31, 422.91s/it]"
     ]
    },
    {
     "name": "stdout",
     "output_type": "stream",
     "text": [
      "Training Loss: -1.114150277659297\n"
     ]
    },
    {
     "name": "stderr",
     "output_type": "stream",
     "text": [
      " 50%|███████████████████████████████                               | 10/20 [50:49<59:44, 358.49s/it]"
     ]
    },
    {
     "name": "stdout",
     "output_type": "stream",
     "text": [
      "Training Loss: -1.1156408879682422\n"
     ]
    },
    {
     "name": "stderr",
     "output_type": "stream",
     "text": [
      " 50%|███████████████████████████████                               | 10/20 [51:28<51:28, 308.84s/it]\n"
     ]
    },
    {
     "ename": "KeyboardInterrupt",
     "evalue": "",
     "output_type": "error",
     "traceback": [
      "\u001b[0;31m---------------------------------------------------------------------------\u001b[0m",
      "\u001b[0;31mKeyboardInterrupt\u001b[0m                         Traceback (most recent call last)",
      "Input \u001b[0;32mIn [36]\u001b[0m, in \u001b[0;36m<cell line: 18>\u001b[0;34m()\u001b[0m\n\u001b[1;32m     17\u001b[0m \u001b[38;5;66;03m# Training loop\u001b[39;00m\n\u001b[1;32m     18\u001b[0m \u001b[38;5;28;01mfor\u001b[39;00m epoch \u001b[38;5;129;01min\u001b[39;00m tqdm(\u001b[38;5;28mrange\u001b[39m(epochs), ncols\u001b[38;5;241m=\u001b[39m\u001b[38;5;241m100\u001b[39m):\n\u001b[0;32m---> 19\u001b[0m     \u001b[43mtrain\u001b[49m\u001b[43m(\u001b[49m\u001b[43mtrain_dataloader\u001b[49m\u001b[43m,\u001b[49m\u001b[43m \u001b[49m\u001b[43mmodel2\u001b[49m\u001b[43m,\u001b[49m\u001b[43m \u001b[49m\u001b[43moptimizer\u001b[49m\u001b[43m,\u001b[49m\u001b[43m \u001b[49m\u001b[43mscheduler\u001b[49m\u001b[43m)\u001b[49m\n\u001b[1;32m     21\u001b[0m \u001b[38;5;28mprint\u001b[39m(\u001b[38;5;124m\"\u001b[39m\u001b[38;5;124mDone!\u001b[39m\u001b[38;5;124m\"\u001b[39m)\n",
      "Input \u001b[0;32mIn [34]\u001b[0m, in \u001b[0;36mtrain\u001b[0;34m(dataloader, model, optimizer, scheduler)\u001b[0m\n\u001b[1;32m     55\u001b[0m batch \u001b[38;5;241m=\u001b[39m batch\u001b[38;5;241m.\u001b[39mto(device)\n\u001b[1;32m     56\u001b[0m optimizer\u001b[38;5;241m.\u001b[39mzero_grad()\n\u001b[0;32m---> 57\u001b[0m loss \u001b[38;5;241m=\u001b[39m \u001b[38;5;241m-\u001b[39m\u001b[43mmodel\u001b[49m\u001b[38;5;241;43m.\u001b[39;49m\u001b[43mlog_prob\u001b[49m\u001b[43m(\u001b[49m\u001b[43mbatch\u001b[49m\u001b[43m)\u001b[49m\u001b[38;5;241m.\u001b[39mmean()\n\u001b[1;32m     58\u001b[0m loss\u001b[38;5;241m.\u001b[39mbackward()\n\u001b[1;32m     59\u001b[0m optimizer\u001b[38;5;241m.\u001b[39mstep()\n",
      "File \u001b[0;32m~/opt/anaconda3/lib/python3.9/site-packages/normflows/core.py:194\u001b[0m, in \u001b[0;36mNormalizingFlow.log_prob\u001b[0;34m(self, x)\u001b[0m\n\u001b[1;32m    192\u001b[0m z \u001b[38;5;241m=\u001b[39m x\n\u001b[1;32m    193\u001b[0m \u001b[38;5;28;01mfor\u001b[39;00m i \u001b[38;5;129;01min\u001b[39;00m \u001b[38;5;28mrange\u001b[39m(\u001b[38;5;28mlen\u001b[39m(\u001b[38;5;28mself\u001b[39m\u001b[38;5;241m.\u001b[39mflows) \u001b[38;5;241m-\u001b[39m \u001b[38;5;241m1\u001b[39m, \u001b[38;5;241m-\u001b[39m\u001b[38;5;241m1\u001b[39m, \u001b[38;5;241m-\u001b[39m\u001b[38;5;241m1\u001b[39m):\n\u001b[0;32m--> 194\u001b[0m     z, log_det \u001b[38;5;241m=\u001b[39m \u001b[38;5;28;43mself\u001b[39;49m\u001b[38;5;241;43m.\u001b[39;49m\u001b[43mflows\u001b[49m\u001b[43m[\u001b[49m\u001b[43mi\u001b[49m\u001b[43m]\u001b[49m\u001b[38;5;241;43m.\u001b[39;49m\u001b[43minverse\u001b[49m\u001b[43m(\u001b[49m\u001b[43mz\u001b[49m\u001b[43m)\u001b[49m\n\u001b[1;32m    195\u001b[0m     log_q \u001b[38;5;241m+\u001b[39m\u001b[38;5;241m=\u001b[39m log_det\n\u001b[1;32m    196\u001b[0m log_q \u001b[38;5;241m+\u001b[39m\u001b[38;5;241m=\u001b[39m \u001b[38;5;28mself\u001b[39m\u001b[38;5;241m.\u001b[39mq0\u001b[38;5;241m.\u001b[39mlog_prob(z)\n",
      "File \u001b[0;32m~/opt/anaconda3/lib/python3.9/site-packages/normflows/flows/affine/coupling.py:265\u001b[0m, in \u001b[0;36mAffineCouplingBlock.inverse\u001b[0;34m(self, z)\u001b[0m\n\u001b[1;32m    263\u001b[0m log_det_tot \u001b[38;5;241m=\u001b[39m torch\u001b[38;5;241m.\u001b[39mzeros(z\u001b[38;5;241m.\u001b[39mshape[\u001b[38;5;241m0\u001b[39m], dtype\u001b[38;5;241m=\u001b[39mz\u001b[38;5;241m.\u001b[39mdtype, device\u001b[38;5;241m=\u001b[39mz\u001b[38;5;241m.\u001b[39mdevice)\n\u001b[1;32m    264\u001b[0m \u001b[38;5;28;01mfor\u001b[39;00m i \u001b[38;5;129;01min\u001b[39;00m \u001b[38;5;28mrange\u001b[39m(\u001b[38;5;28mlen\u001b[39m(\u001b[38;5;28mself\u001b[39m\u001b[38;5;241m.\u001b[39mflows) \u001b[38;5;241m-\u001b[39m \u001b[38;5;241m1\u001b[39m, \u001b[38;5;241m-\u001b[39m\u001b[38;5;241m1\u001b[39m, \u001b[38;5;241m-\u001b[39m\u001b[38;5;241m1\u001b[39m):\n\u001b[0;32m--> 265\u001b[0m     z, log_det \u001b[38;5;241m=\u001b[39m \u001b[38;5;28;43mself\u001b[39;49m\u001b[38;5;241;43m.\u001b[39;49m\u001b[43mflows\u001b[49m\u001b[43m[\u001b[49m\u001b[43mi\u001b[49m\u001b[43m]\u001b[49m\u001b[38;5;241;43m.\u001b[39;49m\u001b[43minverse\u001b[49m\u001b[43m(\u001b[49m\u001b[43mz\u001b[49m\u001b[43m)\u001b[49m\n\u001b[1;32m    266\u001b[0m     log_det_tot \u001b[38;5;241m+\u001b[39m\u001b[38;5;241m=\u001b[39m log_det\n\u001b[1;32m    267\u001b[0m \u001b[38;5;28;01mreturn\u001b[39;00m z, log_det_tot\n",
      "File \u001b[0;32m~/opt/anaconda3/lib/python3.9/site-packages/normflows/flows/reshape.py:62\u001b[0m, in \u001b[0;36mSplit.inverse\u001b[0;34m(self, z)\u001b[0m\n\u001b[1;32m     60\u001b[0m z1, z2 \u001b[38;5;241m=\u001b[39m z\n\u001b[1;32m     61\u001b[0m \u001b[38;5;28;01mif\u001b[39;00m \u001b[38;5;28mself\u001b[39m\u001b[38;5;241m.\u001b[39mmode \u001b[38;5;241m==\u001b[39m \u001b[38;5;124m\"\u001b[39m\u001b[38;5;124mchannel\u001b[39m\u001b[38;5;124m\"\u001b[39m:\n\u001b[0;32m---> 62\u001b[0m     z \u001b[38;5;241m=\u001b[39m \u001b[43mtorch\u001b[49m\u001b[38;5;241;43m.\u001b[39;49m\u001b[43mcat\u001b[49m\u001b[43m(\u001b[49m\u001b[43m[\u001b[49m\u001b[43mz1\u001b[49m\u001b[43m,\u001b[49m\u001b[43m \u001b[49m\u001b[43mz2\u001b[49m\u001b[43m]\u001b[49m\u001b[43m,\u001b[49m\u001b[43m \u001b[49m\u001b[38;5;241;43m1\u001b[39;49m\u001b[43m)\u001b[49m\n\u001b[1;32m     63\u001b[0m \u001b[38;5;28;01melif\u001b[39;00m \u001b[38;5;28mself\u001b[39m\u001b[38;5;241m.\u001b[39mmode \u001b[38;5;241m==\u001b[39m \u001b[38;5;124m\"\u001b[39m\u001b[38;5;124mchannel_inv\u001b[39m\u001b[38;5;124m\"\u001b[39m:\n\u001b[1;32m     64\u001b[0m     z \u001b[38;5;241m=\u001b[39m torch\u001b[38;5;241m.\u001b[39mcat([z2, z1], \u001b[38;5;241m1\u001b[39m)\n",
      "\u001b[0;31mKeyboardInterrupt\u001b[0m: "
     ]
    }
   ],
   "source": [
    "# Create a new model instance\n",
    "model2 = create_model(base='resampled')\n",
    "\n",
    "batch_size = 1000 \n",
    "train_dataloader = DataLoader(trainset, batch_size=batch_size, shuffle=True)\n",
    "val_dataloader = DataLoader(valset, batch_size=batch_size, shuffle=False)\n",
    "\n",
    "# Model parameters\n",
    "epochs = 20\n",
    "learning_rate = 0.002\n",
    "min_learning_rate = 1e-6\n",
    "\n",
    "# Optimizer and scheduler\n",
    "optimizer = torch.optim.Adam(model2.parameters(), lr=learning_rate)\n",
    "scheduler = torch.optim.lr_scheduler.ReduceLROnPlateau(optimizer, mode='min', factor = 0.9, patience=100, min_lr=min_learning_rate)\n",
    "\n",
    "# Training loop\n",
    "for epoch in tqdm(range(epochs), ncols=100):\n",
    "    train(train_dataloader, model2, optimizer, scheduler)\n",
    "\n",
    "print(\"Done!\")"
   ]
  },
  {
   "cell_type": "code",
   "execution_count": 37,
   "metadata": {},
   "outputs": [
    {
     "data": {
      "image/png": "[encoded data removed]",
      "text/plain": [
       "<Figure size 576x432 with 1 Axes>"
      ]
     },
     "metadata": {
      "needs_background": "light"
     },
     "output_type": "display_data"
    }
   ],
   "source": [
    "import matplotlib.pyplot as plt\n",
    "\n",
    "# Generate samples from the trained model\n",
    "model2.eval()\n",
    "with torch.no_grad():\n",
    "    samples = model2.sample(10000)\n",
    "    if isinstance(samples, tuple):\n",
    "        samples = samples[0]  # Extract the tensor if it's a tuple\n",
    "    generated_samples = samples.cpu().numpy()\n",
    "\n",
    "# Number of samples to visualize\n",
    "n_samples = 10000\n",
    "\n",
    "# Visualize\n",
    "fig, ax = plt.subplots(figsize=(8, 6))\n",
    "\n",
    "# Plot target distribution\n",
    "counts, bins, _ = ax.hist(mp_thetap[:n_samples, 0], 50, alpha=0.5, label=r'$\\mathrm{Target}$')\n",
    "\n",
    "# Plot generated samples\n",
    "ax.hist(generated_samples[:n_samples, 0], bins=bins, alpha=0.5, label=r'$\\mathrm{Generated}$')\n",
    "\n",
    "ax.set_xlabel(r\"$m'$\")\n",
    "ax.set_ylabel(r'$\\mathrm{Counts}$')\n",
    "\n",
    "ax.legend(loc='best', frameon=False)\n",
    "\n",
    "fig.tight_layout()\n",
    "fig.savefig(r'figs/D-amplitude_SDP_mp_INN_target_vs_gen_v2.pdf', dpi=300, pad_inches=.1, bbox_inches='tight')\n",
    "fig.savefig(r'figs/D-amplitude_SDP_mp_INN_target_vs_gen_v2.png', dpi=300, pad_inches=.1, bbox_inches='tight')\n",
    "\n",
    "plt.show()"
   ]
  },
  {
   "cell_type": "code",
   "execution_count": 40,
   "metadata": {},
   "outputs": [
    {
     "data": {
      "image/png": "[encoded data removed]",
      "text/plain": [
       "<Figure size 648x360 with 2 Axes>"
      ]
     },
     "metadata": {
      "needs_background": "light"
     },
     "output_type": "display_data"
    }
   ],
   "source": [
    "import matplotlib.pyplot as plt\n",
    "\n",
    "# Generate samples from the trained model\n",
    "model2.eval()\n",
    "with torch.no_grad():\n",
    "    samples = model2.sample(10000)\n",
    "    if isinstance(samples, tuple):\n",
    "        samples = samples[0]  # Extract the tensor if it's a tuple\n",
    "    mp_thetap_gen = samples.cpu().numpy()\n",
    "\n",
    "# Number of samples to visualize\n",
    "n_samples = 10000\n",
    "\n",
    "# Visualize 2D Dalitz plot\n",
    "fig, (ax1, ax2) = plt.subplots(1, 2, figsize=(9, 5))\n",
    "\n",
    "h, xedges, yedges, _ = ax1.hist2d(mp_thetap[:n_samples, 0], mp_thetap[:n_samples, 1], 50)\n",
    "ax2.hist2d(mp_thetap_gen[:, 0], mp_thetap_gen[:, 1], bins=[xedges, yedges])\n",
    "\n",
    "ax1.set_xlabel(r\"$m'$\")\n",
    "ax1.set_ylabel(r\"$\\theta'$\")\n",
    "ax1.set_title(r'$\\mathrm{Target}$')\n",
    "ax1.set_aspect('equal')\n",
    "\n",
    "ax2.set_xlabel(r\"$m'$\")\n",
    "ax2.set_ylabel(r\"$\\theta'$\")\n",
    "ax2.set_title(r'$\\mathrm{Generated}$')\n",
    "ax2.set_aspect('equal')\n",
    "\n",
    "fig.subplots_adjust(wspace=0, hspace=0)\n",
    "fig.tight_layout()\n",
    "fig.savefig(r'figs/D-amplitude_SDP_INN_target.pdf', dpi=300, pad_inches=.1, bbox_inches='tight')\n",
    "fig.savefig(r'figs/D-amplitude_SDP_INN_target.png', dpi=300, pad_inches=.1, bbox_inches='tight')\n",
    "\n",
    "plt.show()"
   ]
  },
  {
   "cell_type": "code",
   "execution_count": 52,
   "metadata": {},
   "outputs": [
    {
     "data": {
      "image/png": "[encoded data removed]",
      "text/plain": [
       "<Figure size 576x432 with 1 Axes>"
      ]
     },
     "metadata": {
      "needs_background": "light"
     },
     "output_type": "display_data"
    }
   ],
   "source": [
    "import matplotlib.pyplot as plt\n",
    "\n",
    "# Generate samples from the trained model\n",
    "model.eval()\n",
    "with torch.no_grad():\n",
    "    samples = model.sample(10000)\n",
    "    if isinstance(samples, tuple):\n",
    "        samples = samples[0]  # Extract the tensor if it's a tuple\n",
    "    generated_samples = samples.cpu().numpy()\n",
    "\n",
    "# Number of samples to visualize\n",
    "n_samples = 10000\n",
    "\n",
    "# Visualize\n",
    "fig, ax = plt.subplots(figsize=(8, 6))\n",
    "\n",
    "# Plot target distribution\n",
    "counts, bins, _ = ax.hist(mp_thetap[:n_samples, 0], 50, alpha=0.5, label=r'$\\mathrm{Target}$')\n",
    "\n",
    "# Plot generated samples\n",
    "ax.hist(generated_samples[:n_samples, 0], bins=bins, alpha=0.5, label=r'$\\mathrm{Generated}$')\n",
    "\n",
    "ax.set_xlabel(r\"$m'$\")\n",
    "ax.set_ylabel(r'$\\mathrm{Counts}$')\n",
    "\n",
    "ax.legend(loc='best', frameon=False)\n",
    "\n",
    "fig.tight_layout()\n",
    "fig.savefig(r'figs/D-amplitude_SDP_mp_INN_target_vs_gen_v2.pdf', dpi=300, pad_inches=.1, bbox_inches='tight')\n",
    "fig.savefig(r'figs/D-amplitude_SDP_mp_INN_target_vs_gen_v2.png', dpi=300, pad_inches=.1, bbox_inches='tight')\n",
    "\n",
    "plt.show()"
   ]
  }
 ],
 "metadata": {
  "kernelspec": {
   "display_name": "base",
   "language": "python",
   "name": "python3"
  },
  "language_info": {
   "codemirror_mode": {
    "name": "ipython",
    "version": 3
   },
   "file_extension": ".py",
   "mimetype": "text/x-python",
   "name": "python",
   "nbconvert_exporter": "python",
   "pygments_lexer": "ipython3",
   "version": "3.9.12"
  }
 },
 "nbformat": 4,
 "nbformat_minor": 4
}
