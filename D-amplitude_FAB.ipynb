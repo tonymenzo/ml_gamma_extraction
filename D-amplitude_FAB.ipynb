{
 "cells": [
  {
   "cell_type": "code",
   "execution_count": 5,
   "metadata": {},
   "outputs": [],
   "source": [
    "import normflows as nf\n",
    "import matplotlib.pyplot as plt\n",
    "import torch\n",
    "import numpy as np\n",
    "\n",
    "from torch.utils.data import Dataset\n",
    "from torch.utils.data import DataLoader\n",
    "\n",
    "from fab import FABModel, HamiltonianMonteCarlo, Metropolis\n",
    "from fab.utils.logging import ListLogger\n",
    "from fab.utils.plotting import plot_history, plot_contours, plot_marginal_pair\n",
    "# from dpp import DPP\n",
    "from fab.utils.prioritised_replay_buffer import PrioritisedReplayBuffer\n",
    "from fab import Trainer, PrioritisedBufferTrainer\n",
    "from fab.utils.plotting import plot_contours, plot_marginal_pair\n",
    "\n",
    "from experiments.make_flow import make_wrapped_normflow_realnvp\n",
    "from tqdm import tqdm\n",
    "\n",
    "import seaborn as sns\n",
    "sns.set()\n",
    "sns.set_style(\"ticks\")\n",
    "sns.set_context(\"paper\", font_scale = 2.0)\n",
    "plt.rcParams['text.usetex'] = True\n",
    "plt.rcParams['font.size'] = 25"
   ]
  },
  {
   "cell_type": "code",
   "execution_count": 3,
   "metadata": {},
   "outputs": [],
   "source": [
    "mp_thetap = np.load('D_Kspipi_SDP_1e7.npy')"
   ]
  },
  {
   "cell_type": "code",
   "execution_count": 6,
   "metadata": {},
   "outputs": [],
   "source": [
    "class dalitz_dataset(Dataset):\n",
    "    \"\"\"\n",
    "    Creates Dalitz dataset so that it can be used by the pytorch syntax.\n",
    "    \"\"\"\n",
    "\n",
    "    def __init__(self, data):\n",
    "        self.data = data\n",
    "\n",
    "    def __len__(self):\n",
    "        return self.data.shape[0]\n",
    "\n",
    "    def __getitem__(self, idx):\n",
    "        sample = self.data[idx]\n",
    "        return sample"
   ]
  },
  {
   "cell_type": "code",
   "execution_count": 11,
   "metadata": {},
   "outputs": [
    {
     "data": {
      "image/png": "[encoded data removed]",
      "text/plain": [
       "<Figure size 648x360 with 1 Axes>"
      ]
     },
     "metadata": {
      "needs_background": "light"
     },
     "output_type": "display_data"
    }
   ],
   "source": [
    "n_samples = 1000000\n",
    "\n",
    "# Visualize 2D Dalitz plot\n",
    "fig, ax1 = plt.subplots(1, 1, figsize=(9,5))\n",
    "\n",
    "h, xedges, yedges, _ = ax1.hist2d(mp_thetap[:n_samples,0], mp_thetap[:n_samples,1], 50)\n",
    "\n",
    "ax1.set_xlabel(r\"$m'$\")\n",
    "ax1.set_ylabel(r\"$\\theta'$\")\n",
    "ax1.set_title(r'$\\mathrm{Target}$')\n",
    "ax1.set_aspect('equal')\n",
    "\n",
    "fig.tight_layout()\n",
    "fig.savefig(r'figs/D-amplitude_SDP_INN_target.pdf', dpi = 300, pad_inches = .1, bbox_inches = 'tight')\n",
    "fig.savefig(r'figs/D-amplitude_SDP_INN_target.png', dpi = 300, pad_inches = .1, bbox_inches = 'tight')"
   ]
  },
  {
   "cell_type": "markdown",
   "metadata": {},
   "source": [
    "### Model v1"
   ]
  },
  {
   "cell_type": "code",
   "execution_count": 13,
   "metadata": {},
   "outputs": [],
   "source": [
    "# Define the flow\n",
    "n_flow_layers = 20\n",
    "layer_nodes_per_dim = 40\n",
    "lr = 1e-4\n",
    "max_gradient_norm = 100.0\n",
    "batch_size = 4096\n",
    "n_iterations = 4000\n",
    "n_eval = 10\n",
    "eval_batch_size = batch_size * 10\n",
    "n_plots = 25 # Number of plots shows throughout tranining\n",
    "use_64_bit = True\n",
    "alpha = 2.0\n",
    "\n",
    "# AIS\n",
    "# By default we use a simple metropolis mcmc transition with a fixed step size.\n",
    "# Can switch this to 'hmc' to improve training efficiency. \n",
    "transition_operator_type = \"metropolis\" \n",
    "n_intermediate_distributions = 7\n",
    "metropolis_step_size = 0.1\n",
    "\n",
    "# buffer config\n",
    "n_batches_buffer_sampling = 5\n",
    "maximum_buffer_length = batch_size * n_batches_buffer_sampling * 100\n",
    "min_buffer_length = batch_size * n_batches_buffer_sampling * 10\n",
    "\n",
    "# target p^\\alpha q^{a-\\alpha} as target for AIS. \n",
    "min_is_target = True\n",
    "p_target = not min_is_target # Whether to use p as the target."
   ]
  },
  {
   "cell_type": "markdown",
   "metadata": {},
   "source": [
    "## Model v2"
   ]
  },
  {
   "cell_type": "code",
   "execution_count": 15,
   "metadata": {},
   "outputs": [],
   "source": [
    "# Define the flow\n",
    "n_flow_layers = 20\n",
    "layer_nodes_per_dim = 40\n",
    "lr = 1e-4\n",
    "max_gradient_norm = 100.0\n",
    "batch_size = 4096\n",
    "n_iterations = 4000\n",
    "n_eval = 10\n",
    "eval_batch_size = batch_size * 10\n",
    "n_plots = 25 # Number of plots shows throughout tranining\n",
    "use_64_bit = True\n",
    "alpha = 2.0\n",
    "\n",
    "# AIS\n",
    "# By default we use a simple metropolis mcmc transition with a fixed step size.\n",
    "# Can switch this to 'hmc' to improve training efficiency. \n",
    "transition_operator_type = \"metropolis\" \n",
    "n_intermediate_distributions = 4\n",
    "metropolis_step_size = 0.2\n",
    "\n",
    "# buffer config\n",
    "n_batches_buffer_sampling = 5\n",
    "maximum_buffer_length = batch_size * n_batches_buffer_sampling * 100\n",
    "min_buffer_length = batch_size * n_batches_buffer_sampling * 10\n",
    "\n",
    "# target p^\\alpha q^{a-\\alpha} as target for AIS. \n",
    "min_is_target = True\n",
    "p_target = not min_is_target # Whether to use p as the target."
   ]
  },
  {
   "cell_type": "code",
   "execution_count": 17,
   "metadata": {},
   "outputs": [
    {
     "name": "stderr",
     "output_type": "stream",
     "text": [
      "/Users/san/opt/anaconda3/lib/python3.9/site-packages/torch/_tensor.py:663: UserWarning: torch.lu is deprecated in favor of torch.linalg.lu_factor / torch.linalg.lu_factor_ex and will be removed in a future PyTorch release.\n",
      "LU, pivots = torch.lu(A, compute_pivots)\n",
      "should be replaced with\n",
      "LU, pivots = torch.linalg.lu_factor(A, compute_pivots)\n",
      "and\n",
      "LU, pivots, info = torch.lu(A, compute_pivots, get_infos=True)\n",
      "should be replaced with\n",
      "LU, pivots, info = torch.linalg.lu_factor_ex(A, compute_pivots) (Triggered internally at /Users/runner/work/pytorch/pytorch/pytorch/aten/src/ATen/native/BatchLinearAlgebra.cpp:1925.)\n",
      "  LU, pivots, infos = torch._lu_with_info(\n"
     ]
    }
   ],
   "source": [
    "dim = 2\n",
    "seed = 0\n",
    "\n",
    "# Define the flow\n",
    "flow = make_wrapped_normflow_realnvp(dim, n_flow_layers=n_flow_layers, \n",
    "                                     layer_nodes_per_dim=layer_nodes_per_dim,\n",
    "                                     act_norm=False)"
   ]
  },
  {
   "cell_type": "code",
   "execution_count": null,
   "metadata": {},
   "outputs": [
    {
     "ename": "NameError",
     "evalue": "name 'target' is not defined",
     "output_type": "error",
     "traceback": [
      "\u001b[0;31m---------------------------------------------------------------------------\u001b[0m",
      "\u001b[0;31mNameError\u001b[0m                                 Traceback (most recent call last)",
      "Input \u001b[0;32mIn [18]\u001b[0m, in \u001b[0;36m<cell line: 2>\u001b[0;34m()\u001b[0m\n\u001b[1;32m      4\u001b[0m     transition_operator \u001b[38;5;241m=\u001b[39m HamiltonianMonteCarlo(\n\u001b[1;32m      5\u001b[0m             n_ais_intermediate_distributions\u001b[38;5;241m=\u001b[39mn_intermediate_distributions,\n\u001b[1;32m      6\u001b[0m             dim\u001b[38;5;241m=\u001b[39mdim,\n\u001b[0;32m   (...)\u001b[0m\n\u001b[1;32m     11\u001b[0m         n_outer\u001b[38;5;241m=\u001b[39m\u001b[38;5;241m1\u001b[39m,\n\u001b[1;32m     12\u001b[0m         epsilon\u001b[38;5;241m=\u001b[39m\u001b[38;5;241m1.0\u001b[39m, L\u001b[38;5;241m=\u001b[39m\u001b[38;5;241m5\u001b[39m)\n\u001b[1;32m     13\u001b[0m \u001b[38;5;28;01melif\u001b[39;00m transition_operator_type \u001b[38;5;241m==\u001b[39m \u001b[38;5;124m\"\u001b[39m\u001b[38;5;124mmetropolis\u001b[39m\u001b[38;5;124m\"\u001b[39m:\n\u001b[1;32m     14\u001b[0m     transition_operator \u001b[38;5;241m=\u001b[39m Metropolis(            \n\u001b[1;32m     15\u001b[0m         n_ais_intermediate_distributions\u001b[38;5;241m=\u001b[39mn_intermediate_distributions,\n\u001b[1;32m     16\u001b[0m         dim\u001b[38;5;241m=\u001b[39mdim,\n\u001b[1;32m     17\u001b[0m         base_log_prob\u001b[38;5;241m=\u001b[39mflow\u001b[38;5;241m.\u001b[39mlog_prob,\n\u001b[0;32m---> 18\u001b[0m         target_log_prob\u001b[38;5;241m=\u001b[39m\u001b[43mtarget\u001b[49m\u001b[38;5;241m.\u001b[39mlog_prob,\n\u001b[1;32m     19\u001b[0m         p_target\u001b[38;5;241m=\u001b[39mp_target,\n\u001b[1;32m     20\u001b[0m         alpha\u001b[38;5;241m=\u001b[39malpha,\n\u001b[1;32m     21\u001b[0m         n_updates\u001b[38;5;241m=\u001b[39m\u001b[38;5;241m1\u001b[39m,\n\u001b[1;32m     22\u001b[0m         adjust_step_size\u001b[38;5;241m=\u001b[39m\u001b[38;5;28;01mFalse\u001b[39;00m,\n\u001b[1;32m     23\u001b[0m         max_step_size\u001b[38;5;241m=\u001b[39mmetropolis_step_size, \u001b[38;5;66;03m# the same for all metropolis steps \u001b[39;00m\n\u001b[1;32m     24\u001b[0m         min_step_size\u001b[38;5;241m=\u001b[39mmetropolis_step_size,\n\u001b[1;32m     25\u001b[0m         eval_mode\u001b[38;5;241m=\u001b[39m\u001b[38;5;28;01mTrue\u001b[39;00m)\n\u001b[1;32m     26\u001b[0m \u001b[38;5;28;01melse\u001b[39;00m:\n\u001b[1;32m     27\u001b[0m     \u001b[38;5;28;01mraise\u001b[39;00m \u001b[38;5;167;01mNotImplementedError\u001b[39;00m\n",
      "\u001b[0;31mNameError\u001b[0m: name 'target' is not defined"
     ]
    }
   ],
   "source": [
    "# Define the transistion operator\n",
    "if transition_operator_type == \"hmc\":\n",
    "    # very lightweight HMC.\n",
    "    transition_operator = HamiltonianMonteCarlo(\n",
    "            n_ais_intermediate_distributions=n_intermediate_distributions,\n",
    "            dim=dim,\n",
    "            base_log_prob=flow.log_prob,\n",
    "            target_log_prob=target.log_prob,\n",
    "            alpha=alpha,\n",
    "            p_target=p_target,\n",
    "        n_outer=1,\n",
    "        epsilon=1.0, L=5)\n",
    "elif transition_operator_type == \"metropolis\":\n",
    "    transition_operator = Metropolis(            \n",
    "        n_ais_intermediate_distributions=n_intermediate_distributions,\n",
    "        dim=dim,\n",
    "        base_log_prob=flow.log_prob,\n",
    "        target_log_prob=target.log_prob,\n",
    "        p_target=p_target,\n",
    "        alpha=alpha,\n",
    "        n_updates=1,\n",
    "        adjust_step_size=False,\n",
    "        max_step_size=metropolis_step_size, # the same for all metropolis steps \n",
    "        min_step_size=metropolis_step_size,\n",
    "        eval_mode=True)\n",
    "else:\n",
    "    raise NotImplementedError"
   ]
  }
 ],
 "metadata": {
  "kernelspec": {
   "display_name": "base",
   "language": "python",
   "name": "python3"
  },
  "language_info": {
   "codemirror_mode": {
    "name": "ipython",
    "version": 3
   },
   "file_extension": ".py",
   "mimetype": "text/x-python",
   "name": "python",
   "nbconvert_exporter": "python",
   "pygments_lexer": "ipython3",
   "version": "3.9.12"
  }
 },
 "nbformat": 4,
 "nbformat_minor": 2
}
