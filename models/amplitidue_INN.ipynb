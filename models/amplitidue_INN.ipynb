{
 "cells": [
  {
   "cell_type": "code",
   "execution_count": null,
   "metadata": {},
   "outputs": [
    {
     "name": "stdout",
     "output_type": "stream",
     "text": [
      "Python 3.12.2 | packaged by conda-forge | (main, Feb 16 2024, 20:50:58) [GCC 12.3.0]\n"
     ]
    }
   ],
   "source": [
    "import os\n",
    "import sys\n",
    "import random\n",
    "import numpy as np\n",
    "import matplotlib.pyplot as plt\n",
    "import seaborn as sns\n",
    "from tqdm import tqdm\n",
    "\n",
    "sns.set()\n",
    "sns.set_style(\"ticks\")\n",
    "sns.set_context(\"paper\", font_scale = 1.5)\n",
    "plt.rcParams['text.usetex'] = True\n",
    "plt.rcParams['font.size'] = 20\n",
    "\n",
    "import torch\n",
    "from torch import nn\n",
    "from torch.utils.data import Dataset\n",
    "from torch.utils.data import DataLoader\n",
    "from torch import Tensor\n",
    "from torch.nn.parameter import Parameter, UninitializedParameter\n",
    "from torch.nn import functional as F\n",
    "from torch.nn import init\n",
    "from torch.nn import Module\n",
    "import FrEIA.framework as Ff\n",
    "import FrEIA.modules as Fm\n",
    "from sklearn.model_selection import train_test_split\n",
    "\n",
    "#print('Python', sys.version)"
   ]
  },
  {
   "cell_type": "code",
   "execution_count": 3,
   "metadata": {},
   "outputs": [],
   "source": [
    "class dalitz_dataset(Dataset):\n",
    "    \"\"\"\n",
    "    Creates Dalitz dataset so that it can be used by the pythorch syntax.\n",
    "    \"\"\"\n",
    "\n",
    "    def __init__(self, data):\n",
    "        self.data = data\n",
    "\n",
    "    def __len__(self):\n",
    "        return self.data.shape[0]\n",
    "\n",
    "    def __getitem__(self, idx):\n",
    "        sample = self.data[idx]\n",
    "        return sample"
   ]
  },
  {
   "cell_type": "code",
   "execution_count": 4,
   "metadata": {},
   "outputs": [],
   "source": [
    "def subnet_fc( dims_in, dims_out ):\n",
    "    return nn.Sequential( nn.Linear(dims_in, 100), \n",
    "                         nn.ReLU(),\n",
    "                         nn.Linear(100,  dims_out) )"
   ]
  },
  {
   "cell_type": "code",
   "execution_count": 5,
   "metadata": {},
   "outputs": [
    {
     "name": "stdout",
     "output_type": "stream",
     "text": [
      "Using cpu device\n"
     ]
    }
   ],
   "source": [
    "device = \"cuda\" if torch.cuda.is_available() else \"cpu\"\n",
    "print(f\"Using {device} device\")"
   ]
  },
  {
   "cell_type": "code",
   "execution_count": 6,
   "metadata": {},
   "outputs": [],
   "source": [
    "def inn_loss(z, ndim, log_jac_det):\n",
    "    l = 0.5*torch.sum(z**2, 1) - log_jac_det\n",
    "    l = l.mean() / ndim\n",
    "    return l"
   ]
  },
  {
   "cell_type": "code",
   "execution_count": null,
   "metadata": {},
   "outputs": [],
   "source": [
    "def train(dataloader, model, optimizer, ndim, scheduler=None):\n",
    "\n",
    "    size = len(dataloader.dataset)\n",
    "    model.train()\n",
    "\n",
    "    for batch, X in enumerate(dataloader):\n",
    "        # Pass through the network\n",
    "        z, log_jac_det = model(X)\n",
    "        \n",
    "        loss = 0.0\n",
    "        \n",
    "        # Get the batch loss\n",
    "        loss = inn_loss(z, ndim, log_jac_det)\n",
    "\n",
    "        # Reset the gradients in the optimizer (see autograd tutorial in PyTorch docs)\n",
    "        optimizer.zero_grad()\n",
    "\n",
    "        # Compute gradients\n",
    "        loss.backward()\n",
    "\n",
    "        # Update the network weights\n",
    "        optimizer.step()\n",
    "        \n",
    "        # Use scheduler, if any\n",
    "        if scheduler != None:\n",
    "            scheduler.step(loss)\n",
    "\n",
    "        # Print the loss every 100 updates\n",
    "        if batch % 100 == 0:\n",
    "            print(f'INN loss: {loss:>8f}, learning_rate: {optimizer.param_groups[0][\"lr\"]:>8f}')"
   ]
  },
  {
   "cell_type": "code",
   "execution_count": 9,
   "metadata": {},
   "outputs": [
    {
     "name": "stdout",
     "output_type": "stream",
     "text": [
      "Training set size:  (8000000, 2) Validation set size:  (2000000, 2)\n",
      "Model Architecture: \n",
      "SequenceINN(\n",
      "  (module_list): ModuleList(\n",
      "    (0-9): 10 x AllInOneBlock(\n",
      "      (softplus): Softplus(beta=0.5, threshold=20.0)\n",
      "      (subnet): Sequential(\n",
      "        (0): Linear(in_features=1, out_features=100, bias=True)\n",
      "        (1): ReLU()\n",
      "        (2): Linear(in_features=100, out_features=2, bias=True)\n",
      "      )\n",
      "    )\n",
      "  )\n",
      ")\n"
     ]
    },
    {
     "name": "stderr",
     "output_type": "stream",
     "text": [
      "  0%|                                                                         | 0/2 [00:00<?, ?it/s]"
     ]
    },
    {
     "name": "stdout",
     "output_type": "stream",
     "text": [
      "INN loss: 0.167488, learning_rate: 0.002000\n",
      "INN loss: -1.175239, learning_rate: 0.002000\n",
      "INN loss: -1.332956, learning_rate: 0.002000\n",
      "INN loss: -1.387370, learning_rate: 0.002000\n",
      "INN loss: -1.409926, learning_rate: 0.002000\n",
      "INN loss: -1.418770, learning_rate: 0.002000\n",
      "INN loss: -1.433429, learning_rate: 0.002000\n",
      "INN loss: -1.419874, learning_rate: 0.002000\n"
     ]
    },
    {
     "name": "stderr",
     "output_type": "stream",
     "text": [
      " 50%|████████████████████████████████▌                                | 1/2 [01:25<01:25, 85.74s/it]"
     ]
    },
    {
     "name": "stdout",
     "output_type": "stream",
     "text": [
      "INN loss: -1.435598, learning_rate: 0.001800\n",
      "INN loss: -1.425322, learning_rate: 0.001620\n",
      "INN loss: -1.440068, learning_rate: 0.001620\n",
      "INN loss: -1.456376, learning_rate: 0.001458\n",
      "INN loss: -1.442628, learning_rate: 0.001458\n",
      "INN loss: -1.455635, learning_rate: 0.001458\n",
      "INN loss: -1.460379, learning_rate: 0.001312\n",
      "INN loss: -1.458483, learning_rate: 0.001181\n"
     ]
    },
    {
     "name": "stderr",
     "output_type": "stream",
     "text": [
      "100%|█████████████████████████████████████████████████████████████████| 2/2 [02:56<00:00, 88.26s/it]"
     ]
    },
    {
     "name": "stdout",
     "output_type": "stream",
     "text": [
      "Done!\n"
     ]
    },
    {
     "name": "stderr",
     "output_type": "stream",
     "text": [
      "\n"
     ]
    }
   ],
   "source": [
    "mp_thetap = np.load('D_Kspipi_SDP_1e7.npy')\n",
    "\n",
    "# Split data into train, validation\n",
    "mp_thetap_train, mp_thetap_val = train_test_split(mp_thetap, test_size=0.2)\n",
    "\n",
    "print(\"Training set size: \", mp_thetap_train.shape, \"Validation set size: \", mp_thetap_val.shape)\n",
    "\n",
    "# Convert into torch objects\n",
    "mp_thetap_train = torch.Tensor(mp_thetap_train)\n",
    "mp_thetap_val   = torch.Tensor(mp_thetap_val)\n",
    "\n",
    "trainset = dalitz_dataset(mp_thetap_train)\n",
    "valset   = dalitz_dataset(mp_thetap_val)\n",
    "\n",
    "batch_size = 10000\n",
    "\n",
    "train_dataloader = DataLoader(trainset, batch_size = batch_size, shuffle = True)\n",
    "val_dataloader = DataLoader(valset, batch_size = batch_size, shuffle = True)\n",
    "\n",
    "epochs = 2\n",
    "learning_rate = 0.002\n",
    "min_learning_rate = 1e-6\n",
    "\n",
    "n_dim = mp_thetap.shape[1]\n",
    "n_blocks = 10\n",
    "training_size = len(mp_thetap)\n",
    "\n",
    "# Define the model\n",
    "inn = Ff.SequenceINN( n_dim )\n",
    "for k in range(n_blocks):\n",
    "    inn.append( Fm.AllInOneBlock, subnet_constructor=subnet_fc, permute_soft=True )\n",
    "\n",
    "print(\"Model Architecture: \")\n",
    "print(inn)\n",
    "\n",
    "optimizer = torch.optim.Adam(inn.parameters(), lr=learning_rate)\n",
    "\n",
    "# Learning rate scheduler\n",
    "scheduler = torch.optim.lr_scheduler.ReduceLROnPlateau(optimizer, mode= 'min', factor = 0.9, patience = 100, min_lr = min_learning_rate)\n",
    "#scheduler = None\n",
    "\n",
    "for t in tqdm(range(epochs), ncols = 100):\n",
    "    train(train_dataloader, inn, optimizer,  n_dim, scheduler)\n",
    "    \n",
    "print(\"Done!\")"
   ]
  },
  {
   "cell_type": "code",
   "execution_count": 24,
   "metadata": {},
   "outputs": [
    {
     "name": "stdout",
     "output_type": "stream",
     "text": [
      "torch.Size([100000, 2])\n"
     ]
    },
    {
     "data": {
      "image/png": "[encoded data removed]",
      "text/plain": [
       "<Figure size 600x500 with 1 Axes>"
      ]
     },
     "metadata": {},
     "output_type": "display_data"
    }
   ],
   "source": [
    "# Latent distribution\n",
    "n_samples = 100000\n",
    "z_gen = torch.randn((n_samples, n_dim))\n",
    "\n",
    "print(z_gen.shape)\n",
    "\n",
    "# Visualize the latent distribution\n",
    "fig, ax = plt.subplots(figsize=(6,5))\n",
    "\n",
    "ax.hist(z_gen.detach().numpy().flatten(), alpha=0.5, density=True, bins=100, label=r'$z$', edgecolor='black')\n",
    "\n",
    "ax.set_xlabel('$z$')\n",
    "ax.set_ylabel( r'$\\mathrm{Events}$')\n",
    "ax.legend(loc='best', frameon=False)\n",
    "\n",
    "fig.tight_layout()"
   ]
  },
  {
   "cell_type": "code",
   "execution_count": 17,
   "metadata": {},
   "outputs": [
    {
     "name": "stdout",
     "output_type": "stream",
     "text": [
      "(100000, 2)\n",
      "[0.9076682 0.5382245]\n"
     ]
    }
   ],
   "source": [
    "# Generate m2 samples from latent distribution\n",
    "mp_thetap_gen, _ = inn(z_gen, rev=True)\n",
    "mp_thetap_gen = mp_thetap_gen.detach().numpy()[:]\n",
    "\n",
    "print(mp_thetap_gen.shape)\n",
    "print(mp_thetap_gen[0])"
   ]
  },
  {
   "cell_type": "code",
   "execution_count": 25,
   "metadata": {},
   "outputs": [
    {
     "data": {
      "image/png": "[encoded data removed]",
      "text/plain": [
       "<Figure size 600x500 with 1 Axes>"
      ]
     },
     "metadata": {},
     "output_type": "display_data"
    }
   ],
   "source": [
    "# Visualize \n",
    "fig, ax = plt.subplots( figsize=(6,5) )\n",
    "\n",
    "counts, bins, _ = ax.hist(mp_thetap[:n_samples,0], 50, alpha = 0.5, label = r'$\\mathrm{Target}$')\n",
    "ax.hist(mp_thetap_gen[:,0], bins, alpha=0.5, label = r'$\\mathrm{Generated}$')\n",
    "\n",
    "ax.set_xlabel( r\"$m'$\")\n",
    "ax.set_ylabel( r'$\\mathrm{Counts}$' )\n",
    "\n",
    "\n",
    "ax.legend(loc='best', frameon=False)\n",
    "\n",
    "fig.tight_layout()\n",
    "#fig.savefig(r'figs/D-amplitude_SDP_mp_INN_target_vs_gen_v2.pdf', dpi = 300, pad_inches = .1, bbox_inches = 'tight')\n",
    "#fig.savefig(r'figs/D-amplitude_SDP_mp_INN_target_vs_gen_v2.png', dpi = 300, pad_inches = .1, bbox_inches = 'tight')"
   ]
  },
  {
   "cell_type": "code",
   "execution_count": 26,
   "metadata": {},
   "outputs": [
    {
     "data": {
      "image/png": "[encoded data removed]",
      "text/plain": [
       "<Figure size 600x500 with 1 Axes>"
      ]
     },
     "metadata": {},
     "output_type": "display_data"
    }
   ],
   "source": [
    "# Visualize \n",
    "fig, ax = plt.subplots( figsize=(6,5) )\n",
    "\n",
    "counts, bins, _ = ax.hist(mp_thetap[:n_samples,1], 50, alpha = 0.5, label = r'$\\mathrm{Target}$')\n",
    "ax.hist(mp_thetap_gen[:,1], bins, alpha=0.5, label = r'$\\mathrm{Generated}$')\n",
    "\n",
    "ax.set_xlabel( r\"$\\theta'$\")\n",
    "ax.set_ylabel( r'$\\mathrm{Counts}$' )\n",
    "\n",
    "\n",
    "ax.legend(loc='best', frameon=False)\n",
    "\n",
    "fig.tight_layout()\n",
    "#fig.savefig(r'figs/D-amplitude_SDP_thetap_INN_target_vs_gen_v2.pdf', dpi = 300, pad_inches = .1, bbox_inches = 'tight')\n",
    "#fig.savefig(r'figs/D-amplitude_SDP_thetap_INN_target_vs_gen_v2.png', dpi = 300, pad_inches = .1, bbox_inches = 'tight')"
   ]
  },
  {
   "cell_type": "code",
   "execution_count": 27,
   "metadata": {},
   "outputs": [
    {
     "data": {
      "image/png": "[encoded data removed]",
      "text/plain": [
       "<Figure size 900x500 with 2 Axes>"
      ]
     },
     "metadata": {},
     "output_type": "display_data"
    }
   ],
   "source": [
    "# Visualize 2D Dalitz plot\n",
    "fig, (ax1, ax2) = plt.subplots(1, 2, figsize=(9,5) )\n",
    "\n",
    "h, xedges, yedges, _ = ax1.hist2d(mp_thetap[:n_samples,0], mp_thetap[:n_samples,1], 50)\n",
    "ax2.hist2d(mp_thetap_gen[:,0], mp_thetap_gen[:,1], bins = [xedges, yedges])\n",
    "\n",
    "ax1.set_xlabel(r\"$m'$\")\n",
    "ax1.set_ylabel(r\"$\\theta'$\")\n",
    "ax1.set_title(r'$\\mathrm{Target}$')\n",
    "ax1.set_aspect('equal')\n",
    "\n",
    "ax2.set_xlabel(r\"$m'$\")\n",
    "ax2.set_ylabel(r\"$\\theta'$\")\n",
    "ax2.set_title(r'$\\mathrm{Generated}$')\n",
    "ax2.set_aspect('equal')\n",
    "\n",
    "#ax.legend(loc='best', frameon=False)\n",
    "fig.subplots_adjust(wspace=0, hspace=0)\n",
    "fig.tight_layout()\n",
    "#fig.savefig(r'figs/D-amplitude_SDP_INN_target.pdf', dpi = 300, pad_inches = .1, bbox_inches = 'tight')\n",
    "#fig.savefig(r'figs/D-amplitude_SDP_INN_target.png', dpi = 300, pad_inches = .1, bbox_inches = 'tight')"
   ]
  },
  {
   "cell_type": "code",
   "execution_count": null,
   "metadata": {},
   "outputs": [],
   "source": []
  }
 ],
 "metadata": {
  "kernelspec": {
   "display_name": "hadronization_mlrw",
   "language": "python",
   "name": "python3"
  },
  "language_info": {
   "codemirror_mode": {
    "name": "ipython",
    "version": 3
   },
   "file_extension": ".py",
   "mimetype": "text/x-python",
   "name": "python",
   "nbconvert_exporter": "python",
   "pygments_lexer": "ipython3",
   "version": "3.12.2"
  }
 },
 "nbformat": 4,
 "nbformat_minor": 4
}
