{
 "cells": [
  {
   "cell_type": "code",
   "execution_count": 9,
   "metadata": {},
   "outputs": [
    {
     "name": "stdout",
     "output_type": "stream",
     "text": [
      "Python 3.9.16 (main, Dec  7 2022, 18:33:36) \n",
      "[GCC 12.2.0]\n"
     ]
    }
   ],
   "source": [
    "import os\n",
    "import sys\n",
    "import random\n",
    "import numpy as np\n",
    "import matplotlib.pyplot as plt\n",
    "import seaborn as sns\n",
    "from tqdm import tqdm\n",
    "\n",
    "sns.set()\n",
    "sns.set_style(\"ticks\")\n",
    "sns.set_context(\"paper\", font_scale = 1.8)\n",
    "plt.rcParams['text.usetex'] = True\n",
    "plt.rcParams['font.size'] = 25\n",
    "\n",
    "import torch\n",
    "from torch import nn\n",
    "from torch.utils.data import Dataset\n",
    "from torch.utils.data import DataLoader\n",
    "from torch import Tensor\n",
    "from torch.nn.parameter import Parameter, UninitializedParameter\n",
    "from torch.nn import functional as F\n",
    "from torch.nn import init\n",
    "from torch.nn import Module\n",
    "import FrEIA.framework as Ff\n",
    "import FrEIA.modules as Fm\n",
    "from sklearn.model_selection import train_test_split\n",
    "\n",
    "print('Python', sys.version)"
   ]
  },
  {
   "cell_type": "code",
   "execution_count": 3,
   "metadata": {},
   "outputs": [],
   "source": [
    "class dalitz_dataset(Dataset):\n",
    "    \"\"\"\n",
    "    Creates Dalitz dataset so that it can be used by the pythorch syntax.\n",
    "    \"\"\"\n",
    "\n",
    "    def __init__(self, data):\n",
    "        self.data = data\n",
    "\n",
    "    def __len__(self):\n",
    "        return self.data.shape[0]\n",
    "\n",
    "    def __getitem__(self, idx):\n",
    "        sample = self.data[idx]\n",
    "        return sample"
   ]
  },
  {
   "cell_type": "code",
   "execution_count": 4,
   "metadata": {},
   "outputs": [],
   "source": [
    "class Linear_VB(Module):\n",
    "    \"\"\"\n",
    "    Build a Bayesian linear weight layer i.e. weights are now distributions\n",
    "    \"\"\"\n",
    "    __constants__ = ['in_features', 'out_features']\n",
    "    in_features: int\n",
    "    out_features: int\n",
    "    weight: Tensor\n",
    "    \n",
    "    def __init__(self, in_features, out_features, resample = True):\n",
    "        super(Linear_VB, self).__init__()\n",
    "        self.in_features = in_features\n",
    "        self.out_features = out_features\n",
    "        self.resample = resample                                        # Sample random weights through each forward pass\n",
    "        self.bias = Parameter(Tensor(out_features))                     # Assign as tunable parameter with dimension (1 x out_features)\n",
    "        self.mu_w = Parameter(Tensor(out_features, in_features))        # Assign as tunable parameter with dimension (out_features x in_features)\n",
    "        self.logsig2_w = Parameter(Tensor(out_features, in_features))   # Assign as tunable parameter with dimension (out_features x in_features)\n",
    "        self.random = torch.randn_like(self.logsig2_w)\n",
    "        self.reset_parameters()\n",
    "        \n",
    "    def forward( self, input ):\n",
    "        # Sample random weights on each forward pass\n",
    "        if self.resample:\n",
    "            self.random = torch.randn_like(self.logsig2_w)\n",
    "        s2_w = self.logsig2_w.exp()\n",
    "        # Reparameterization trick\n",
    "        weight = self.mu_w + s2_w.sqrt() * self.random\n",
    "        return nn.functional.linear(input, weight, self.bias)\n",
    "    \n",
    "    def reset_parameters(self):\n",
    "        stdv = 1. / np.sqrt(self.mu_w.size(1))\n",
    "        self.mu_w.data.normal_(0, stdv)\n",
    "        self.logsig2_w.data.zero_().normal_(-9, 0.001)\n",
    "        self.bias.data.zero_()\n",
    "        \n",
    "    def KL( self, loguniform=False ):\n",
    "        kl = 0.5 * (self.mu_w.pow(2) + self.logsig2_w.exp() - self.logsig2_w - 1).sum()\n",
    "        return kl"
   ]
  },
  {
   "cell_type": "code",
   "execution_count": 42,
   "metadata": {},
   "outputs": [],
   "source": [
    "class Bayes_INN(Module):\n",
    "    def __init__(self, n_dim, training_size, input_dim = 2000, hidden_dim = 2000, output_dim = 2000, resample = True):\n",
    "        super(Bayes_INN, self).__init__()\n",
    "\n",
    "        # Number of entries in the training dataset\n",
    "        self.n_dim = n_dim\n",
    "        \n",
    "        # Loss function is dependent on the size of the training dataset\n",
    "        self.training_size = training_size\n",
    "\n",
    "        def subnet(input_dim, output_dim):\n",
    "\n",
    "            # Two types of layers -> weight layers and activation layers the latter is not Bayesian\n",
    "            self.subnet_bayes_layers = []\n",
    "            self.subnet_layers       = []\n",
    "    \n",
    "            # Define the input layer\n",
    "            linear_VB_layer = Linear_VB(input_dim, hidden_dim)#, resample = resample)\n",
    "            self.subnet_bayes_layers.append(linear_VB_layer)\n",
    "            self.subnet_layers.append(linear_VB_layer)\n",
    "            self.subnet_layers.append(nn.ReLU())\n",
    "    \n",
    "            # If you want a more complex subnet, add more hidden layers\n",
    "            linear_VB_layer = Linear_VB(hidden_dim, hidden_dim)\n",
    "            self.subnet_bayes_layers.append(linear_VB_layer)\n",
    "            self.subnet_layers.append(linear_VB_layer)\n",
    "            self.subnet_layers.append(nn.ReLU())\n",
    "    \n",
    "            # Now for the final output layer\n",
    "            linear_VB_layer = Linear_VB(hidden_dim, output_dim)#, resample = resample)\n",
    "            self.subnet_bayes_layers.append(linear_VB_layer)\n",
    "            self.subnet_layers.append(linear_VB_layer)\n",
    "            # We don't need an activation layer for the output layer\n",
    "    \n",
    "            # The full model is a sequentiual net over the defined layers above\n",
    "            return nn.Sequential(*self.subnet_layers)\n",
    "\n",
    "\n",
    "        self.inn = Ff.SequenceINN(self.n_dim)\n",
    "        for k in range(self.n_dim):\n",
    "            self.inn.append(Fm.AllInOneBlock, subnet_constructor=subnet, permute_soft=True)\n",
    "            #self.inn.append(Fm.GINCouplingBlock, subnet_constructor=subnet)\n",
    "\n",
    "    # We need the KL from the Bayesian layers\n",
    "    def KL(self):\n",
    "        kl = 0\n",
    "        for bayesian_layer in self.subnet_bayes_layers:\n",
    "            kl += bayesian_layer.KL()\n",
    "        return kl / self.training_size # Normalized to the training size? "
   ]
  },
  {
   "cell_type": "code",
   "execution_count": 31,
   "metadata": {},
   "outputs": [],
   "source": [
    "def inn_loss(z, ndim, log_jac_det):\n",
    "    l = 0.5*torch.sum(z**2, 1) - log_jac_det\n",
    "    l = l.mean() / ndim\n",
    "    return l"
   ]
  },
  {
   "cell_type": "code",
   "execution_count": 32,
   "metadata": {},
   "outputs": [],
   "source": [
    "def train(dataloader, model, optimizer, scheduler=None, ndim = 5):\n",
    "\n",
    "    size = len(dataloader.dataset)\n",
    "    model.train()\n",
    "\n",
    "    for batch, X in enumerate(dataloader):\n",
    "        # Pass through the network\n",
    "        z, log_jac_det = model(X)\n",
    "        \n",
    "        loss_inn, loss_KL, loss = 0.0, 0.0, 0.0\n",
    "        \n",
    "        # Compute the KL loss for each of the Bayesian layers in the network\n",
    "        for i in range(len(model.module_list)):\n",
    "            for j in [0,2,4]:\n",
    "                loss_KL += model.module_list[i].subnet[j].KL()\n",
    "        loss_KL = loss_KL / size\n",
    "        loss_KL = 0\n",
    "        #print(loss_KL)\n",
    "        #print(BINN.KL())\n",
    "\n",
    "        # Get the batch loss\n",
    "        loss_inn = inn_loss(z, ndim, log_jac_det)\n",
    "        \n",
    "        loss = loss_KL + loss_inn\n",
    "        \n",
    "        # Also need to include KL loss for tuning stochastic layer weights\n",
    "\n",
    "        # Reset the gradients in the optimizer (see autograd tutorial in PyTorch docs)\n",
    "        optimizer.zero_grad()\n",
    "\n",
    "        # Compute gradients\n",
    "        loss.backward()\n",
    "\n",
    "        # Update the network weights\n",
    "        optimizer.step()\n",
    "        \n",
    "        if scheduler != None:\n",
    "            scheduler.step(loss)\n",
    "\n",
    "        # Print the loss every 100 updates\n",
    "        if batch % 100 == 0:\n",
    "            print(f'Total loss: {loss:>8f} INN loss: {loss_inn:>8f} KL loss: {loss_KL:>8f} learning_rate: {optimizer.param_groups[0][\"lr\"]:>8f}')"
   ]
  },
  {
   "cell_type": "code",
   "execution_count": 34,
   "metadata": {},
   "outputs": [
    {
     "name": "stdout",
     "output_type": "stream",
     "text": [
      "Training set size:  (8000000, 2) Validation set size:  (2000000, 2)\n",
      "Model Architecture: \n",
      "SequenceINN(\n",
      "  (module_list): ModuleList(\n",
      "    (0): AllInOneBlock(\n",
      "      (softplus): Softplus(beta=0.5, threshold=20)\n",
      "      (subnet): Sequential(\n",
      "        (0): Linear_VB()\n",
      "        (1): ReLU()\n",
      "        (2): Linear_VB()\n",
      "        (3): ReLU()\n",
      "        (4): Linear_VB()\n",
      "        (5): ReLU()\n",
      "        (6): Linear_VB()\n",
      "        (7): ReLU()\n",
      "        (8): Linear_VB()\n",
      "        (9): ReLU()\n",
      "        (10): Linear_VB()\n",
      "        (11): ReLU()\n",
      "        (12): Linear_VB()\n",
      "        (13): ReLU()\n",
      "        (14): Linear_VB()\n",
      "        (15): ReLU()\n",
      "        (16): Linear_VB()\n",
      "      )\n",
      "    )\n",
      "    (1): AllInOneBlock(\n",
      "      (softplus): Softplus(beta=0.5, threshold=20)\n",
      "      (subnet): Sequential(\n",
      "        (0): Linear_VB()\n",
      "        (1): ReLU()\n",
      "        (2): Linear_VB()\n",
      "        (3): ReLU()\n",
      "        (4): Linear_VB()\n",
      "        (5): ReLU()\n",
      "        (6): Linear_VB()\n",
      "        (7): ReLU()\n",
      "        (8): Linear_VB()\n",
      "        (9): ReLU()\n",
      "        (10): Linear_VB()\n",
      "        (11): ReLU()\n",
      "        (12): Linear_VB()\n",
      "        (13): ReLU()\n",
      "        (14): Linear_VB()\n",
      "        (15): ReLU()\n",
      "        (16): Linear_VB()\n",
      "      )\n",
      "    )\n",
      "  )\n",
      ")\n"
     ]
    },
    {
     "name": "stderr",
     "output_type": "stream",
     "text": [
      "  0%|                                                                        | 0/50 [00:00<?, ?it/s]"
     ]
    },
    {
     "name": "stdout",
     "output_type": "stream",
     "text": [
      "Total loss: 0.119573 INN loss: 0.119573 KL loss: 0.000000 learning_rate: 0.001000\n",
      "Total loss: -0.658589 INN loss: -0.658589 KL loss: 0.000000 learning_rate: 0.001000\n",
      "Total loss: -1.067847 INN loss: -1.067847 KL loss: 0.000000 learning_rate: 0.001000\n"
     ]
    },
    {
     "name": "stderr",
     "output_type": "stream",
     "text": [
      "  2%|█▎                                                              | 1/50 [01:04<52:59, 64.90s/it]"
     ]
    },
    {
     "name": "stdout",
     "output_type": "stream",
     "text": [
      "Total loss: -1.072098 INN loss: -1.072098 KL loss: 0.000000 learning_rate: 0.001000\n",
      "Total loss: -1.082202 INN loss: -1.082202 KL loss: 0.000000 learning_rate: 0.000900\n",
      "Total loss: -1.076532 INN loss: -1.076532 KL loss: 0.000000 learning_rate: 0.000810\n"
     ]
    },
    {
     "name": "stderr",
     "output_type": "stream",
     "text": [
      "  4%|██▌                                                             | 2/50 [02:10<52:03, 65.08s/it]"
     ]
    },
    {
     "name": "stdout",
     "output_type": "stream",
     "text": [
      "Total loss: -1.079650 INN loss: -1.079650 KL loss: 0.000000 learning_rate: 0.000810\n",
      "Total loss: -1.102931 INN loss: -1.102931 KL loss: 0.000000 learning_rate: 0.000810\n",
      "Total loss: -1.075770 INN loss: -1.075770 KL loss: 0.000000 learning_rate: 0.000729\n"
     ]
    },
    {
     "name": "stderr",
     "output_type": "stream",
     "text": [
      "  6%|███▊                                                            | 3/50 [03:15<51:05, 65.23s/it]"
     ]
    },
    {
     "name": "stdout",
     "output_type": "stream",
     "text": [
      "Total loss: -1.143180 INN loss: -1.143180 KL loss: 0.000000 learning_rate: 0.000729\n",
      "Total loss: -1.154045 INN loss: -1.154045 KL loss: 0.000000 learning_rate: 0.000729\n",
      "Total loss: -1.155236 INN loss: -1.155236 KL loss: 0.000000 learning_rate: 0.000656\n"
     ]
    },
    {
     "name": "stderr",
     "output_type": "stream",
     "text": [
      "  8%|█████                                                           | 4/50 [04:21<50:22, 65.71s/it]"
     ]
    },
    {
     "name": "stdout",
     "output_type": "stream",
     "text": [
      "Total loss: -1.174161 INN loss: -1.174161 KL loss: 0.000000 learning_rate: 0.000590\n",
      "Total loss: -1.206302 INN loss: -1.206302 KL loss: 0.000000 learning_rate: 0.000590\n",
      "Total loss: -1.224656 INN loss: -1.224656 KL loss: 0.000000 learning_rate: 0.000531\n"
     ]
    },
    {
     "name": "stderr",
     "output_type": "stream",
     "text": [
      " 10%|██████▍                                                         | 5/50 [05:27<49:21, 65.81s/it]"
     ]
    },
    {
     "name": "stdout",
     "output_type": "stream",
     "text": [
      "Total loss: -1.226088 INN loss: -1.226088 KL loss: 0.000000 learning_rate: 0.000531\n",
      "Total loss: -1.241771 INN loss: -1.241771 KL loss: 0.000000 learning_rate: 0.000531\n",
      "Total loss: -1.233739 INN loss: -1.233739 KL loss: 0.000000 learning_rate: 0.000478\n"
     ]
    },
    {
     "name": "stderr",
     "output_type": "stream",
     "text": [
      " 12%|███████▋                                                        | 6/50 [06:33<48:09, 65.67s/it]"
     ]
    },
    {
     "name": "stdout",
     "output_type": "stream",
     "text": [
      "Total loss: -1.219333 INN loss: -1.219333 KL loss: 0.000000 learning_rate: 0.000387\n",
      "Total loss: -1.246471 INN loss: -1.246471 KL loss: 0.000000 learning_rate: 0.000349\n",
      "Total loss: -1.209271 INN loss: -1.209271 KL loss: 0.000000 learning_rate: 0.000314\n"
     ]
    },
    {
     "name": "stderr",
     "output_type": "stream",
     "text": [
      " 14%|████████▉                                                       | 7/50 [07:39<47:05, 65.71s/it]"
     ]
    },
    {
     "name": "stdout",
     "output_type": "stream",
     "text": [
      "Total loss: -1.231042 INN loss: -1.231042 KL loss: 0.000000 learning_rate: 0.000282\n",
      "Total loss: -1.257079 INN loss: -1.257079 KL loss: 0.000000 learning_rate: 0.000229\n",
      "Total loss: -1.254781 INN loss: -1.254781 KL loss: 0.000000 learning_rate: 0.000185\n"
     ]
    },
    {
     "name": "stderr",
     "output_type": "stream",
     "text": [
      " 16%|██████████▏                                                     | 8/50 [08:44<45:57, 65.66s/it]"
     ]
    },
    {
     "name": "stdout",
     "output_type": "stream",
     "text": [
      "Total loss: -1.228588 INN loss: -1.228588 KL loss: 0.000000 learning_rate: 0.000185\n",
      "Total loss: -1.251087 INN loss: -1.251087 KL loss: 0.000000 learning_rate: 0.000150\n",
      "Total loss: -1.259428 INN loss: -1.259428 KL loss: 0.000000 learning_rate: 0.000122\n"
     ]
    },
    {
     "name": "stderr",
     "output_type": "stream",
     "text": [
      " 18%|███████████▌                                                    | 9/50 [09:50<44:48, 65.57s/it]"
     ]
    },
    {
     "name": "stdout",
     "output_type": "stream",
     "text": [
      "Total loss: -1.260670 INN loss: -1.260670 KL loss: 0.000000 learning_rate: 0.000109\n",
      "Total loss: -1.249605 INN loss: -1.249605 KL loss: 0.000000 learning_rate: 0.000098\n",
      "Total loss: -1.222480 INN loss: -1.222480 KL loss: 0.000000 learning_rate: 0.000080\n"
     ]
    },
    {
     "name": "stderr",
     "output_type": "stream",
     "text": [
      " 20%|████████████▌                                                  | 10/50 [10:54<43:33, 65.34s/it]"
     ]
    },
    {
     "name": "stdout",
     "output_type": "stream",
     "text": [
      "Total loss: -1.254829 INN loss: -1.254829 KL loss: 0.000000 learning_rate: 0.000080\n",
      "Total loss: -1.251410 INN loss: -1.251410 KL loss: 0.000000 learning_rate: 0.000065\n",
      "Total loss: -1.236286 INN loss: -1.236286 KL loss: 0.000000 learning_rate: 0.000052\n"
     ]
    },
    {
     "name": "stderr",
     "output_type": "stream",
     "text": [
      " 22%|█████████████▊                                                 | 11/50 [11:59<42:16, 65.04s/it]"
     ]
    },
    {
     "name": "stdout",
     "output_type": "stream",
     "text": [
      "Total loss: -1.248684 INN loss: -1.248684 KL loss: 0.000000 learning_rate: 0.000042\n",
      "Total loss: -1.253682 INN loss: -1.253682 KL loss: 0.000000 learning_rate: 0.000038\n",
      "Total loss: -1.259559 INN loss: -1.259559 KL loss: 0.000000 learning_rate: 0.000031\n"
     ]
    },
    {
     "name": "stderr",
     "output_type": "stream",
     "text": [
      " 24%|███████████████                                                | 12/50 [13:04<41:12, 65.06s/it]"
     ]
    },
    {
     "name": "stdout",
     "output_type": "stream",
     "text": [
      "Total loss: -1.258943 INN loss: -1.258943 KL loss: 0.000000 learning_rate: 0.000028\n",
      "Total loss: -1.258250 INN loss: -1.258250 KL loss: 0.000000 learning_rate: 0.000023\n",
      "Total loss: -1.267631 INN loss: -1.267631 KL loss: 0.000000 learning_rate: 0.000018\n"
     ]
    },
    {
     "name": "stderr",
     "output_type": "stream",
     "text": [
      " 26%|████████████████▍                                              | 13/50 [14:08<39:59, 64.86s/it]"
     ]
    },
    {
     "name": "stdout",
     "output_type": "stream",
     "text": [
      "Total loss: -1.246804 INN loss: -1.246804 KL loss: 0.000000 learning_rate: 0.000016\n",
      "Total loss: -1.252677 INN loss: -1.252677 KL loss: 0.000000 learning_rate: 0.000013\n",
      "Total loss: -1.209268 INN loss: -1.209268 KL loss: 0.000000 learning_rate: 0.000011\n"
     ]
    },
    {
     "name": "stderr",
     "output_type": "stream",
     "text": [
      " 28%|█████████████████▋                                             | 14/50 [15:13<38:49, 64.70s/it]"
     ]
    },
    {
     "name": "stdout",
     "output_type": "stream",
     "text": [
      "Total loss: -1.247992 INN loss: -1.247992 KL loss: 0.000000 learning_rate: 0.000010\n",
      "Total loss: -1.262013 INN loss: -1.262013 KL loss: 0.000000 learning_rate: 0.000008\n",
      "Total loss: -1.257139 INN loss: -1.257139 KL loss: 0.000000 learning_rate: 0.000006\n"
     ]
    },
    {
     "name": "stderr",
     "output_type": "stream",
     "text": [
      " 30%|██████████████████▉                                            | 15/50 [16:17<37:42, 64.64s/it]"
     ]
    },
    {
     "name": "stdout",
     "output_type": "stream",
     "text": [
      "Total loss: -1.258397 INN loss: -1.258397 KL loss: 0.000000 learning_rate: 0.000006\n",
      "Total loss: -1.267675 INN loss: -1.267675 KL loss: 0.000000 learning_rate: 0.000005\n",
      "Total loss: -1.264576 INN loss: -1.264576 KL loss: 0.000000 learning_rate: 0.000004\n"
     ]
    },
    {
     "name": "stderr",
     "output_type": "stream",
     "text": [
      " 32%|████████████████████▏                                          | 16/50 [17:22<36:36, 64.61s/it]"
     ]
    },
    {
     "name": "stdout",
     "output_type": "stream",
     "text": [
      "Total loss: -1.254364 INN loss: -1.254364 KL loss: 0.000000 learning_rate: 0.000003\n",
      "Total loss: -1.258979 INN loss: -1.258979 KL loss: 0.000000 learning_rate: 0.000003\n",
      "Total loss: -1.245959 INN loss: -1.245959 KL loss: 0.000000 learning_rate: 0.000002\n"
     ]
    },
    {
     "name": "stderr",
     "output_type": "stream",
     "text": [
      " 34%|█████████████████████▍                                         | 17/50 [18:26<35:29, 64.54s/it]"
     ]
    },
    {
     "name": "stdout",
     "output_type": "stream",
     "text": [
      "Total loss: -1.243761 INN loss: -1.243761 KL loss: 0.000000 learning_rate: 0.000002\n",
      "Total loss: -1.228068 INN loss: -1.228068 KL loss: 0.000000 learning_rate: 0.000002\n",
      "Total loss: -1.246197 INN loss: -1.246197 KL loss: 0.000000 learning_rate: 0.000001\n"
     ]
    },
    {
     "name": "stderr",
     "output_type": "stream",
     "text": [
      " 36%|██████████████████████▋                                        | 18/50 [19:30<34:22, 64.46s/it]"
     ]
    },
    {
     "name": "stdout",
     "output_type": "stream",
     "text": [
      "Total loss: -1.249908 INN loss: -1.249908 KL loss: 0.000000 learning_rate: 0.000001\n",
      "Total loss: -1.249110 INN loss: -1.249110 KL loss: 0.000000 learning_rate: 0.000001\n",
      "Total loss: -1.250468 INN loss: -1.250468 KL loss: 0.000000 learning_rate: 0.000001\n"
     ]
    },
    {
     "name": "stderr",
     "output_type": "stream",
     "text": [
      " 38%|███████████████████████▉                                       | 19/50 [20:35<33:16, 64.42s/it]"
     ]
    },
    {
     "name": "stdout",
     "output_type": "stream",
     "text": [
      "Total loss: -1.247541 INN loss: -1.247541 KL loss: 0.000000 learning_rate: 0.000001\n",
      "Total loss: -1.226574 INN loss: -1.226574 KL loss: 0.000000 learning_rate: 0.000001\n",
      "Total loss: -1.264475 INN loss: -1.264475 KL loss: 0.000000 learning_rate: 0.000000\n"
     ]
    },
    {
     "name": "stderr",
     "output_type": "stream",
     "text": [
      " 40%|█████████████████████████▏                                     | 20/50 [21:39<32:12, 64.43s/it]"
     ]
    },
    {
     "name": "stdout",
     "output_type": "stream",
     "text": [
      "Total loss: -1.231829 INN loss: -1.231829 KL loss: 0.000000 learning_rate: 0.000000\n",
      "Total loss: -1.228818 INN loss: -1.228818 KL loss: 0.000000 learning_rate: 0.000000\n",
      "Total loss: -1.257904 INN loss: -1.257904 KL loss: 0.000000 learning_rate: 0.000000\n"
     ]
    },
    {
     "name": "stderr",
     "output_type": "stream",
     "text": [
      " 42%|██████████████████████████▍                                    | 21/50 [22:44<31:08, 64.45s/it]"
     ]
    },
    {
     "name": "stdout",
     "output_type": "stream",
     "text": [
      "Total loss: -1.264367 INN loss: -1.264367 KL loss: 0.000000 learning_rate: 0.000000\n",
      "Total loss: -1.254395 INN loss: -1.254395 KL loss: 0.000000 learning_rate: 0.000000\n",
      "Total loss: -1.260635 INN loss: -1.260635 KL loss: 0.000000 learning_rate: 0.000000\n"
     ]
    },
    {
     "name": "stderr",
     "output_type": "stream",
     "text": [
      " 44%|███████████████████████████▋                                   | 22/50 [23:48<30:03, 64.39s/it]"
     ]
    },
    {
     "name": "stdout",
     "output_type": "stream",
     "text": [
      "Total loss: -1.233529 INN loss: -1.233529 KL loss: 0.000000 learning_rate: 0.000000\n",
      "Total loss: -1.259243 INN loss: -1.259243 KL loss: 0.000000 learning_rate: 0.000000\n",
      "Total loss: -1.243227 INN loss: -1.243227 KL loss: 0.000000 learning_rate: 0.000000\n"
     ]
    },
    {
     "name": "stderr",
     "output_type": "stream",
     "text": [
      " 46%|████████████████████████████▉                                  | 23/50 [24:52<28:59, 64.44s/it]"
     ]
    },
    {
     "name": "stdout",
     "output_type": "stream",
     "text": [
      "Total loss: -1.224600 INN loss: -1.224600 KL loss: 0.000000 learning_rate: 0.000000\n",
      "Total loss: -1.254652 INN loss: -1.254652 KL loss: 0.000000 learning_rate: 0.000000\n",
      "Total loss: -1.263231 INN loss: -1.263231 KL loss: 0.000000 learning_rate: 0.000000\n"
     ]
    },
    {
     "name": "stderr",
     "output_type": "stream",
     "text": [
      " 48%|██████████████████████████████▏                                | 24/50 [25:57<27:53, 64.37s/it]"
     ]
    },
    {
     "name": "stdout",
     "output_type": "stream",
     "text": [
      "Total loss: -1.266406 INN loss: -1.266406 KL loss: 0.000000 learning_rate: 0.000000\n",
      "Total loss: -1.258259 INN loss: -1.258259 KL loss: 0.000000 learning_rate: 0.000000\n",
      "Total loss: -1.258490 INN loss: -1.258490 KL loss: 0.000000 learning_rate: 0.000000\n"
     ]
    },
    {
     "name": "stderr",
     "output_type": "stream",
     "text": [
      " 50%|███████████████████████████████▌                               | 25/50 [27:01<26:48, 64.34s/it]"
     ]
    },
    {
     "name": "stdout",
     "output_type": "stream",
     "text": [
      "Total loss: -1.265311 INN loss: -1.265311 KL loss: 0.000000 learning_rate: 0.000000\n",
      "Total loss: -1.252546 INN loss: -1.252546 KL loss: 0.000000 learning_rate: 0.000000\n",
      "Total loss: -1.258132 INN loss: -1.258132 KL loss: 0.000000 learning_rate: 0.000000\n"
     ]
    },
    {
     "name": "stderr",
     "output_type": "stream",
     "text": [
      " 52%|████████████████████████████████▊                              | 26/50 [28:05<25:43, 64.29s/it]"
     ]
    },
    {
     "name": "stdout",
     "output_type": "stream",
     "text": [
      "Total loss: -1.245931 INN loss: -1.245931 KL loss: 0.000000 learning_rate: 0.000000\n",
      "Total loss: -1.253406 INN loss: -1.253406 KL loss: 0.000000 learning_rate: 0.000000\n",
      "Total loss: -1.253884 INN loss: -1.253884 KL loss: 0.000000 learning_rate: 0.000000\n"
     ]
    },
    {
     "name": "stderr",
     "output_type": "stream",
     "text": [
      " 54%|██████████████████████████████████                             | 27/50 [29:09<24:38, 64.28s/it]"
     ]
    },
    {
     "name": "stdout",
     "output_type": "stream",
     "text": [
      "Total loss: -1.262383 INN loss: -1.262383 KL loss: 0.000000 learning_rate: 0.000000\n",
      "Total loss: -1.264262 INN loss: -1.264262 KL loss: 0.000000 learning_rate: 0.000000\n",
      "Total loss: -1.261795 INN loss: -1.261795 KL loss: 0.000000 learning_rate: 0.000000\n"
     ]
    },
    {
     "name": "stderr",
     "output_type": "stream",
     "text": [
      " 56%|███████████████████████████████████▎                           | 28/50 [30:13<23:33, 64.25s/it]"
     ]
    },
    {
     "name": "stdout",
     "output_type": "stream",
     "text": [
      "Total loss: -1.262519 INN loss: -1.262519 KL loss: 0.000000 learning_rate: 0.000000\n",
      "Total loss: -1.247670 INN loss: -1.247670 KL loss: 0.000000 learning_rate: 0.000000\n",
      "Total loss: -1.248601 INN loss: -1.248601 KL loss: 0.000000 learning_rate: 0.000000\n"
     ]
    },
    {
     "name": "stderr",
     "output_type": "stream",
     "text": [
      " 58%|████████████████████████████████████▌                          | 29/50 [31:18<22:28, 64.21s/it]"
     ]
    },
    {
     "name": "stdout",
     "output_type": "stream",
     "text": [
      "Total loss: -1.255621 INN loss: -1.255621 KL loss: 0.000000 learning_rate: 0.000000\n",
      "Total loss: -1.260129 INN loss: -1.260129 KL loss: 0.000000 learning_rate: 0.000000\n",
      "Total loss: -1.244927 INN loss: -1.244927 KL loss: 0.000000 learning_rate: 0.000000\n"
     ]
    },
    {
     "name": "stderr",
     "output_type": "stream",
     "text": [
      " 60%|█████████████████████████████████████▊                         | 30/50 [32:22<21:24, 64.22s/it]"
     ]
    },
    {
     "name": "stdout",
     "output_type": "stream",
     "text": [
      "Total loss: -1.262866 INN loss: -1.262866 KL loss: 0.000000 learning_rate: 0.000000\n",
      "Total loss: -1.249980 INN loss: -1.249980 KL loss: 0.000000 learning_rate: 0.000000\n",
      "Total loss: -1.259260 INN loss: -1.259260 KL loss: 0.000000 learning_rate: 0.000000\n"
     ]
    },
    {
     "name": "stderr",
     "output_type": "stream",
     "text": [
      " 62%|███████████████████████████████████████                        | 31/50 [33:26<20:21, 64.27s/it]"
     ]
    },
    {
     "name": "stdout",
     "output_type": "stream",
     "text": [
      "Total loss: -1.232393 INN loss: -1.232393 KL loss: 0.000000 learning_rate: 0.000000\n",
      "Total loss: -1.266929 INN loss: -1.266929 KL loss: 0.000000 learning_rate: 0.000000\n",
      "Total loss: -1.242610 INN loss: -1.242610 KL loss: 0.000000 learning_rate: 0.000000\n"
     ]
    },
    {
     "name": "stderr",
     "output_type": "stream",
     "text": [
      " 64%|████████████████████████████████████████▎                      | 32/50 [34:31<19:22, 64.58s/it]"
     ]
    },
    {
     "name": "stdout",
     "output_type": "stream",
     "text": [
      "Total loss: -1.266184 INN loss: -1.266184 KL loss: 0.000000 learning_rate: 0.000000\n",
      "Total loss: -1.262491 INN loss: -1.262491 KL loss: 0.000000 learning_rate: 0.000000\n",
      "Total loss: -1.254281 INN loss: -1.254281 KL loss: 0.000000 learning_rate: 0.000000\n"
     ]
    },
    {
     "name": "stderr",
     "output_type": "stream",
     "text": [
      " 66%|█████████████████████████████████████████▌                     | 33/50 [35:36<18:19, 64.67s/it]"
     ]
    },
    {
     "name": "stdout",
     "output_type": "stream",
     "text": [
      "Total loss: -1.260024 INN loss: -1.260024 KL loss: 0.000000 learning_rate: 0.000000\n",
      "Total loss: -1.254348 INN loss: -1.254348 KL loss: 0.000000 learning_rate: 0.000000\n",
      "Total loss: -1.246904 INN loss: -1.246904 KL loss: 0.000000 learning_rate: 0.000000\n"
     ]
    },
    {
     "name": "stderr",
     "output_type": "stream",
     "text": [
      " 68%|██████████████████████████████████████████▊                    | 34/50 [36:41<17:12, 64.56s/it]"
     ]
    },
    {
     "name": "stdout",
     "output_type": "stream",
     "text": [
      "Total loss: -1.249040 INN loss: -1.249040 KL loss: 0.000000 learning_rate: 0.000000\n",
      "Total loss: -1.251972 INN loss: -1.251972 KL loss: 0.000000 learning_rate: 0.000000\n",
      "Total loss: -1.252003 INN loss: -1.252003 KL loss: 0.000000 learning_rate: 0.000000\n"
     ]
    },
    {
     "name": "stderr",
     "output_type": "stream",
     "text": [
      " 70%|████████████████████████████████████████████                   | 35/50 [37:46<16:09, 64.66s/it]"
     ]
    },
    {
     "name": "stdout",
     "output_type": "stream",
     "text": [
      "Total loss: -1.267803 INN loss: -1.267803 KL loss: 0.000000 learning_rate: 0.000000\n",
      "Total loss: -1.242948 INN loss: -1.242948 KL loss: 0.000000 learning_rate: 0.000000\n",
      "Total loss: -1.254328 INN loss: -1.254328 KL loss: 0.000000 learning_rate: 0.000000\n"
     ]
    },
    {
     "name": "stderr",
     "output_type": "stream",
     "text": [
      " 72%|█████████████████████████████████████████████▎                 | 36/50 [38:50<15:04, 64.61s/it]"
     ]
    },
    {
     "name": "stdout",
     "output_type": "stream",
     "text": [
      "Total loss: -1.237213 INN loss: -1.237213 KL loss: 0.000000 learning_rate: 0.000000\n",
      "Total loss: -1.243837 INN loss: -1.243837 KL loss: 0.000000 learning_rate: 0.000000\n",
      "Total loss: -1.257562 INN loss: -1.257562 KL loss: 0.000000 learning_rate: 0.000000\n"
     ]
    },
    {
     "name": "stderr",
     "output_type": "stream",
     "text": [
      " 74%|██████████████████████████████████████████████▌                | 37/50 [39:55<13:59, 64.57s/it]"
     ]
    },
    {
     "name": "stdout",
     "output_type": "stream",
     "text": [
      "Total loss: -1.248376 INN loss: -1.248376 KL loss: 0.000000 learning_rate: 0.000000\n",
      "Total loss: -1.258310 INN loss: -1.258310 KL loss: 0.000000 learning_rate: 0.000000\n",
      "Total loss: -1.252499 INN loss: -1.252499 KL loss: 0.000000 learning_rate: 0.000000\n"
     ]
    },
    {
     "name": "stderr",
     "output_type": "stream",
     "text": [
      " 76%|███████████████████████████████████████████████▉               | 38/50 [40:59<12:54, 64.51s/it]"
     ]
    },
    {
     "name": "stdout",
     "output_type": "stream",
     "text": [
      "Total loss: -1.264734 INN loss: -1.264734 KL loss: 0.000000 learning_rate: 0.000000\n",
      "Total loss: -1.250006 INN loss: -1.250006 KL loss: 0.000000 learning_rate: 0.000000\n",
      "Total loss: -1.248438 INN loss: -1.248438 KL loss: 0.000000 learning_rate: 0.000000\n"
     ]
    },
    {
     "name": "stderr",
     "output_type": "stream",
     "text": [
      " 78%|█████████████████████████████████████████████████▏             | 39/50 [42:03<11:49, 64.46s/it]"
     ]
    },
    {
     "name": "stdout",
     "output_type": "stream",
     "text": [
      "Total loss: -1.254530 INN loss: -1.254530 KL loss: 0.000000 learning_rate: 0.000000\n",
      "Total loss: -1.263370 INN loss: -1.263370 KL loss: 0.000000 learning_rate: 0.000000\n",
      "Total loss: -1.253599 INN loss: -1.253599 KL loss: 0.000000 learning_rate: 0.000000\n"
     ]
    },
    {
     "name": "stderr",
     "output_type": "stream",
     "text": [
      " 80%|██████████████████████████████████████████████████▍            | 40/50 [43:08<10:45, 64.58s/it]"
     ]
    },
    {
     "name": "stdout",
     "output_type": "stream",
     "text": [
      "Total loss: -1.254966 INN loss: -1.254966 KL loss: 0.000000 learning_rate: 0.000000\n",
      "Total loss: -1.260389 INN loss: -1.260389 KL loss: 0.000000 learning_rate: 0.000000\n",
      "Total loss: -1.256768 INN loss: -1.256768 KL loss: 0.000000 learning_rate: 0.000000\n"
     ]
    },
    {
     "name": "stderr",
     "output_type": "stream",
     "text": [
      " 82%|███████████████████████████████████████████████████▋           | 41/50 [44:12<09:40, 64.47s/it]"
     ]
    },
    {
     "name": "stdout",
     "output_type": "stream",
     "text": [
      "Total loss: -1.260969 INN loss: -1.260969 KL loss: 0.000000 learning_rate: 0.000000\n",
      "Total loss: -1.254908 INN loss: -1.254908 KL loss: 0.000000 learning_rate: 0.000000\n",
      "Total loss: -1.232531 INN loss: -1.232531 KL loss: 0.000000 learning_rate: 0.000000\n"
     ]
    },
    {
     "name": "stderr",
     "output_type": "stream",
     "text": [
      " 84%|████████████████████████████████████████████████████▉          | 42/50 [45:17<08:35, 64.41s/it]"
     ]
    },
    {
     "name": "stdout",
     "output_type": "stream",
     "text": [
      "Total loss: -1.258647 INN loss: -1.258647 KL loss: 0.000000 learning_rate: 0.000000\n",
      "Total loss: -1.235772 INN loss: -1.235772 KL loss: 0.000000 learning_rate: 0.000000\n",
      "Total loss: -1.240887 INN loss: -1.240887 KL loss: 0.000000 learning_rate: 0.000000\n"
     ]
    },
    {
     "name": "stderr",
     "output_type": "stream",
     "text": [
      " 86%|██████████████████████████████████████████████████████▏        | 43/50 [46:21<07:30, 64.34s/it]"
     ]
    },
    {
     "name": "stdout",
     "output_type": "stream",
     "text": [
      "Total loss: -1.246428 INN loss: -1.246428 KL loss: 0.000000 learning_rate: 0.000000\n",
      "Total loss: -1.252312 INN loss: -1.252312 KL loss: 0.000000 learning_rate: 0.000000\n",
      "Total loss: -1.244120 INN loss: -1.244120 KL loss: 0.000000 learning_rate: 0.000000\n"
     ]
    },
    {
     "name": "stderr",
     "output_type": "stream",
     "text": [
      " 88%|███████████████████████████████████████████████████████▍       | 44/50 [47:25<06:26, 64.41s/it]"
     ]
    },
    {
     "name": "stdout",
     "output_type": "stream",
     "text": [
      "Total loss: -1.246179 INN loss: -1.246179 KL loss: 0.000000 learning_rate: 0.000000\n",
      "Total loss: -1.251730 INN loss: -1.251730 KL loss: 0.000000 learning_rate: 0.000000\n",
      "Total loss: -1.254380 INN loss: -1.254380 KL loss: 0.000000 learning_rate: 0.000000\n"
     ]
    },
    {
     "name": "stderr",
     "output_type": "stream",
     "text": [
      " 90%|████████████████████████████████████████████████████████▋      | 45/50 [48:30<05:22, 64.41s/it]"
     ]
    },
    {
     "name": "stdout",
     "output_type": "stream",
     "text": [
      "Total loss: -1.259015 INN loss: -1.259015 KL loss: 0.000000 learning_rate: 0.000000\n",
      "Total loss: -1.250650 INN loss: -1.250650 KL loss: 0.000000 learning_rate: 0.000000\n",
      "Total loss: -1.249808 INN loss: -1.249808 KL loss: 0.000000 learning_rate: 0.000000\n"
     ]
    },
    {
     "name": "stderr",
     "output_type": "stream",
     "text": [
      " 92%|█████████████████████████████████████████████████████████▉     | 46/50 [49:34<04:17, 64.39s/it]"
     ]
    },
    {
     "name": "stdout",
     "output_type": "stream",
     "text": [
      "Total loss: -1.253009 INN loss: -1.253009 KL loss: 0.000000 learning_rate: 0.000000\n",
      "Total loss: -1.242374 INN loss: -1.242374 KL loss: 0.000000 learning_rate: 0.000000\n",
      "Total loss: -1.241945 INN loss: -1.241945 KL loss: 0.000000 learning_rate: 0.000000\n"
     ]
    },
    {
     "name": "stderr",
     "output_type": "stream",
     "text": [
      " 94%|███████████████████████████████████████████████████████████▏   | 47/50 [50:38<03:13, 64.39s/it]"
     ]
    },
    {
     "name": "stdout",
     "output_type": "stream",
     "text": [
      "Total loss: -1.248397 INN loss: -1.248397 KL loss: 0.000000 learning_rate: 0.000000\n",
      "Total loss: -1.246755 INN loss: -1.246755 KL loss: 0.000000 learning_rate: 0.000000\n",
      "Total loss: -1.261129 INN loss: -1.261129 KL loss: 0.000000 learning_rate: 0.000000\n"
     ]
    },
    {
     "name": "stderr",
     "output_type": "stream",
     "text": [
      " 96%|████████████████████████████████████████████████████████████▍  | 48/50 [51:43<02:08, 64.35s/it]"
     ]
    },
    {
     "name": "stdout",
     "output_type": "stream",
     "text": [
      "Total loss: -1.260915 INN loss: -1.260915 KL loss: 0.000000 learning_rate: 0.000000\n",
      "Total loss: -1.247028 INN loss: -1.247028 KL loss: 0.000000 learning_rate: 0.000000\n",
      "Total loss: -1.260213 INN loss: -1.260213 KL loss: 0.000000 learning_rate: 0.000000\n"
     ]
    },
    {
     "name": "stderr",
     "output_type": "stream",
     "text": [
      " 98%|█████████████████████████████████████████████████████████████▋ | 49/50 [52:47<01:04, 64.36s/it]"
     ]
    },
    {
     "name": "stdout",
     "output_type": "stream",
     "text": [
      "Total loss: -1.221119 INN loss: -1.221119 KL loss: 0.000000 learning_rate: 0.000000\n",
      "Total loss: -1.258139 INN loss: -1.258139 KL loss: 0.000000 learning_rate: 0.000000\n",
      "Total loss: -1.262241 INN loss: -1.262241 KL loss: 0.000000 learning_rate: 0.000000\n"
     ]
    },
    {
     "name": "stderr",
     "output_type": "stream",
     "text": [
      "100%|███████████████████████████████████████████████████████████████| 50/50 [53:51<00:00, 64.64s/it]"
     ]
    },
    {
     "name": "stdout",
     "output_type": "stream",
     "text": [
      "Done!\n"
     ]
    },
    {
     "name": "stderr",
     "output_type": "stream",
     "text": [
      "\n"
     ]
    }
   ],
   "source": [
    "mp_thetap = np.load('D_Kspipi_SDP_1e7.npy')\n",
    "\n",
    "# Split data into train, validation\n",
    "mp_thetap_train, mp_thetap_val = train_test_split(mp_thetap, test_size=0.2)\n",
    "\n",
    "print(\"Training set size: \", mp_thetap_train.shape, \"Validation set size: \", mp_thetap_val.shape)\n",
    "\n",
    "# Convert into torch objects\n",
    "mp_thetap_train = torch.Tensor(mp_thetap_train)\n",
    "mp_thetap_val   = torch.Tensor(mp_thetap_val)\n",
    "\n",
    "trainset = dalitz_dataset(mp_thetap_train)\n",
    "valset   = dalitz_dataset(mp_thetap_val)\n",
    "\n",
    "batch_size = 500\n",
    "\n",
    "train_dataloader = DataLoader(trainset, batch_size = batch_size, shuffle = True)\n",
    "val_dataloader = DataLoader(valset, batch_size = batch_size, shuffle = True)\n",
    "\n",
    "epochs = 50\n",
    "learning_rate = 0.001\n",
    "\n",
    "n_dim = mp_thetap.shape[1]\n",
    "input_dim = 1           # One value of mp or thetap\n",
    "hidden_dim = 50         # Subnetwork hidden layers\n",
    "output_dim = 1          # One value out for generated mp or thetap\n",
    "training_size = len(mp_thetap)\n",
    "resample = False\n",
    "\n",
    "# Define the model\n",
    "BINN = Bayes_INN(n_dim = n_dim, training_size = training_size, input_dim = input_dim, hidden_dim = hidden_dim, output_dim = output_dim, resample = resample)\n",
    "model = BINN.inn\n",
    "\n",
    "print(\"Model Architecture: \")\n",
    "print(model)\n",
    "\n",
    "optimizer = torch.optim.Adam(model.parameters(), lr=learning_rate)\n",
    "\n",
    "# Learning rate scheduler\n",
    "scheduler = torch.optim.lr_scheduler.ReduceLROnPlateau(optimizer, mode= 'min', factor = 0.9, patience = 50)\n",
    "#scheduler = None\n",
    "\n",
    "for t in tqdm(range(epochs), ncols = 100):\n",
    "    train(train_dataloader, model, optimizer, scheduler, n_dim)\n",
    "    \n",
    "print(\"Done!\")"
   ]
  },
  {
   "cell_type": "code",
   "execution_count": 35,
   "metadata": {},
   "outputs": [
    {
     "name": "stdout",
     "output_type": "stream",
     "text": [
      "torch.Size([100000, 2])\n"
     ]
    },
    {
     "data": {
      "image/png": "[encoded data removed]",
      "text/plain": [
       "<Figure size 700x500 with 1 Axes>"
      ]
     },
     "metadata": {},
     "output_type": "display_data"
    }
   ],
   "source": [
    "# Latent distribution\n",
    "n_samples = 100000\n",
    "z_gen = torch.randn((n_samples, n_dim))\n",
    "\n",
    "print(z_gen.shape)\n",
    "\n",
    "# Visualize the latent distribution\n",
    "fig, axs = plt.subplots(figsize=(7,5))\n",
    "\n",
    "axs.hist(z_gen.detach().numpy().flatten(), alpha=0.5, density=True, bins=100, label=r'$z$')\n",
    "\n",
    "axs.set_xlabel('$z$ $(\\mathrm{GeV})$')\n",
    "axs.set_ylabel( r'$\\mathrm{Events}$' )\n",
    "axs.legend(loc='best', frameon=False)\n",
    "\n",
    "fig.tight_layout()"
   ]
  },
  {
   "cell_type": "code",
   "execution_count": 36,
   "metadata": {},
   "outputs": [
    {
     "name": "stdout",
     "output_type": "stream",
     "text": [
      "(100000, 2)\n",
      "[0.63677406 0.02960048]\n"
     ]
    }
   ],
   "source": [
    "# Generate m2 samples from latent distribution\n",
    "mp_thetap_gen, _ = model(z_gen, rev=True)\n",
    "mp_thetap_gen = mp_thetap_gen.detach().numpy()[:]\n",
    "\n",
    "print(mp_thetap_gen.shape)\n",
    "print(mp_thetap_gen[0])"
   ]
  },
  {
   "cell_type": "code",
   "execution_count": 41,
   "metadata": {},
   "outputs": [
    {
     "data": {
      "image/png": "[encoded data removed]",
      "text/plain": [
       "<Figure size 800x600 with 1 Axes>"
      ]
     },
     "metadata": {},
     "output_type": "display_data"
    }
   ],
   "source": [
    "# Visualize \n",
    "fig, ax = plt.subplots( figsize=(8,6) )\n",
    "\n",
    "counts, bins, _ = ax.hist(mp_thetap[:n_samples,0], 50, alpha = 0.5, label = r'$\\mathrm{Truth}$')\n",
    "ax.hist(mp_thetap_gen[:,0], bins, alpha=0.5, label = r'$\\mathrm{Generated}$')\n",
    "\n",
    "ax.set_xlabel( r\"$m'$\")\n",
    "ax.set_ylabel( r'$\\mathrm{Events}$' )\n",
    "\n",
    "\n",
    "ax.legend(loc='best', frameon=False)\n",
    "\n",
    "fig.tight_layout()"
   ]
  },
  {
   "cell_type": "code",
   "execution_count": 40,
   "metadata": {},
   "outputs": [
    {
     "data": {
      "image/png": "[encoded data removed]",
      "text/plain": [
       "<Figure size 800x600 with 1 Axes>"
      ]
     },
     "metadata": {},
     "output_type": "display_data"
    }
   ],
   "source": [
    "# Visualize \n",
    "fig, ax = plt.subplots( figsize=(8,6) )\n",
    "\n",
    "counts, bins, _ = ax.hist(mp_thetap[:n_samples,1], 50, alpha = 0.5, label = r'$\\mathrm{Truth}$')\n",
    "ax.hist(mp_thetap_gen[:,1], bins, alpha=0.5, label = r'$\\mathrm{Generated}$')\n",
    "\n",
    "ax.set_xlabel( r\"$m'$\")\n",
    "ax.set_ylabel( r'$\\mathrm{Events}$' )\n",
    "\n",
    "\n",
    "ax.legend(loc='best', frameon=False)\n",
    "\n",
    "fig.tight_layout()"
   ]
  },
  {
   "cell_type": "code",
   "execution_count": null,
   "metadata": {},
   "outputs": [],
   "source": []
  }
 ],
 "metadata": {
  "kernelspec": {
   "display_name": "Python 3 (ipykernel)",
   "language": "python",
   "name": "python3"
  },
  "language_info": {
   "codemirror_mode": {
    "name": "ipython",
    "version": 3
   },
   "file_extension": ".py",
   "mimetype": "text/x-python",
   "name": "python",
   "nbconvert_exporter": "python",
   "pygments_lexer": "ipython3",
   "version": "3.9.16"
  }
 },
 "nbformat": 4,
 "nbformat_minor": 4
}
