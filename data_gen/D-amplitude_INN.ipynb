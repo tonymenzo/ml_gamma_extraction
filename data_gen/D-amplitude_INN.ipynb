{
 "cells": [
  {
   "cell_type": "code",
   "execution_count": 1,
   "metadata": {},
   "outputs": [
    {
     "ename": "ModuleNotFoundError",
     "evalue": "No module named 'seaborn'",
     "output_type": "error",
     "traceback": [
      "\u001b[0;31m---------------------------------------------------------------------------\u001b[0m",
      "\u001b[0;31mModuleNotFoundError\u001b[0m                       Traceback (most recent call last)",
      "Cell \u001b[0;32mIn[1], line 6\u001b[0m\n\u001b[1;32m      4\u001b[0m \u001b[38;5;28;01mimport\u001b[39;00m \u001b[38;5;21;01mnumpy\u001b[39;00m \u001b[38;5;28;01mas\u001b[39;00m \u001b[38;5;21;01mnp\u001b[39;00m\n\u001b[1;32m      5\u001b[0m \u001b[38;5;28;01mimport\u001b[39;00m \u001b[38;5;21;01mmatplotlib\u001b[39;00m\u001b[38;5;21;01m.\u001b[39;00m\u001b[38;5;21;01mpyplot\u001b[39;00m \u001b[38;5;28;01mas\u001b[39;00m \u001b[38;5;21;01mplt\u001b[39;00m\n\u001b[0;32m----> 6\u001b[0m \u001b[38;5;28;01mimport\u001b[39;00m \u001b[38;5;21;01mseaborn\u001b[39;00m \u001b[38;5;28;01mas\u001b[39;00m \u001b[38;5;21;01msns\u001b[39;00m\n\u001b[1;32m      7\u001b[0m \u001b[38;5;28;01mfrom\u001b[39;00m \u001b[38;5;21;01mtqdm\u001b[39;00m \u001b[38;5;28;01mimport\u001b[39;00m tqdm\n\u001b[1;32m      9\u001b[0m sns\u001b[38;5;241m.\u001b[39mset()\n",
      "\u001b[0;31mModuleNotFoundError\u001b[0m: No module named 'seaborn'"
     ]
    }
   ],
   "source": [
    "import os\n",
    "import sys\n",
    "import random\n",
    "import numpy as np\n",
    "import matplotlib.pyplot as plt\n",
    "import seaborn as sns\n",
    "from tqdm import tqdm\n",
    "\n",
    "sns.set()\n",
    "sns.set_style(\"ticks\")\n",
    "sns.set_context(\"paper\", font_scale = 1.8)\n",
    "plt.rcParams['text.usetex'] = True\n",
    "plt.rcParams['font.size'] = 25\n",
    "\n",
    "import torch\n",
    "from torch import nn\n",
    "from torch.utils.data import Dataset\n",
    "from torch.utils.data import DataLoader\n",
    "from torch import Tensor\n",
    "from torch.nn.parameter import Parameter, UninitializedParameter\n",
    "from torch.nn import functional as F\n",
    "from torch.nn import init\n",
    "from torch.nn import Module\n",
    "import FrEIA.framework as Ff\n",
    "import FrEIA.modules as Fm\n",
    "from sklearn.model_selection import train_test_split\n",
    "\n",
    "print('Python', sys.version)"
   ]
  },
  {
   "cell_type": "code",
   "execution_count": 2,
   "metadata": {},
   "outputs": [],
   "source": [
    "class dalitz_dataset(Dataset):\n",
    "    \"\"\"\n",
    "    Creates Dalitz dataset so that it can be used by the pythorch syntax.\n",
    "    \"\"\"\n",
    "\n",
    "    def __init__(self, data):\n",
    "        self.data = data\n",
    "\n",
    "    def __len__(self):\n",
    "        return self.data.shape[0]\n",
    "\n",
    "    def __getitem__(self, idx):\n",
    "        sample = self.data[idx]\n",
    "        return sample"
   ]
  },
  {
   "cell_type": "code",
   "execution_count": 3,
   "metadata": {},
   "outputs": [],
   "source": [
    "def subnet_fc( dims_in, dims_out ):\n",
    "    return nn.Sequential( nn.Linear(dims_in, 100), \n",
    "                         nn.ReLU(),\n",
    "                         nn.Linear(100,  dims_out) )"
   ]
  },
  {
   "cell_type": "code",
   "execution_count": 4,
   "metadata": {},
   "outputs": [
    {
     "name": "stdout",
     "output_type": "stream",
     "text": [
      "Using cpu device\n"
     ]
    }
   ],
   "source": [
    "device = \"cuda\" if torch.cuda.is_available() else \"cpu\"\n",
    "print(f\"Using {device} device\")"
   ]
  },
  {
   "cell_type": "code",
   "execution_count": 5,
   "metadata": {},
   "outputs": [],
   "source": [
    "def inn_loss(z, ndim, log_jac_det):\n",
    "    l = 0.5*torch.sum(z**2, 1) - log_jac_det\n",
    "    l = l.mean() / ndim\n",
    "    return l"
   ]
  },
  {
   "cell_type": "code",
   "execution_count": 6,
   "metadata": {},
   "outputs": [],
   "source": [
    "def train(dataloader, model, optimizer, ndim, scheduler=None):\n",
    "\n",
    "    size = len(dataloader.dataset)\n",
    "    model.train()\n",
    "\n",
    "    for batch, X in enumerate(dataloader):\n",
    "        # Pass through the network\n",
    "        z, log_jac_det = model(X)\n",
    "        \n",
    "        loss = 0.0\n",
    "        \n",
    "        # Get the batch loss\n",
    "        loss = inn_loss(z, ndim, log_jac_det)\n",
    "\n",
    "        # Reset the gradients in the optimizer (see autograd tutorial in PyTorch docs)\n",
    "        optimizer.zero_grad()\n",
    "\n",
    "        # Compute gradients\n",
    "        loss.backward()\n",
    "\n",
    "        # Update the network weights\n",
    "        optimizer.step()\n",
    "        \n",
    "        if scheduler != None:\n",
    "            scheduler.step(loss)\n",
    "\n",
    "        # Print the loss every 100 updates\n",
    "        if batch % 100 == 0:\n",
    "            print(f'INN loss: {loss:>8f}, learning_rate: {optimizer.param_groups[0][\"lr\"]:>8f}')"
   ]
  },
  {
   "cell_type": "code",
   "execution_count": 7,
   "metadata": {},
   "outputs": [
    {
     "name": "stdout",
     "output_type": "stream",
     "text": [
      "Training set size:  (8000000, 2) Validation set size:  (2000000, 2)\n",
      "Model Architecture: \n",
      "SequenceINN(\n",
      "  (module_list): ModuleList(\n",
      "    (0): AllInOneBlock(\n",
      "      (softplus): Softplus(beta=0.5, threshold=20)\n",
      "      (subnet): Sequential(\n",
      "        (0): Linear(in_features=1, out_features=100, bias=True)\n",
      "        (1): ReLU()\n",
      "        (2): Linear(in_features=100, out_features=2, bias=True)\n",
      "      )\n",
      "    )\n",
      "    (1): AllInOneBlock(\n",
      "      (softplus): Softplus(beta=0.5, threshold=20)\n",
      "      (subnet): Sequential(\n",
      "        (0): Linear(in_features=1, out_features=100, bias=True)\n",
      "        (1): ReLU()\n",
      "        (2): Linear(in_features=100, out_features=2, bias=True)\n",
      "      )\n",
      "    )\n",
      "    (2): AllInOneBlock(\n",
      "      (softplus): Softplus(beta=0.5, threshold=20)\n",
      "      (subnet): Sequential(\n",
      "        (0): Linear(in_features=1, out_features=100, bias=True)\n",
      "        (1): ReLU()\n",
      "        (2): Linear(in_features=100, out_features=2, bias=True)\n",
      "      )\n",
      "    )\n",
      "    (3): AllInOneBlock(\n",
      "      (softplus): Softplus(beta=0.5, threshold=20)\n",
      "      (subnet): Sequential(\n",
      "        (0): Linear(in_features=1, out_features=100, bias=True)\n",
      "        (1): ReLU()\n",
      "        (2): Linear(in_features=100, out_features=2, bias=True)\n",
      "      )\n",
      "    )\n",
      "    (4): AllInOneBlock(\n",
      "      (softplus): Softplus(beta=0.5, threshold=20)\n",
      "      (subnet): Sequential(\n",
      "        (0): Linear(in_features=1, out_features=100, bias=True)\n",
      "        (1): ReLU()\n",
      "        (2): Linear(in_features=100, out_features=2, bias=True)\n",
      "      )\n",
      "    )\n",
      "    (5): AllInOneBlock(\n",
      "      (softplus): Softplus(beta=0.5, threshold=20)\n",
      "      (subnet): Sequential(\n",
      "        (0): Linear(in_features=1, out_features=100, bias=True)\n",
      "        (1): ReLU()\n",
      "        (2): Linear(in_features=100, out_features=2, bias=True)\n",
      "      )\n",
      "    )\n",
      "    (6): AllInOneBlock(\n",
      "      (softplus): Softplus(beta=0.5, threshold=20)\n",
      "      (subnet): Sequential(\n",
      "        (0): Linear(in_features=1, out_features=100, bias=True)\n",
      "        (1): ReLU()\n",
      "        (2): Linear(in_features=100, out_features=2, bias=True)\n",
      "      )\n",
      "    )\n",
      "    (7): AllInOneBlock(\n",
      "      (softplus): Softplus(beta=0.5, threshold=20)\n",
      "      (subnet): Sequential(\n",
      "        (0): Linear(in_features=1, out_features=100, bias=True)\n",
      "        (1): ReLU()\n",
      "        (2): Linear(in_features=100, out_features=2, bias=True)\n",
      "      )\n",
      "    )\n",
      "    (8): AllInOneBlock(\n",
      "      (softplus): Softplus(beta=0.5, threshold=20)\n",
      "      (subnet): Sequential(\n",
      "        (0): Linear(in_features=1, out_features=100, bias=True)\n",
      "        (1): ReLU()\n",
      "        (2): Linear(in_features=100, out_features=2, bias=True)\n",
      "      )\n",
      "    )\n",
      "    (9): AllInOneBlock(\n",
      "      (softplus): Softplus(beta=0.5, threshold=20)\n",
      "      (subnet): Sequential(\n",
      "        (0): Linear(in_features=1, out_features=100, bias=True)\n",
      "        (1): ReLU()\n",
      "        (2): Linear(in_features=100, out_features=2, bias=True)\n",
      "      )\n",
      "    )\n",
      "  )\n",
      ")\n"
     ]
    },
    {
     "name": "stderr",
     "output_type": "stream",
     "text": [
      "  0%|                                                                        | 0/15 [00:00<?, ?it/s]"
     ]
    },
    {
     "name": "stdout",
     "output_type": "stream",
     "text": [
      "INN loss: 0.036474, learning_rate: 0.002000\n",
      "INN loss: -1.150672, learning_rate: 0.002000\n",
      "INN loss: -1.278924, learning_rate: 0.002000\n",
      "INN loss: -1.330368, learning_rate: 0.002000\n",
      "INN loss: -1.353414, learning_rate: 0.002000\n",
      "INN loss: -1.367640, learning_rate: 0.002000\n",
      "INN loss: -1.380174, learning_rate: 0.002000\n",
      "INN loss: -1.394796, learning_rate: 0.002000\n"
     ]
    },
    {
     "name": "stderr",
     "output_type": "stream",
     "text": [
      "  7%|████▎                                                           | 1/15 [01:19<18:36, 79.75s/it]"
     ]
    },
    {
     "name": "stdout",
     "output_type": "stream",
     "text": [
      "INN loss: -1.390521, learning_rate: 0.002000\n",
      "INN loss: -1.405478, learning_rate: 0.002000\n",
      "INN loss: -1.402407, learning_rate: 0.002000\n",
      "INN loss: -1.413532, learning_rate: 0.002000\n",
      "INN loss: -1.424817, learning_rate: 0.002000\n",
      "INN loss: -1.411572, learning_rate: 0.002000\n",
      "INN loss: -1.415160, learning_rate: 0.002000\n",
      "INN loss: -1.414545, learning_rate: 0.001800\n"
     ]
    },
    {
     "name": "stderr",
     "output_type": "stream",
     "text": [
      " 13%|████████▌                                                       | 2/15 [02:58<19:43, 91.04s/it]"
     ]
    },
    {
     "name": "stdout",
     "output_type": "stream",
     "text": [
      "INN loss: -1.425532, learning_rate: 0.001800\n",
      "INN loss: -1.421523, learning_rate: 0.001620\n",
      "INN loss: -1.435519, learning_rate: 0.001620\n",
      "INN loss: -1.419350, learning_rate: 0.001620\n",
      "INN loss: -1.423764, learning_rate: 0.001458\n",
      "INN loss: -1.424329, learning_rate: 0.001312\n",
      "INN loss: -1.429556, learning_rate: 0.001181\n",
      "INN loss: -1.422799, learning_rate: 0.001181\n"
     ]
    },
    {
     "name": "stderr",
     "output_type": "stream",
     "text": [
      " 20%|████████████▊                                                   | 3/15 [04:32<18:26, 92.19s/it]"
     ]
    },
    {
     "name": "stdout",
     "output_type": "stream",
     "text": [
      "INN loss: -1.444713, learning_rate: 0.001063\n",
      "INN loss: -1.438606, learning_rate: 0.000957\n",
      "INN loss: -1.445158, learning_rate: 0.000957\n",
      "INN loss: -1.434541, learning_rate: 0.000861\n",
      "INN loss: -1.440165, learning_rate: 0.000775\n",
      "INN loss: -1.435286, learning_rate: 0.000697\n",
      "INN loss: -1.433733, learning_rate: 0.000628\n",
      "INN loss: -1.427672, learning_rate: 0.000565\n"
     ]
    },
    {
     "name": "stderr",
     "output_type": "stream",
     "text": [
      " 27%|█████████████████                                               | 4/15 [06:05<17:00, 92.75s/it]"
     ]
    },
    {
     "name": "stdout",
     "output_type": "stream",
     "text": [
      "INN loss: -1.438731, learning_rate: 0.000508\n",
      "INN loss: -1.442779, learning_rate: 0.000458\n",
      "INN loss: -1.429690, learning_rate: 0.000412\n",
      "INN loss: -1.439767, learning_rate: 0.000371\n",
      "INN loss: -1.422527, learning_rate: 0.000334\n",
      "INN loss: -1.441634, learning_rate: 0.000300\n",
      "INN loss: -1.440977, learning_rate: 0.000270\n",
      "INN loss: -1.435926, learning_rate: 0.000243\n"
     ]
    },
    {
     "name": "stderr",
     "output_type": "stream",
     "text": [
      " 33%|█████████████████████▎                                          | 5/15 [07:45<15:53, 95.32s/it]"
     ]
    },
    {
     "name": "stdout",
     "output_type": "stream",
     "text": [
      "INN loss: -1.444979, learning_rate: 0.000219\n",
      "INN loss: -1.439279, learning_rate: 0.000197\n",
      "INN loss: -1.439546, learning_rate: 0.000177\n",
      "INN loss: -1.431587, learning_rate: 0.000160\n",
      "INN loss: -1.431020, learning_rate: 0.000144\n",
      "INN loss: -1.431247, learning_rate: 0.000129\n",
      "INN loss: -1.455928, learning_rate: 0.000116\n",
      "INN loss: -1.442678, learning_rate: 0.000105\n"
     ]
    },
    {
     "name": "stderr",
     "output_type": "stream",
     "text": [
      " 40%|█████████████████████████▌                                      | 6/15 [09:12<13:51, 92.34s/it]"
     ]
    },
    {
     "name": "stdout",
     "output_type": "stream",
     "text": [
      "INN loss: -1.435339, learning_rate: 0.000094\n",
      "INN loss: -1.434779, learning_rate: 0.000085\n",
      "INN loss: -1.438705, learning_rate: 0.000076\n",
      "INN loss: -1.447081, learning_rate: 0.000069\n",
      "INN loss: -1.439845, learning_rate: 0.000062\n",
      "INN loss: -1.453713, learning_rate: 0.000056\n",
      "INN loss: -1.443375, learning_rate: 0.000056\n",
      "INN loss: -1.449530, learning_rate: 0.000050\n"
     ]
    },
    {
     "name": "stderr",
     "output_type": "stream",
     "text": [
      " 47%|█████████████████████████████▊                                  | 7/15 [10:49<12:31, 93.95s/it]"
     ]
    },
    {
     "name": "stdout",
     "output_type": "stream",
     "text": [
      "INN loss: -1.452152, learning_rate: 0.000045\n",
      "INN loss: -1.437369, learning_rate: 0.000041\n",
      "INN loss: -1.434035, learning_rate: 0.000036\n",
      "INN loss: -1.452390, learning_rate: 0.000033\n",
      "INN loss: -1.437815, learning_rate: 0.000030\n",
      "INN loss: -1.436777, learning_rate: 0.000027\n",
      "INN loss: -1.437275, learning_rate: 0.000024\n",
      "INN loss: -1.435420, learning_rate: 0.000022\n"
     ]
    },
    {
     "name": "stderr",
     "output_type": "stream",
     "text": [
      " 53%|██████████████████████████████████▏                             | 8/15 [12:23<10:57, 93.96s/it]"
     ]
    },
    {
     "name": "stdout",
     "output_type": "stream",
     "text": [
      "INN loss: -1.440020, learning_rate: 0.000019\n",
      "INN loss: -1.451095, learning_rate: 0.000017\n",
      "INN loss: -1.433990, learning_rate: 0.000016\n",
      "INN loss: -1.434940, learning_rate: 0.000014\n",
      "INN loss: -1.444555, learning_rate: 0.000013\n",
      "INN loss: -1.440414, learning_rate: 0.000011\n",
      "INN loss: -1.443133, learning_rate: 0.000010\n",
      "INN loss: -1.444155, learning_rate: 0.000009\n"
     ]
    },
    {
     "name": "stderr",
     "output_type": "stream",
     "text": [
      " 60%|██████████████████████████████████████▍                         | 9/15 [13:58<09:26, 94.38s/it]"
     ]
    },
    {
     "name": "stdout",
     "output_type": "stream",
     "text": [
      "INN loss: -1.433776, learning_rate: 0.000008\n",
      "INN loss: -1.450180, learning_rate: 0.000008\n",
      "INN loss: -1.433345, learning_rate: 0.000007\n",
      "INN loss: -1.446756, learning_rate: 0.000006\n",
      "INN loss: -1.440569, learning_rate: 0.000005\n",
      "INN loss: -1.432978, learning_rate: 0.000005\n",
      "INN loss: -1.437267, learning_rate: 0.000004\n",
      "INN loss: -1.431633, learning_rate: 0.000004\n"
     ]
    },
    {
     "name": "stderr",
     "output_type": "stream",
     "text": [
      " 67%|██████████████████████████████████████████                     | 10/15 [15:30<07:47, 93.48s/it]"
     ]
    },
    {
     "name": "stdout",
     "output_type": "stream",
     "text": [
      "INN loss: -1.444170, learning_rate: 0.000004\n",
      "INN loss: -1.440177, learning_rate: 0.000003\n",
      "INN loss: -1.433405, learning_rate: 0.000003\n",
      "INN loss: -1.440480, learning_rate: 0.000003\n",
      "INN loss: -1.442391, learning_rate: 0.000002\n",
      "INN loss: -1.443490, learning_rate: 0.000002\n",
      "INN loss: -1.448118, learning_rate: 0.000002\n",
      "INN loss: -1.459606, learning_rate: 0.000002\n"
     ]
    },
    {
     "name": "stderr",
     "output_type": "stream",
     "text": [
      " 73%|██████████████████████████████████████████████▏                | 11/15 [16:53<06:01, 90.47s/it]"
     ]
    },
    {
     "name": "stdout",
     "output_type": "stream",
     "text": [
      "INN loss: -1.456709, learning_rate: 0.000002\n",
      "INN loss: -1.443457, learning_rate: 0.000002\n",
      "INN loss: -1.435714, learning_rate: 0.000001\n",
      "INN loss: -1.444050, learning_rate: 0.000001\n",
      "INN loss: -1.441669, learning_rate: 0.000001\n",
      "INN loss: -1.448076, learning_rate: 0.000001\n",
      "INN loss: -1.441893, learning_rate: 0.000001\n",
      "INN loss: -1.426358, learning_rate: 0.000001\n"
     ]
    },
    {
     "name": "stderr",
     "output_type": "stream",
     "text": [
      " 80%|██████████████████████████████████████████████████▍            | 12/15 [18:10<04:18, 86.10s/it]"
     ]
    },
    {
     "name": "stdout",
     "output_type": "stream",
     "text": [
      "INN loss: -1.446096, learning_rate: 0.000001\n",
      "INN loss: -1.443073, learning_rate: 0.000001\n",
      "INN loss: -1.435464, learning_rate: 0.000001\n",
      "INN loss: -1.444139, learning_rate: 0.000001\n",
      "INN loss: -1.435820, learning_rate: 0.000001\n",
      "INN loss: -1.439491, learning_rate: 0.000001\n",
      "INN loss: -1.438547, learning_rate: 0.000001\n",
      "INN loss: -1.433109, learning_rate: 0.000001\n"
     ]
    },
    {
     "name": "stderr",
     "output_type": "stream",
     "text": [
      " 87%|██████████████████████████████████████████████████████▌        | 13/15 [19:24<02:45, 82.71s/it]"
     ]
    },
    {
     "name": "stdout",
     "output_type": "stream",
     "text": [
      "INN loss: -1.436764, learning_rate: 0.000001\n",
      "INN loss: -1.438192, learning_rate: 0.000001\n",
      "INN loss: -1.452959, learning_rate: 0.000001\n",
      "INN loss: -1.450247, learning_rate: 0.000001\n",
      "INN loss: -1.432588, learning_rate: 0.000001\n",
      "INN loss: -1.435905, learning_rate: 0.000001\n",
      "INN loss: -1.443889, learning_rate: 0.000001\n",
      "INN loss: -1.446298, learning_rate: 0.000001\n"
     ]
    },
    {
     "name": "stderr",
     "output_type": "stream",
     "text": [
      " 93%|██████████████████████████████████████████████████████████▊    | 14/15 [20:39<01:20, 80.31s/it]"
     ]
    },
    {
     "name": "stdout",
     "output_type": "stream",
     "text": [
      "INN loss: -1.449301, learning_rate: 0.000001\n",
      "INN loss: -1.445002, learning_rate: 0.000001\n",
      "INN loss: -1.441077, learning_rate: 0.000001\n",
      "INN loss: -1.442926, learning_rate: 0.000001\n",
      "INN loss: -1.440855, learning_rate: 0.000001\n",
      "INN loss: -1.437206, learning_rate: 0.000001\n",
      "INN loss: -1.431069, learning_rate: 0.000001\n",
      "INN loss: -1.431810, learning_rate: 0.000001\n"
     ]
    },
    {
     "name": "stderr",
     "output_type": "stream",
     "text": [
      "100%|███████████████████████████████████████████████████████████████| 15/15 [21:55<00:00, 87.68s/it]"
     ]
    },
    {
     "name": "stdout",
     "output_type": "stream",
     "text": [
      "Done!\n"
     ]
    },
    {
     "name": "stderr",
     "output_type": "stream",
     "text": [
      "\n"
     ]
    }
   ],
   "source": [
    "mp_thetap = np.load('D_Kspipi_SDP_1e7.npy')\n",
    "\n",
    "# Split data into train, validation\n",
    "mp_thetap_train, mp_thetap_val = train_test_split(mp_thetap, test_size=0.2)\n",
    "\n",
    "print(\"Training set size: \", mp_thetap_train.shape, \"Validation set size: \", mp_thetap_val.shape)\n",
    "\n",
    "# Convert into torch objects\n",
    "mp_thetap_train = torch.Tensor(mp_thetap_train)\n",
    "mp_thetap_val   = torch.Tensor(mp_thetap_val)\n",
    "\n",
    "trainset = dalitz_dataset(mp_thetap_train)\n",
    "valset   = dalitz_dataset(mp_thetap_val)\n",
    "\n",
    "batch_size = 10000\n",
    "\n",
    "train_dataloader = DataLoader(trainset, batch_size = batch_size, shuffle = True)\n",
    "val_dataloader = DataLoader(valset, batch_size = batch_size, shuffle = True)\n",
    "\n",
    "epochs = 15\n",
    "learning_rate = 0.002\n",
    "min_learning_rate = 1e-6\n",
    "\n",
    "n_dim = mp_thetap.shape[1]\n",
    "n_blocks = 10\n",
    "training_size = len(mp_thetap)\n",
    "\n",
    "# Define the model\n",
    "inn = Ff.SequenceINN( n_dim )\n",
    "for k in range(n_blocks):\n",
    "    inn.append( Fm.AllInOneBlock, subnet_constructor=subnet_fc, permute_soft=True )\n",
    "\n",
    "print(\"Model Architecture: \")\n",
    "print(inn)\n",
    "\n",
    "optimizer = torch.optim.Adam(inn.parameters(), lr=learning_rate)\n",
    "\n",
    "# Learning rate scheduler\n",
    "scheduler = torch.optim.lr_scheduler.ReduceLROnPlateau(optimizer, mode= 'min', factor = 0.9, patience = 100, min_lr = min_learning_rate)\n",
    "#scheduler = None\n",
    "\n",
    "for t in tqdm(range(epochs), ncols = 100):\n",
    "    train(train_dataloader, inn, optimizer,  n_dim, scheduler)\n",
    "    \n",
    "print(\"Done!\")"
   ]
  },
  {
   "cell_type": "code",
   "execution_count": 8,
   "metadata": {},
   "outputs": [
    {
     "name": "stdout",
     "output_type": "stream",
     "text": [
      "torch.Size([100000, 2])\n"
     ]
    },
    {
     "data": {
      "image/png": "[encoded data removed]",
      "text/plain": [
       "<Figure size 700x500 with 1 Axes>"
      ]
     },
     "metadata": {},
     "output_type": "display_data"
    }
   ],
   "source": [
    "# Latent distribution\n",
    "n_samples = 100000\n",
    "z_gen = torch.randn((n_samples, n_dim))\n",
    "\n",
    "print(z_gen.shape)\n",
    "\n",
    "# Visualize the latent distribution\n",
    "fig, axs = plt.subplots(figsize=(7,5))\n",
    "\n",
    "axs.hist(z_gen.detach().numpy().flatten(), alpha=0.5, density=True, bins=100, label=r'$z$')\n",
    "\n",
    "axs.set_xlabel('$z$ $(\\mathrm{GeV})$')\n",
    "axs.set_ylabel( r'$\\mathrm{Events}$' )\n",
    "axs.legend(loc='best', frameon=False)\n",
    "\n",
    "fig.tight_layout()"
   ]
  },
  {
   "cell_type": "code",
   "execution_count": 9,
   "metadata": {},
   "outputs": [
    {
     "name": "stdout",
     "output_type": "stream",
     "text": [
      "(100000, 2)\n",
      "[0.14043613 0.73990333]\n"
     ]
    }
   ],
   "source": [
    "# Generate m2 samples from latent distribution\n",
    "mp_thetap_gen, _ = inn(z_gen, rev=True)\n",
    "mp_thetap_gen = mp_thetap_gen.detach().numpy()[:]\n",
    "\n",
    "print(mp_thetap_gen.shape)\n",
    "print(mp_thetap_gen[0])"
   ]
  },
  {
   "cell_type": "code",
   "execution_count": 10,
   "metadata": {},
   "outputs": [
    {
     "data": {
      "image/png": "[encoded data removed]",
      "text/plain": [
       "<Figure size 800x600 with 1 Axes>"
      ]
     },
     "metadata": {},
     "output_type": "display_data"
    }
   ],
   "source": [
    "# Visualize \n",
    "fig, ax = plt.subplots( figsize=(8,6) )\n",
    "\n",
    "counts, bins, _ = ax.hist(mp_thetap[:n_samples,0], 50, alpha = 0.5, label = r'$\\mathrm{Target}$')\n",
    "ax.hist(mp_thetap_gen[:,0], bins, alpha=0.5, label = r'$\\mathrm{Generated}$')\n",
    "\n",
    "ax.set_xlabel( r\"$m'$\")\n",
    "ax.set_ylabel( r'$\\mathrm{Counts}$' )\n",
    "\n",
    "\n",
    "ax.legend(loc='best', frameon=False)\n",
    "\n",
    "fig.tight_layout()\n",
    "fig.savefig(r'figs/D-amplitude_SDP_mp_INN_target_vs_gen_v2.pdf', dpi = 300, pad_inches = .1, bbox_inches = 'tight')\n",
    "fig.savefig(r'figs/D-amplitude_SDP_mp_INN_target_vs_gen_v2.png', dpi = 300, pad_inches = .1, bbox_inches = 'tight')"
   ]
  },
  {
   "cell_type": "code",
   "execution_count": 11,
   "metadata": {},
   "outputs": [
    {
     "data": {
      "image/png": "[encoded data removed]",
      "text/plain": [
       "<Figure size 800x600 with 1 Axes>"
      ]
     },
     "metadata": {},
     "output_type": "display_data"
    }
   ],
   "source": [
    "# Visualize \n",
    "fig, ax = plt.subplots( figsize=(8,6) )\n",
    "\n",
    "counts, bins, _ = ax.hist(mp_thetap[:n_samples,1], 50, alpha = 0.5, label = r'$\\mathrm{Target}$')\n",
    "ax.hist(mp_thetap_gen[:,1], bins, alpha=0.5, label = r'$\\mathrm{Generated}$')\n",
    "\n",
    "ax.set_xlabel( r\"$\\theta'$\")\n",
    "ax.set_ylabel( r'$\\mathrm{Counts}$' )\n",
    "\n",
    "\n",
    "ax.legend(loc='best', frameon=False)\n",
    "\n",
    "fig.tight_layout()\n",
    "fig.savefig(r'figs/D-amplitude_SDP_thetap_INN_target_vs_gen_v2.pdf', dpi = 300, pad_inches = .1, bbox_inches = 'tight')\n",
    "fig.savefig(r'figs/D-amplitude_SDP_thetap_INN_target_vs_gen_v2.png', dpi = 300, pad_inches = .1, bbox_inches = 'tight')"
   ]
  },
  {
   "cell_type": "code",
   "execution_count": 24,
   "metadata": {},
   "outputs": [
    {
     "data": {
      "image/png": "[encoded data removed]",
      "text/plain": [
       "<Figure size 900x500 with 2 Axes>"
      ]
     },
     "metadata": {},
     "output_type": "display_data"
    }
   ],
   "source": [
    "# Visualize 2D Dalitz plot\n",
    "fig, (ax1, ax2) = plt.subplots(1, 2, figsize=(9,5) )\n",
    "\n",
    "h, xedges, yedges, _ = ax1.hist2d(mp_thetap[:n_samples,0], mp_thetap[:n_samples,1], 50)\n",
    "ax2.hist2d(mp_thetap_gen[:,0], mp_thetap_gen[:,1], bins = [xedges, yedges])\n",
    "\n",
    "ax1.set_xlabel(r\"$m'$\")\n",
    "ax1.set_ylabel(r\"$\\theta'$\")\n",
    "ax1.set_title(r'$\\mathrm{Target}$')\n",
    "ax1.set_aspect('equal')\n",
    "\n",
    "ax2.set_xlabel(r\"$m'$\")\n",
    "ax2.set_ylabel(r\"$\\theta'$\")\n",
    "ax2.set_title(r'$\\mathrm{Generated}$')\n",
    "ax2.set_aspect('equal')\n",
    "\n",
    "#ax.legend(loc='best', frameon=False)\n",
    "fig.subplots_adjust(wspace=0, hspace=0)\n",
    "fig.tight_layout()\n",
    "fig.savefig(r'figs/D-amplitude_SDP_INN_target.pdf', dpi = 300, pad_inches = .1, bbox_inches = 'tight')\n",
    "fig.savefig(r'figs/D-amplitude_SDP_INN_target.png', dpi = 300, pad_inches = .1, bbox_inches = 'tight')"
   ]
  },
  {
   "cell_type": "code",
   "execution_count": null,
   "metadata": {},
   "outputs": [],
   "source": []
  }
 ],
 "metadata": {
  "kernelspec": {
   "display_name": "homers_magic",
   "language": "python",
   "name": "python3"
  },
  "language_info": {
   "codemirror_mode": {
    "name": "ipython",
    "version": 3
   },
   "file_extension": ".py",
   "mimetype": "text/x-python",
   "name": "python",
   "nbconvert_exporter": "python",
   "pygments_lexer": "ipython3",
   "version": "3.12.4"
  }
 },
 "nbformat": 4,
 "nbformat_minor": 4
}
