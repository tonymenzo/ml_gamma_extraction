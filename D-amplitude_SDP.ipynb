{
 "cells": [
  {
   "cell_type": "code",
   "execution_count": 8,
   "metadata": {},
   "outputs": [],
   "source": [
    "import numpy as np\n",
    "import matplotlib.pyplot as plt\n",
    "from tqdm import tqdm"
   ]
  },
  {
   "cell_type": "code",
   "execution_count": 9,
   "metadata": {},
   "outputs": [],
   "source": [
    "class SquareDalitzPlot:\n",
    "    def __init__(self, M, m1, m2, m3):\n",
    "        self.M = M\n",
    "        self.m1 = m1\n",
    "        self.m2 = m2\n",
    "        self.m3 = m3\n",
    "        self.m = np.array([self.M, self.m1, self.m2, self.m3])\n",
    "        self.mSq = np.power(self.m, 2)\n",
    "        \n",
    "    def pCalc(self, E, mSq):\n",
    "        # Calculate momentum of a track, given its energy and mass squared.\n",
    "        pSq = E**2 - mSq\n",
    "        if pSq > 0.0:\n",
    "            return np.sqrt(pSq)\n",
    "        else:\n",
    "            return 0.0\n",
    "\n",
    "    def CfromM(self, mijSq, mikSq, i, j, k):\n",
    "        \"\"\"\n",
    "        *Following the same algorithm as written in Laura++ but converted from C++ to Python*\n",
    "        \n",
    "        Routine to calculate the cos(helicity) variables from the masses of the particles.\n",
    "        \n",
    "        Definitions:\n",
    "        theta12 is defined as the angle between 1&3 in the rest frame of 1&2\n",
    "        theta23 is defined as the angle between 3&1 in the rest frame of 2&3\n",
    "        theta13 is defined as the angle between 3&2 in the rest frame of 1&3\n",
    "        \"\"\"\n",
    "        mij = np.sqrt(mijSq)\n",
    "        mik = np.sqrt(mikSq)\n",
    "        \n",
    "        EiCmsij = (mijSq - self.mSq[j] + self.mSq[i]) / (2.0 * mij)\n",
    "        EkCmsij = (self.mSq[0] - mijSq - self.mSq[k]) / (2.0 * mij)\n",
    "        \n",
    "        if EiCmsij < m[i]:\n",
    "            print(\"WARNING in CfromM: EiCmsij =\", EiCmsij, \" is too small.\")\n",
    "            return 0.0\n",
    "        if EkCmsij < m[k]:\n",
    "            print(\"WARNING in CfromM: EkCmsij =\", EkCmsij, \" is too small.\")\n",
    "            return 0.0\n",
    "    \n",
    "        # Find track i and k momenta in ij rest frame\n",
    "        self.qi = self.pCalc(EiCmsij, self.mSq[i])\n",
    "        self.qk = self.pCalc(EkCmsij, self.mSq[k])\n",
    "    \n",
    "        # Find ij helicity angle\n",
    "        cosHel = -(mikSq - self.mSq[i] - self.mSq[k] - 2.0 * EiCmsij * EkCmsij) / (2.0 * self.qi * self.qk)\n",
    "    \n",
    "        if cosHel > 1.0:\n",
    "            cosHel = 1.0\n",
    "        elif cosHel < -1.0:\n",
    "            cosHel = -1.0\n",
    "    \n",
    "        return cosHel\n",
    "    \n",
    "    def TfromM(self, mijSq, mikSq, i, j, k):\n",
    "        cosThetaij = self.CfromM(mijSq, mikSq, i, j, k)\n",
    "        return (1 / np.pi) * np.arccos(cosThetaij)\n",
    "    \n",
    "    def MpfromM(self, mijSq, mikSq, i, j, k):\n",
    "        \"\"\"\n",
    "        Routine to calculate m' from mijSq\n",
    "        \"\"\"\n",
    "        mij = np.sqrt(mijSq)\n",
    "        mij_max = self.m[0] - self.m[k]\n",
    "        mij_min = self.m[i] + self.m[j]\n",
    "        \n",
    "        return (1 / np.pi) * np.arccos(2. * ((mij - mij_min) / (mij_max - mij_min)) - 1.)        "
   ]
  },
  {
   "cell_type": "code",
   "execution_count": 10,
   "metadata": {},
   "outputs": [
    {
     "name": "stderr",
     "output_type": "stream",
     "text": [
      "100%|████████████████████████████████████████████████| 10000000/10000000 [02:00<00:00, 82787.12it/s]\n"
     ]
    }
   ],
   "source": [
    "# Convention is m1 = Ks, m2 = pi, m3 = pi\n",
    "s12Sqs13Sqs23Sq = np.load('B_Kspipi_amp_1e7.npy')\n",
    "\n",
    "mD  = 1.86483 # GeV\n",
    "mKs = 0.497611 # GeV\n",
    "mpi = 0.13957018 # GeV\n",
    "m = np.array([mD, mKs, mpi, mpi])\n",
    "\n",
    "SDP = SquareDalitzPlot(mD, mKs, mpi, mpi)\n",
    "\n",
    "# Convert to square Dalitz plot variables from Dalitz plot variables\n",
    "mp_thetap = []\n",
    "for i in tqdm(range(len(s12Sqs13Sqs23Sq)), ncols = 100):\n",
    "    mp = SDP.MpfromM(s12Sqs13Sqs23Sq[i,0], s12Sqs13Sqs23Sq[i,1], 1, 2, 3)\n",
    "    thetap = SDP.TfromM(s12Sqs13Sqs23Sq[i,0], s12Sqs13Sqs23Sq[i,1], 1, 2, 3)\n",
    "    mp_thetap.append(np.array([mp, thetap]))\n",
    "\n",
    "mp_thetap = np.array(mp_thetap)"
   ]
  },
  {
   "cell_type": "code",
   "execution_count": 11,
   "metadata": {},
   "outputs": [],
   "source": [
    "# Save the square Dalitz plot variable data\n",
    "np.save('D_Kspipi_SDP_1e7.npy', mp_thetap)"
   ]
  },
  {
   "cell_type": "code",
   "execution_count": 12,
   "metadata": {},
   "outputs": [
    {
     "name": "stdout",
     "output_type": "stream",
     "text": [
      "[0.46183964 0.23239607]\n",
      "[0.61565424 0.52142947]\n",
      "[0.46183964 0.61565424 0.43075731 ... 0.86254867 0.56323148 0.19267715]\n"
     ]
    }
   ],
   "source": [
    "print(mp_thetap[0])\n",
    "print(mp_thetap[1])\n",
    "print(mp_thetap[:,0])"
   ]
  },
  {
   "cell_type": "code",
   "execution_count": 13,
   "metadata": {},
   "outputs": [
    {
     "data": {
      "image/png": "[encoded data removed]",
      "text/plain": [
       "<Figure size 360x288 with 1 Axes>"
      ]
     },
     "metadata": {
      "needs_background": "light"
     },
     "output_type": "display_data"
    }
   ],
   "source": [
    "fig, ax = plt.subplots(1, 1, figsize=(5,4))\n",
    "ax.hist2d(s12Sqs13Sqs23Sq[:,0], s12Sqs13Sqs23Sq[:,1], 100)\n",
    "ax.set_xlabel(r\"$s_{12}^2$\")\n",
    "ax.set_ylabel(r\"$s_{13}^2$\")\n",
    "ax.set_title('DP')\n",
    "fig.tight_layout()"
   ]
  },
  {
   "cell_type": "code",
   "execution_count": 14,
   "metadata": {},
   "outputs": [
    {
     "data": {
      "image/png": "[encoded data removed]",
      "text/plain": [
       "<Figure size 360x288 with 1 Axes>"
      ]
     },
     "metadata": {
      "needs_background": "light"
     },
     "output_type": "display_data"
    }
   ],
   "source": [
    "fig, ax = plt.subplots(1, 1, figsize=(5,4))\n",
    "ax.hist(s12Sqs13Sqs23Sq[:,0], 100, density = True)\n",
    "ax.set_xlabel(r\"$s_{12}^2$\")\n",
    "ax.set_ylabel(r\"PDF\")\n",
    "ax.set_title('DP')\n",
    "fig.tight_layout()"
   ]
  },
  {
   "cell_type": "code",
   "execution_count": 15,
   "metadata": {},
   "outputs": [
    {
     "data": {
      "image/png": "[encoded data removed]",
      "text/plain": [
       "<Figure size 360x288 with 1 Axes>"
      ]
     },
     "metadata": {
      "needs_background": "light"
     },
     "output_type": "display_data"
    }
   ],
   "source": [
    "fig, ax = plt.subplots(1, 1, figsize=(5,4))\n",
    "ax.hist(s12Sqs13Sqs23Sq[:,1], 100, density = True)\n",
    "ax.set_xlabel(r\"$s_{13}^2$\")\n",
    "ax.set_ylabel(r\"PDF\")\n",
    "ax.set_title('DP')\n",
    "fig.tight_layout()"
   ]
  },
  {
   "cell_type": "code",
   "execution_count": 16,
   "metadata": {},
   "outputs": [
    {
     "data": {
      "image/png": "[encoded data removed]",
      "text/plain": [
       "<Figure size 360x288 with 1 Axes>"
      ]
     },
     "metadata": {
      "needs_background": "light"
     },
     "output_type": "display_data"
    }
   ],
   "source": [
    "fig, ax = plt.subplots(1, 1, figsize=(5,4))\n",
    "ax.hist2d(mp_thetap[:,0], mp_thetap[:,1], 100)\n",
    "ax.set_xlabel(r\"$m'$\")\n",
    "ax.set_ylabel(r\"$\\theta'$\")\n",
    "ax.set_title('SDP')\n",
    "fig.tight_layout()"
   ]
  },
  {
   "cell_type": "code",
   "execution_count": 17,
   "metadata": {},
   "outputs": [
    {
     "data": {
      "image/png": "[encoded data removed]",
      "text/plain": [
       "<Figure size 360x288 with 1 Axes>"
      ]
     },
     "metadata": {
      "needs_background": "light"
     },
     "output_type": "display_data"
    }
   ],
   "source": [
    "fig, ax = plt.subplots(1, 1, figsize=(5,4))\n",
    "ax.hist(mp_thetap[:,0], 100, density = True)\n",
    "ax.set_xlabel(r\"$m'$\")\n",
    "ax.set_ylabel(r\"PDF\")\n",
    "ax.set_title('SDP')\n",
    "fig.tight_layout()"
   ]
  },
  {
   "cell_type": "code",
   "execution_count": 18,
   "metadata": {},
   "outputs": [
    {
     "data": {
      "image/png": "[encoded data removed]",
      "text/plain": [
       "<Figure size 360x288 with 1 Axes>"
      ]
     },
     "metadata": {
      "needs_background": "light"
     },
     "output_type": "display_data"
    }
   ],
   "source": [
    "fig, ax = plt.subplots(1, 1, figsize=(5,4))\n",
    "ax.hist(mp_thetap[:,1], 100, density = True)\n",
    "ax.set_xlabel(r\"$\\theta'$\")\n",
    "ax.set_ylabel(r\"PDF\")\n",
    "ax.set_title('SDP')\n",
    "fig.tight_layout()"
   ]
  },
  {
   "cell_type": "code",
   "execution_count": 19,
   "metadata": {},
   "outputs": [],
   "source": [
    "import math\n",
    "\n",
    "class SquareDalitzPlot:\n",
    "    def __init__(self):\n",
    "        \n",
    "        self.mMin_ = [0.0, 0.0, 0.0]  # Replace with appropriate values\n",
    "        self.mDiff_ = [0.0, 0.0, 0.0]  # Replace with appropriate values\n",
    "        self.mPrime_ = 0.0\n",
    "        self.thetaPrime_ = 0.0\n",
    "        self.m12Sq_ = 0.0\n",
    "        self.m13Sq_ = 0.0\n",
    "        self.m23Sq_ = 0.0\n",
    "        self.m1Sq_ = 0.0\n",
    "        self.m2Sq_ = 0.0\n",
    "        self.m3Sq_ = 0.0\n",
    "        self.mParentSq_ = 0.0\n",
    "        self.p1Cms12 = 0.0\n",
    "        self.p3Cms12 = 0.0\n",
    "        self.p1_Parent_ = 0.0\n",
    "        self.p2_Parent_ = 0.0\n",
    "        self.p3_Parent_ = 0.0\n",
    "        self.c12_ = 0.0\n",
    "        self.c23_ = 0.0\n",
    "        self.c13_ = 0.0\n",
    "        self.p1_12_ = 0.0\n",
    "        self.p3_12_ = 0.0\n",
    "        self.p2_23_ = 0.0\n",
    "        self.p1_23_ = 0.0\n",
    "        self.p1_13_ = 0.0\n",
    "        self.p2_13_ = 0.0\n",
    "        self.qi_ = 0.0\n",
    "        self.qk_ = 0.0\n",
    "        self.warnings_ = False\n",
    "\n",
    "    def calcSqDPVars(self):\n",
    "        # For given m_12 and cos(theta_12) values, calculate m' and theta' for the square Dalitz plot\n",
    "        value = (2.0 * (self.m12_ - self.mMin_[2]) / self.mDiff_[2]) - 1.0\n",
    "        self.mPrime_ = math.acos(value) / math.pi\n",
    "        self.thetaPrime_ = math.acos(self.c12_) / math.pi\n",
    "        # Sometimes events are assigned exactly thetaPrime = 0.0 or 1.0\n",
    "        # which gives problems with efficiency and other histograms\n",
    "        if self.thetaPrime_ == 0.0:\n",
    "            self.thetaPrime_ += 1.0e-10\n",
    "        elif self.thetaPrime_ == 1.0:\n",
    "            self.thetaPrime_ -= 1.0e-10\n",
    "\n",
    "    def calcSqDPJacobian(self, mPrime=None, thPrime=None):\n",
    "        if mPrime is None:\n",
    "            mPrime = self.mPrime_\n",
    "        if thPrime is None:\n",
    "            thPrime = self.thetaPrime_\n",
    "        # Calculate the Jacobian for the transformation\n",
    "        # m23^2, m13^2 -> m', theta' (square DP)\n",
    "        m12 = 0.5 * self.mDiff_[2] * (1.0 + math.cos(math.pi * mPrime)) + self.mMin_[2]\n",
    "        m12Sq = m12 * m12\n",
    "\n",
    "        e1Cms12 = (m12Sq - self.m2Sq_ + self.m1Sq_) / (2.0 * m12)\n",
    "        e3Cms12 = (self.mParentSq_ - m12Sq - self.m3Sq_) / (2.0 * m12)\n",
    "\n",
    "        p1Cms12 = self.pCalc(e1Cms12, self.m1Sq_)\n",
    "        p3Cms12 = self.pCalc(e3Cms12, self.m3Sq_)\n",
    "\n",
    "        deriv1 = math.pi / 2 * self.mDiff_[2] * math.sin(math.pi * mPrime)\n",
    "        deriv2 = math.pi * math.sin(math.pi * thPrime)\n",
    "\n",
    "        jacobian = 4.0 * p1Cms12 * p3Cms12 * m12 * deriv1 * deriv2\n",
    "\n",
    "        return jacobian\n",
    "\n",
    "    def updateMassSquares(self, m13Sq, m23Sq):\n",
    "        self.m13Sq_ = m13Sq\n",
    "        if self.m13Sq_ > 0.0:\n",
    "            self.m13_ = math.sqrt(self.m13Sq_)\n",
    "        else:\n",
    "            self.m13_ = 0.0\n",
    "\n",
    "        self.m23Sq_ = m23Sq\n",
    "        if self.m23Sq_ > 0.0:\n",
    "            self.m23_ = math.sqrt(self.m23Sq_)\n",
    "        else:\n",
    "            self.m23_ = 0.0\n",
    "\n",
    "        # Now calculate m12Sq and m12.\n",
    "        self.calcm12Sq()\n",
    "\n",
    "        # Calculate momenta of tracks in parent (B, D etc.) rest-frame\n",
    "        self.calcParentFrameMomenta()\n",
    "\n",
    "    def calcParentFrameMomenta(self):\n",
    "        e1 = (self.mParentSq_ + self.m1Sq_ - self.m23Sq_) / (2.0 * self.mParent_)\n",
    "        e2 = (self.mParentSq_ + self.m2Sq_ - self.m13Sq_) / (2.0 * self.mParent_)\n",
    "        e3 = (self.mParentSq_ + self.m3Sq_ - self.m12Sq_) / (2.0 * self.mParent_)\n",
    "\n",
    "        self.p1_Parent_ = self.pCalc(e1, self.m1Sq_)\n",
    "        self.p2_Parent_ = self.pCalc(e2, self.m2Sq_)\n",
    "        self.p3_Parent_ = self.pCalc(e3, self.m3Sq_)\n",
    "\n",
    "    def calcHelicities(self):\n",
    "        # Calculate helicity angle cosines, given m12Sq, m13Sq and m23Sq.\n",
    "        # cij_ is the cosine of the helicity angle in the rest frame of the\n",
    "        # system of particles i and j.\n",
    "        # It is (but note the caveat below) the angle between tracks i and k\n",
    "        # in the ij rest frame with indices permuted cyclically.\n",
    "        # However, it is important to note that it is not exactly a cyclic\n",
    "        # permutation (there is a special treatment for c23 inside the cFromM\n",
    "        # function) for reasons of preserving the symmetry about m13=m23 for\n",
    "        # symmetric final states.\n",
    "        # The precise definitions are:\n",
    "        # theta12 is defined as the angle between 1&3 in the rest frame of 1&2\n",
    "        # theta23 is defined as the angle between 3&1 in the rest frame of 2&3\n",
    "        # theta13 is defined as the angle between 3&2 in the rest frame of 1&3\n",
    "        #\n",
    "        # It is a prerequisite that all mij_ and mijSq_ variables be correctly set.\n",
    "\n",
    "        zero, one, two = 0, 1, 2\n",
    "\n",
    "        self.c12_ = self.cFromM(self.m12Sq_, self.m13Sq_, self.m12_, zero, one, two)\n",
    "        self.p1_12_ = self.qi_\n",
    "        self.p3_12_ = self.qk_  # i, j = 12 (rest frame), k = 3\n",
    "        self.c23_ = self.cFromM(self.m23Sq_, self.m12Sq_, self.m23_, one, two, zero)\n",
    "        self.p2_23_ = self.qi_\n",
    "        self.p1_23_ = self.qk_  # i, j = 23 (rest frame), k = 1\n",
    "        self.c13_ = self.cFromM(self.m13Sq_, self.m23Sq_, self.m13_, two, zero, one)\n",
    "        self.p1_13_ = self.qi_\n",
    "        self.p2_13_ = self.qk_  # i, j = 31 (rest frame), k = 2\n",
    "\n",
    "    def cFromM(self, mijSq, mikSq, mij, i, j, k):\n",
    "        # Routine to calculate the cos(helicity) variables from the masses of the particles.\n",
    "        # (See comment in LauKinematics::calcHelicities for futher information.)\n",
    "\n",
    "        EiCmsij = (mijSq - self.mSq_[j] + self.mSq_[i]) / (2.0 * mij)\n",
    "        EkCmsij = (self.mParentSq_ - mijSq - self.mSq_[k]) / (2.0 * mij)\n",
    "\n",
    "        if EiCmsij < self.mass_[i]:\n",
    "            if self.warnings_:\n",
    "                print(\"WARNING in LauKinematics::cFromM : EiCmsij =\", EiCmsij, \"too small < mass_[\", i, \"] =\", self.mass_[i], \"in cFromM, i, j, k =\", i, \",\", j, \",\", k,)\n",
    "                print(\"                                 : mijSq =\", mijSq, \"; mij =\", mij, \"; mSq_[\", j, \"] =\", self.mSq_[j], \"; mSq_[\", i, \"] =\", self.mSq_[i],)\n",
    "            return 0.0\n",
    "        if EkCmsij < self.mass_[k]:\n",
    "            if self.warnings_:\n",
    "                print(\"WARNING in LauKinematics::cFromM : EkCmsij =\", EkCmsij, \"too small < mass_[\", k, \"] =\", self.mass_[k], \"in cFromM, i, j, k =\", i, \",\", j, \",\", k,)\n",
    "                print(\"                                 : mijSq =\", mijSq, \"; mij =\", mij, \"; mSq_[\", j, \"] =\", self.mSq_[j], \"; mSq_[\", i, \"] =\", self.mSq_[i],)\n",
    "            return 0.0\n",
    "\n",
    "        # Find track i and k momenta in ij rest frame\n",
    "        self.qi_ = self.pCalc(EiCmsij, self.mSq_[i])\n",
    "        self.qk_ = self.pCalc(EkCmsij, self.mSq_[k])\n",
    "\n",
    "        # Find ij helicity angle\n",
    "        cosHel = -(mikSq - self.mSq_[i] - self.mSq_[k] - 2.0 * EiCmsij * EkCmsij) / (\n",
    "            2.0 * self.qi_ * self.qk_\n",
    "        )\n",
    "\n",
    "        if cosHel > 1.0:\n",
    "            cosHel = 1.0\n",
    "        elif cosHel < -1.0:\n",
    "            cosHel = -1.0\n",
    "\n",
    "        return cosHel\n",
    "\n",
    "    def pCalc(self, e, mSq):\n",
    "        # Calculate momentum of a track, given its energy and mass squared.\n",
    "        pSq = e * e - mSq\n",
    "        if pSq > 0.0:\n",
    "            return math.sqrt(pSq)\n",
    "        else:\n",
    "            return 0.0\n",
    "\n",
    "    def calcm12Sq(self):\n",
    "        self.m12Sq_ = self.mParentSq_ + self.m1Sq_ + self.m2Sq_ + self.m3Sq_ - self.m13Sq_ - self.m23Sq_\n",
    "\n",
    "    def setParentMass(self, mParent):\n",
    "        self.mParent_ = mParent\n",
    "        self.mParentSq_ = mParent * mParent\n",
    "\n",
    "    def setParticleMasses(self, m1, m2, m3):\n",
    "        self.m1_ = m1\n",
    "        self.m2_ = m2\n",
    "        self.m3_ = m3\n",
    "        self.m1Sq_ = m1 * m1\n",
    "        self.m2Sq_ = m2 * m2\n",
    "        self.m3Sq_ = m3 * m3\n",
    "\n",
    "    def setMassRange(self, mMin1, mMin2, mMin3, mDiff1, mDiff2, mDiff3):\n",
    "        self.mMin_[0] = mMin1\n",
    "        self.mMin_[1] = mMin2\n",
    "        self.mMin_[2] = mMin3\n",
    "        self.mDiff_[0] = mDiff1\n",
    "        self.mDiff_[1] = mDiff2\n",
    "        self.mDiff_[2] = mDiff3\n",
    "\n",
    "    def setWarnings(self, enableWarnings):\n",
    "        self.warnings_ = enableWarnings\n"
   ]
  },
  {
   "cell_type": "code",
   "execution_count": null,
   "metadata": {},
   "outputs": [
    {
     "ename": "SyntaxError",
     "evalue": "invalid syntax (692447002.py, line 3)",
     "output_type": "error",
     "traceback": [
      "\u001b[0;36m  Input \u001b[0;32mIn [20]\u001b[0;36m\u001b[0m\n\u001b[0;31m    void LauKinematics::calcSqDPVars()\u001b[0m\n\u001b[0m         ^\u001b[0m\n\u001b[0;31mSyntaxError\u001b[0m\u001b[0;31m:\u001b[0m invalid syntax\n"
     ]
    }
   ],
   "source": [
    "# Convert to square Dalitz variables\n",
    "\n",
    "void LauKinematics::calcSqDPVars()\n",
    "    {\n",
    "            // For given m_12 and cos(theta_12) values, calculate m' and theta' for the square Dalitz plot\n",
    "            Double_t value = (2.0*(m12_ - mMin_[2])/mDiff_[2]) - 1.0;\n",
    "            mPrime_ = LauConstants::invPi*TMath::ACos(value);\n",
    "            thetaPrime_ = LauConstants::invPi*TMath::ACos(c12_);\n",
    "            // Sometimes events are assigned exactly thetaPrime = 0.0 or 1.0\n",
    "            // which gives problems with efficiency and other histograms\n",
    "            if (thetaPrime_ == 0.0)\n",
    "            {\n",
    "                    thetaPrime_ += 1.0e-10;\n",
    "            } else if (thetaPrime_ == 1.0)\n",
    "            {\n",
    "                    thetaPrime_ -= 1.0e-10;\n",
    "            }\n",
    "    }\n",
    "    \n",
    "    Double_t LauKinematics::calcSqDPJacobian() const\n",
    "    {\n",
    "            return this->calcSqDPJacobian(mPrime_,thetaPrime_);\n",
    "    }\n",
    "    \n",
    "    Double_t LauKinematics::calcSqDPJacobian(const Double_t mPrime, const Double_t thPrime) const\n",
    "    {\n",
    "            // Calculate the Jacobian for the transformation \n",
    "            // m23^2, m13^2 -> m', theta' (square DP)\n",
    "            const Double_t m12 = 0.5*mDiff_[2]*(1.0 + TMath::Cos(LauConstants::pi*mPrime)) + mMin_[2];\n",
    "            const Double_t m12Sq = m12*m12;\n",
    "    \n",
    "            const Double_t e1Cms12 = (m12Sq - m2Sq_ + m1Sq_)/(2.0*m12);\n",
    "            const Double_t e3Cms12 = (mParentSq_ - m12Sq - m3Sq_)/(2.0*m12);\n",
    "    \n",
    "            const Double_t p1Cms12 = this->pCalc(e1Cms12, m1Sq_);\n",
    "            const Double_t p3Cms12 = this->pCalc(e3Cms12, m3Sq_);\n",
    "    \n",
    "            const Double_t deriv1 = LauConstants::piBy2*mDiff_[2]*TMath::Sin(LauConstants::pi*mPrime);\n",
    "            const Double_t deriv2 = LauConstants::pi*TMath::Sin(LauConstants::pi*thPrime);\n",
    "    \n",
    "            const Double_t jacobian = 4.0*p1Cms12*p3Cms12*m12*deriv1*deriv2;\n",
    "    \n",
    "            return jacobian;\n",
    "    }\n",
    "    \n",
    "    void LauKinematics::updateMassSquares(const Double_t m13Sq, const Double_t m23Sq)\n",
    "    {\n",
    "            m13Sq_ = m13Sq;\n",
    "            if (m13Sq_ > 0.0) {\n",
    "                    m13_ = TMath::Sqrt(m13Sq_);\n",
    "            } else {\n",
    "                    m13_ = 0.0;\n",
    "            }\n",
    "    \n",
    "            m23Sq_ = m23Sq;\n",
    "            if (m23Sq_ > 0.0) {\n",
    "                    m23_ = TMath::Sqrt(m23Sq_);\n",
    "            } else {\n",
    "                    m23_ = 0.0;\n",
    "            }\n",
    "    \n",
    "            // Now calculate m12Sq and m12.\n",
    "            this->calcm12Sq();\n",
    "    \n",
    "            // Calculate momenta of tracks in parent (B, D etc.) rest-frame\n",
    "            this->calcParentFrameMomenta();\n",
    "void LauKinematics::calcParentFrameMomenta()\n",
    "    {\n",
    "            Double_t e1 = (mParentSq_ + m1Sq_ - m23Sq_) / (2.0*mParent_);\n",
    "            Double_t e2 = (mParentSq_ + m2Sq_ - m13Sq_) / (2.0*mParent_);\n",
    "            Double_t e3 = (mParentSq_ + m3Sq_ - m12Sq_) / (2.0*mParent_);\n",
    "    \n",
    "            p1_Parent_ = this->pCalc(e1, m1Sq_);\n",
    "            p2_Parent_ = this->pCalc(e2, m2Sq_);\n",
    "            p3_Parent_ = this->pCalc(e3, m3Sq_);\n",
    "    }\n",
    "    \n",
    "void LauKinematics::calcHelicities()\n",
    "    {\n",
    "            // Calculate helicity angle cosines, given m12Sq, m13Sq and m23Sq.\n",
    "            // cij_ is the cosine of the helicity angle in the rest frame of the\n",
    "            // system of particles i and j.\n",
    "            // It is (but note the caveat below) the angle between tracks i and k\n",
    "            // in the ij rest frame with indices permuted cyclically.\n",
    "            // However, it is important to note that it is not exactly a cyclic\n",
    "            // permutation (there is a special treatment for c23 inside the cFromM\n",
    "            // function) for reasons of preserving the symmetry about m13=m23 for\n",
    "            // symmetric final states.\n",
    "            // The precise definitions are:\n",
    "            // theta12 is defined as the angle between 1&3 in the rest frame of 1&2\n",
    "            // theta23 is defined as the angle between 3&1 in the rest frame of 2&3\n",
    "            // theta13 is defined as the angle between 3&2 in the rest frame of 1&3\n",
    "            //\n",
    "            // It is a prerequisite that all mij_ and mijSq_ variables be correctly set.\n",
    "    \n",
    "            Int_t zero(0), one(1), two(2);\n",
    "    \n",
    "            c12_ = cFromM(m12Sq_, m13Sq_, m12_, zero, one, two);\n",
    "            p1_12_ = qi_; p3_12_ = qk_; // i, j = 12 (rest frame), k = 3\n",
    "            c23_ = cFromM(m23Sq_, m12Sq_, m23_, one, two, zero);\n",
    "            p2_23_ = qi_; p1_23_ = qk_; // i, j = 23 (rest frame), k = 1\n",
    "            c13_ = cFromM(m13Sq_, m23Sq_, m13_, two, zero, one);\n",
    "            p1_13_ = qi_; p2_13_ = qk_; // i, j = 31 (rest frame), k = 2\n",
    "    \n",
    "    }\n",
    "    \n",
    "    Double_t LauKinematics::cFromM(const Double_t mijSq, const Double_t mikSq, const Double_t mij, const Int_t i, const Int_t j, const Int_t k) const\n",
    "    {\n",
    "            // Routine to calculate the cos(helicity) variables from the masses of the particles.\n",
    "            // (See comment in LauKinematics::calcHelicities for futher information.)\n",
    "    \n",
    "            Double_t EiCmsij = (mijSq - mSq_[j] + mSq_[i])/(2.0*mij);\n",
    "            Double_t EkCmsij = (mParentSq_ - mijSq - mSq_[k])/(2.0*mij);\n",
    "    \n",
    "            if (EiCmsij < mass_[i]) {\n",
    "                    if (warnings_) {\n",
    "                            std::cerr<<\"WARNING in LauKinematics::cFromM : EiCmsij = \"<<EiCmsij<<\" too small < mass_[\"<<i<<\"] = \"<<mass_[i]<<\" in cFromM, i, j, k = \"<<i<<\", \"<<j<<\", \"<<k<<std::endl;\n",
    "                            std::cerr<<\"                                 : mijSq = \"<<mijSq<<\"; mij = \"<<mij<<\"; mSq_[\"<<j<<\"] = \"<<mSq_[j]<<\"; mSq_[\"<<i<<\"] = \"<<mSq_[i]<<std::endl;\n",
    "                    }\n",
    "                    return 0.0;\n",
    "            }\n",
    "            if (EkCmsij < mass_[k]) {\n",
    "                    if (warnings_) {\n",
    "                            std::cerr<<\"WARNING in LauKinematics::cFromM : EkCmsij = \"<<EkCmsij<<\" too small < mass_[\"<<k<<\"] = \"<<mass_[k]<<\" in cFromM, i, j, k = \"<<i<<\", \"<<j<<\", \"<<k<<std::endl;\n",
    "                            std::cerr<<\"                                 : mijSq = \"<<mijSq<<\"; mij = \"<<mij<<\"; mSq_[\"<<j<<\"] = \"<<mSq_[j]<<\"; mSq_[\"<<i<<\"] = \"<<mSq_[i]<<std::endl;\n",
    "                    }\n",
    "                    return 0.0;\n",
    "            }\n",
    "    \n",
    "            // Find track i and k momenta in ij rest frame\n",
    "            qi_ = this->pCalc(EiCmsij, mSq_[i]);\n",
    "            qk_ = this->pCalc(EkCmsij, mSq_[k]);\n",
    "    \n",
    "            // Find ij helicity angle\n",
    "            Double_t cosHel = -(mikSq - mSq_[i] - mSq_[k] - 2.0*EiCmsij*EkCmsij)/(2.0*qi_*qk_);\n",
    "    \n",
    "            if (cosHel > 1.0) {\n",
    "                    cosHel = 1.0;\n",
    "            } else if (cosHel < -1.0) {\n",
    "                    cosHel = -1.0;\n",
    "            }\n",
    "    \n",
    "            if (i == 1) {cosHel *= -1.0;}\n",
    "    \n",
    "            return cosHel;\n",
    "    }"
   ]
  }
 ],
 "metadata": {
  "kernelspec": {
   "display_name": "base",
   "language": "python",
   "name": "python3"
  },
  "language_info": {
   "codemirror_mode": {
    "name": "ipython",
    "version": 3
   },
   "file_extension": ".py",
   "mimetype": "text/x-python",
   "name": "python",
   "nbconvert_exporter": "python",
   "pygments_lexer": "ipython3",
   "version": "3.9.12"
  }
 },
 "nbformat": 4,
 "nbformat_minor": 4
}
